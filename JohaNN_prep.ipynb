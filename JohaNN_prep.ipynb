{
 "cells": [
  {
   "cell_type": "markdown",
   "metadata": {},
   "source": [
    "### Get notes and parse melodies\n",
    "\n",
    "1. Iterate over measures\n",
    "2. Iterate over notes and rests\n",
    "3. Encode `(pitch_class/rest, beat_type, duration)` and append to `grammars`\n",
    "4. Build corpus from `list(grammars)`\n",
    "5. Build vocab from `set(corpus)`\n",
    "6. Build index lookup dicts from corpus\n"
   ]
  },
  {
   "cell_type": "code",
   "execution_count": 225,
   "metadata": {
    "collapsed": false
   },
   "outputs": [],
   "source": [
    "from music21 import converter, clef, stream, pitch, note, meter, midi\n",
    "import numpy as np\n",
    "from keras.models import Sequential\n",
    "from keras.layers.core import Dense, Activation, Dropout\n",
    "from keras.layers.recurrent import LSTM"
   ]
  },
  {
   "cell_type": "code",
   "execution_count": 102,
   "metadata": {
    "collapsed": false
   },
   "outputs": [],
   "source": [
    "midi_stream = converter.parse('bwv-1011-1.mid')\n",
    "midi_stream = midi_stream[0]\n",
    "midi_stream.clef = clef.BassClef()"
   ]
  },
  {
   "cell_type": "code",
   "execution_count": 28,
   "metadata": {
    "collapsed": false
   },
   "outputs": [
    {
     "data": {
      "text/plain": [
       "'/Users/naoya/ds/metis/projects/kojak/johann/bwv-1011-1.xml'"
      ]
     },
     "execution_count": 28,
     "metadata": {},
     "output_type": "execute_result"
    }
   ],
   "source": [
    "midi_stream.write('musicxml', 'bwv-1011-1.xml')"
   ]
  },
  {
   "cell_type": "code",
   "execution_count": 193,
   "metadata": {
    "collapsed": true
   },
   "outputs": [],
   "source": [
    "def parse_notes(midi_stream):\n",
    "    melody_corpus = []\n",
    "\n",
    "    last_pitch = 1\n",
    "    chord_buffer = []\n",
    "    prev_offset = 0.0\n",
    "    for m in midi_stream.measures(1, None):\n",
    "        time_sig = m.timeSignature\n",
    "        for nr in m.flat.notesAndRests:\n",
    "            offset_loc = nr.offset\n",
    "            pitch = nr.pitch.pitchClass + 1  if isinstance(nr, note.Note) else 0\n",
    "            beat_strength = round(nr.beatStrength * 4.0, 0)\n",
    "            duration = float(nr.quarterLength)\n",
    "\n",
    "            note_repr = (pitch, beat_strength, duration)\n",
    "            # Handle chords\n",
    "            if nr.offset == prev_offset:\n",
    "                if note_repr[0] > 0:\n",
    "                    chord_buffer.append(note_repr)\n",
    "            else:\n",
    "                if chord_buffer: # Choose tone from chord buffer closest to current note\n",
    "                    chord_melody_tone = sorted(chord_buffer, key=lambda x: abs(x[0] - pitch))[0]\n",
    "                    melody_corpus.append(chord_melody_tone)\n",
    "                melody_corpus.append(note_repr)\n",
    "                chord_buffer = []\n",
    "            prev_offset = nr.offset\n",
    "    \n",
    "    return melody_corpus\n"
   ]
  },
  {
   "cell_type": "code",
   "execution_count": 194,
   "metadata": {
    "collapsed": true
   },
   "outputs": [],
   "source": [
    "KEY_SIG_OFFSET = 0\n",
    "\n",
    "def build_corpus(midi_files):\n",
    "    melody_corpus = []\n",
    "    for file in midi_files:\n",
    "        midi_stream = converter.parse(file)\n",
    "        midi_stream = midi_stream[0]\n",
    "        key_sig = midi_stream.keySignature\n",
    "        midi_stream.transpose(KEY_SIG_OFFSET - key_sig.tonic.pitchClass, inPlace=True)\n",
    "        melody_corpus.extend(parse_notes(midi_stream))\n",
    "    # map indices for constructing matrix representations\n",
    "    melody_set = set(melody_corpus)\n",
    "    notes_indices = {note: i for i, note in enumerate(melody_set)}\n",
    "    indices_notes = {i: note for i, note in enumerate(melody_set)}\n",
    "    \n",
    "    return melody_corpus, melody_set, notes_indices, indices_notes\n",
    "        "
   ]
  },
  {
   "cell_type": "code",
   "execution_count": 195,
   "metadata": {
    "collapsed": false
   },
   "outputs": [],
   "source": [
    "midi_files = []\n",
    "with open('midi_files') as filelist:\n",
    "    for f in filelist:\n",
    "        midi_files.append(f.replace('\\n', ''))"
   ]
  },
  {
   "cell_type": "code",
   "execution_count": 196,
   "metadata": {
    "collapsed": false
   },
   "outputs": [
    {
     "ename": "KeyboardInterrupt",
     "evalue": "",
     "output_type": "error",
     "traceback": [
      "\u001b[0;31m-------------------------\u001b[0m",
      "\u001b[0;31mKeyboardInterrupt\u001b[0mTraceback (most recent call last)",
      "\u001b[0;32m<ipython-input-196-4e5fc02421d9>\u001b[0m in \u001b[0;36m<module>\u001b[0;34m()\u001b[0m\n\u001b[0;32m----> 1\u001b[0;31m \u001b[0mmelody_corpus\u001b[0m\u001b[0;34m,\u001b[0m \u001b[0mmelody_set\u001b[0m\u001b[0;34m,\u001b[0m \u001b[0mnotes_indices\u001b[0m\u001b[0;34m,\u001b[0m \u001b[0mindices_notes\u001b[0m \u001b[0;34m=\u001b[0m \u001b[0mbuild_corpus\u001b[0m\u001b[0;34m(\u001b[0m\u001b[0mmidi_files\u001b[0m\u001b[0;34m)\u001b[0m\u001b[0;34m\u001b[0m\u001b[0m\n\u001b[0m",
      "\u001b[0;32m<ipython-input-194-aa52fdb6463d>\u001b[0m in \u001b[0;36mbuild_corpus\u001b[0;34m(midi_files)\u001b[0m\n\u001b[1;32m      8\u001b[0m         \u001b[0mkey_sig\u001b[0m \u001b[0;34m=\u001b[0m \u001b[0mmidi_stream\u001b[0m\u001b[0;34m.\u001b[0m\u001b[0mkeySignature\u001b[0m\u001b[0;34m\u001b[0m\u001b[0m\n\u001b[1;32m      9\u001b[0m         \u001b[0mmidi_stream\u001b[0m\u001b[0;34m.\u001b[0m\u001b[0mtranspose\u001b[0m\u001b[0;34m(\u001b[0m\u001b[0mKEY_SIG_OFFSET\u001b[0m \u001b[0;34m-\u001b[0m \u001b[0mkey_sig\u001b[0m\u001b[0;34m.\u001b[0m\u001b[0mtonic\u001b[0m\u001b[0;34m.\u001b[0m\u001b[0mpitchClass\u001b[0m\u001b[0;34m,\u001b[0m \u001b[0minPlace\u001b[0m\u001b[0;34m=\u001b[0m\u001b[0;32mTrue\u001b[0m\u001b[0;34m)\u001b[0m\u001b[0;34m\u001b[0m\u001b[0m\n\u001b[0;32m---> 10\u001b[0;31m         \u001b[0mmelody_corpus\u001b[0m\u001b[0;34m.\u001b[0m\u001b[0mextend\u001b[0m\u001b[0;34m(\u001b[0m\u001b[0mparse_notes\u001b[0m\u001b[0;34m(\u001b[0m\u001b[0mmidi_stream\u001b[0m\u001b[0;34m)\u001b[0m\u001b[0;34m)\u001b[0m\u001b[0;34m\u001b[0m\u001b[0m\n\u001b[0m\u001b[1;32m     11\u001b[0m     \u001b[0;31m# map indices for constructing matrix representations\u001b[0m\u001b[0;34m\u001b[0m\u001b[0;34m\u001b[0m\u001b[0m\n\u001b[1;32m     12\u001b[0m     \u001b[0mmelody_set\u001b[0m \u001b[0;34m=\u001b[0m \u001b[0mset\u001b[0m\u001b[0;34m(\u001b[0m\u001b[0mmelody_corpus\u001b[0m\u001b[0;34m)\u001b[0m\u001b[0;34m\u001b[0m\u001b[0m\n",
      "\u001b[0;32m<ipython-input-193-b71035042182>\u001b[0m in \u001b[0;36mparse_notes\u001b[0;34m(midi_stream)\u001b[0m\n\u001b[1;32m      5\u001b[0m     \u001b[0mchord_buffer\u001b[0m \u001b[0;34m=\u001b[0m \u001b[0;34m[\u001b[0m\u001b[0;34m]\u001b[0m\u001b[0;34m\u001b[0m\u001b[0m\n\u001b[1;32m      6\u001b[0m     \u001b[0mprev_offset\u001b[0m \u001b[0;34m=\u001b[0m \u001b[0;36m0.0\u001b[0m\u001b[0;34m\u001b[0m\u001b[0m\n\u001b[0;32m----> 7\u001b[0;31m     \u001b[0;32mfor\u001b[0m \u001b[0mm\u001b[0m \u001b[0;32min\u001b[0m \u001b[0mmidi_stream\u001b[0m\u001b[0;34m.\u001b[0m\u001b[0mmeasures\u001b[0m\u001b[0;34m(\u001b[0m\u001b[0;36m1\u001b[0m\u001b[0;34m,\u001b[0m \u001b[0;32mNone\u001b[0m\u001b[0;34m)\u001b[0m\u001b[0;34m:\u001b[0m\u001b[0;34m\u001b[0m\u001b[0m\n\u001b[0m\u001b[1;32m      8\u001b[0m         \u001b[0mtime_sig\u001b[0m \u001b[0;34m=\u001b[0m \u001b[0mm\u001b[0m\u001b[0;34m.\u001b[0m\u001b[0mtimeSignature\u001b[0m\u001b[0;34m\u001b[0m\u001b[0m\n\u001b[1;32m      9\u001b[0m         \u001b[0;32mfor\u001b[0m \u001b[0mnr\u001b[0m \u001b[0;32min\u001b[0m \u001b[0mm\u001b[0m\u001b[0;34m.\u001b[0m\u001b[0mflat\u001b[0m\u001b[0;34m.\u001b[0m\u001b[0mnotesAndRests\u001b[0m\u001b[0;34m:\u001b[0m\u001b[0;34m\u001b[0m\u001b[0m\n",
      "\u001b[0;32m/Users/naoya/anaconda/lib/python3.5/site-packages/music21/stream/__init__.py\u001b[0m in \u001b[0;36mmeasures\u001b[0;34m(self, numberStart, numberEnd, collect, gatherSpanners, ignoreNumbers)\u001b[0m\n\u001b[1;32m   3467\u001b[0m         \u001b[0;31m# this will  return a deepcopy of all objects\u001b[0m\u001b[0;34m\u001b[0m\u001b[0;34m\u001b[0m\u001b[0m\n\u001b[1;32m   3468\u001b[0m         \u001b[0;32mif\u001b[0m \u001b[0mlen\u001b[0m\u001b[0;34m(\u001b[0m\u001b[0mmStreamIter\u001b[0m\u001b[0;34m)\u001b[0m \u001b[0;34m==\u001b[0m \u001b[0;36m0\u001b[0m\u001b[0;34m:\u001b[0m\u001b[0;34m\u001b[0m\u001b[0m\n\u001b[0;32m-> 3469\u001b[0;31m             \u001b[0msrcObj\u001b[0m \u001b[0;34m=\u001b[0m \u001b[0mself\u001b[0m\u001b[0;34m.\u001b[0m\u001b[0mmakeNotation\u001b[0m\u001b[0;34m(\u001b[0m\u001b[0minPlace\u001b[0m\u001b[0;34m=\u001b[0m\u001b[0;32mFalse\u001b[0m\u001b[0;34m)\u001b[0m\u001b[0;34m\u001b[0m\u001b[0m\n\u001b[0m\u001b[1;32m   3470\u001b[0m             \u001b[0;31m# need to set srcObj to this new stream\u001b[0m\u001b[0;34m\u001b[0m\u001b[0;34m\u001b[0m\u001b[0m\n\u001b[1;32m   3471\u001b[0m             \u001b[0mmStreamIter\u001b[0m \u001b[0;34m=\u001b[0m \u001b[0msrcObj\u001b[0m\u001b[0;34m.\u001b[0m\u001b[0mgetElementsByClass\u001b[0m\u001b[0;34m(\u001b[0m\u001b[0;34m'Measure'\u001b[0m\u001b[0;34m)\u001b[0m\u001b[0;34m\u001b[0m\u001b[0m\n",
      "\u001b[0;32m/Users/naoya/anaconda/lib/python3.5/site-packages/music21/stream/__init__.py\u001b[0m in \u001b[0;36mmakeNotation\u001b[0;34m(self, meterStream, refStreamOrTimeRange, inPlace, bestClef, **subroutineKeywords)\u001b[0m\n\u001b[1;32m   5876\u001b[0m         \u001b[0;31m#environLocal.printDebug(['makeNotation(): meterStream:', meterStream, meterStream[0]])\u001b[0m\u001b[0;34m\u001b[0m\u001b[0;34m\u001b[0m\u001b[0m\n\u001b[1;32m   5877\u001b[0m         \u001b[0;32mtry\u001b[0m\u001b[0;34m:\u001b[0m\u001b[0;34m\u001b[0m\u001b[0m\n\u001b[0;32m-> 5878\u001b[0;31m             \u001b[0mmeasureStream\u001b[0m\u001b[0;34m.\u001b[0m\u001b[0mmakeTies\u001b[0m\u001b[0;34m(\u001b[0m\u001b[0mmeterStream\u001b[0m\u001b[0;34m,\u001b[0m \u001b[0minPlace\u001b[0m\u001b[0;34m=\u001b[0m\u001b[0;32mTrue\u001b[0m\u001b[0;34m)\u001b[0m\u001b[0;34m\u001b[0m\u001b[0m\n\u001b[0m\u001b[1;32m   5879\u001b[0m         \u001b[0;32mexcept\u001b[0m \u001b[0mStreamException\u001b[0m \u001b[0;32mas\u001b[0m \u001b[0me\u001b[0m\u001b[0;34m:\u001b[0m\u001b[0;34m\u001b[0m\u001b[0m\n\u001b[1;32m   5880\u001b[0m             \u001b[0mstrE\u001b[0m \u001b[0;34m=\u001b[0m \u001b[0mstr\u001b[0m\u001b[0;34m(\u001b[0m\u001b[0me\u001b[0m\u001b[0;34m)\u001b[0m\u001b[0;34m\u001b[0m\u001b[0m\n",
      "\u001b[0;32m/Users/naoya/anaconda/lib/python3.5/site-packages/music21/stream/__init__.py\u001b[0m in \u001b[0;36mmakeTies\u001b[0;34m(self, meterStream, inPlace, displayTiedAccidentals)\u001b[0m\n\u001b[1;32m   5591\u001b[0m             \u001b[0mmeterStream\u001b[0m\u001b[0;34m=\u001b[0m\u001b[0mmeterStream\u001b[0m\u001b[0;34m,\u001b[0m\u001b[0;34m\u001b[0m\u001b[0m\n\u001b[1;32m   5592\u001b[0m             \u001b[0minPlace\u001b[0m\u001b[0;34m=\u001b[0m\u001b[0minPlace\u001b[0m\u001b[0;34m,\u001b[0m\u001b[0;34m\u001b[0m\u001b[0m\n\u001b[0;32m-> 5593\u001b[0;31m             \u001b[0mdisplayTiedAccidentals\u001b[0m\u001b[0;34m=\u001b[0m\u001b[0mdisplayTiedAccidentals\u001b[0m\u001b[0;34m,\u001b[0m\u001b[0;34m\u001b[0m\u001b[0m\n\u001b[0m\u001b[1;32m   5594\u001b[0m             )\n\u001b[1;32m   5595\u001b[0m \u001b[0;34m\u001b[0m\u001b[0m\n",
      "\u001b[0;32m/Users/naoya/anaconda/lib/python3.5/site-packages/music21/stream/makeNotation.py\u001b[0m in \u001b[0;36mmakeTies\u001b[0;34m(s, meterStream, inPlace, displayTiedAccidentals)\u001b[0m\n\u001b[1;32m   1046\u001b[0m                     e, eRemain = e.splitAtQuarterLength(qLenBegin,\n\u001b[1;32m   1047\u001b[0m                         \u001b[0mretainOrigin\u001b[0m\u001b[0;34m=\u001b[0m\u001b[0;32mTrue\u001b[0m\u001b[0;34m,\u001b[0m\u001b[0;34m\u001b[0m\u001b[0m\n\u001b[0;32m-> 1048\u001b[0;31m                         displayTiedAccidentals=displayTiedAccidentals)\n\u001b[0m\u001b[1;32m   1049\u001b[0m \u001b[0;34m\u001b[0m\u001b[0m\n\u001b[1;32m   1050\u001b[0m                     \u001b[0;31m# manage bridging voices\u001b[0m\u001b[0;34m\u001b[0m\u001b[0;34m\u001b[0m\u001b[0m\n",
      "\u001b[0;32m/Users/naoya/anaconda/lib/python3.5/site-packages/music21/base.py\u001b[0m in \u001b[0;36msplitAtQuarterLength\u001b[0;34m(self, quarterLength, retainOrigin, addTies, displayTiedAccidentals)\u001b[0m\n\u001b[1;32m   2909\u001b[0m                     \u001b[0meRemain\u001b[0m\u001b[0;34m.\u001b[0m\u001b[0mpitch\u001b[0m\u001b[0;34m.\u001b[0m\u001b[0maccidental\u001b[0m\u001b[0;34m.\u001b[0m\u001b[0mdisplayStatus\u001b[0m \u001b[0;34m=\u001b[0m \u001b[0;32mTrue\u001b[0m\u001b[0;34m\u001b[0m\u001b[0m\n\u001b[1;32m   2910\u001b[0m \u001b[0;34m\u001b[0m\u001b[0m\n\u001b[0;32m-> 2911\u001b[0;31m         \u001b[0;32mif\u001b[0m \u001b[0meRemain\u001b[0m\u001b[0;34m.\u001b[0m\u001b[0mduration\u001b[0m\u001b[0;34m.\u001b[0m\u001b[0mquarterLength\u001b[0m \u001b[0;34m>\u001b[0m \u001b[0;36m0.0\u001b[0m\u001b[0;34m:\u001b[0m\u001b[0;34m\u001b[0m\u001b[0m\n\u001b[0m\u001b[1;32m   2912\u001b[0m             \u001b[0mst\u001b[0m \u001b[0;34m=\u001b[0m \u001b[0m_SplitTuple\u001b[0m\u001b[0;34m(\u001b[0m\u001b[0;34m[\u001b[0m\u001b[0me\u001b[0m\u001b[0;34m,\u001b[0m \u001b[0meRemain\u001b[0m\u001b[0;34m]\u001b[0m\u001b[0;34m)\u001b[0m\u001b[0;34m\u001b[0m\u001b[0m\n\u001b[1;32m   2913\u001b[0m         \u001b[0;32melse\u001b[0m\u001b[0;34m:\u001b[0m\u001b[0;34m\u001b[0m\u001b[0m\n",
      "\u001b[0;32m/Users/naoya/anaconda/lib/python3.5/fractions.py\u001b[0m in \u001b[0;36m__gt__\u001b[0;34m(a, b)\u001b[0m\n\u001b[1;32m    634\u001b[0m     \u001b[0;32mdef\u001b[0m \u001b[0m__gt__\u001b[0m\u001b[0;34m(\u001b[0m\u001b[0ma\u001b[0m\u001b[0;34m,\u001b[0m \u001b[0mb\u001b[0m\u001b[0;34m)\u001b[0m\u001b[0;34m:\u001b[0m\u001b[0;34m\u001b[0m\u001b[0m\n\u001b[1;32m    635\u001b[0m         \u001b[0;34m\"\"\"a > b\"\"\"\u001b[0m\u001b[0;34m\u001b[0m\u001b[0m\n\u001b[0;32m--> 636\u001b[0;31m         \u001b[0;32mreturn\u001b[0m \u001b[0ma\u001b[0m\u001b[0;34m.\u001b[0m\u001b[0m_richcmp\u001b[0m\u001b[0;34m(\u001b[0m\u001b[0mb\u001b[0m\u001b[0;34m,\u001b[0m \u001b[0moperator\u001b[0m\u001b[0;34m.\u001b[0m\u001b[0mgt\u001b[0m\u001b[0;34m)\u001b[0m\u001b[0;34m\u001b[0m\u001b[0m\n\u001b[0m\u001b[1;32m    637\u001b[0m \u001b[0;34m\u001b[0m\u001b[0m\n\u001b[1;32m    638\u001b[0m     \u001b[0;32mdef\u001b[0m \u001b[0m__le__\u001b[0m\u001b[0;34m(\u001b[0m\u001b[0ma\u001b[0m\u001b[0;34m,\u001b[0m \u001b[0mb\u001b[0m\u001b[0;34m)\u001b[0m\u001b[0;34m:\u001b[0m\u001b[0;34m\u001b[0m\u001b[0m\n",
      "\u001b[0;32m/Users/naoya/anaconda/lib/python3.5/fractions.py\u001b[0m in \u001b[0;36m_richcmp\u001b[0;34m(self, other, op)\u001b[0m\n\u001b[1;32m    617\u001b[0m         \"\"\"\n\u001b[1;32m    618\u001b[0m         \u001b[0;31m# convert other to a Rational instance where reasonable.\u001b[0m\u001b[0;34m\u001b[0m\u001b[0;34m\u001b[0m\u001b[0m\n\u001b[0;32m--> 619\u001b[0;31m         \u001b[0;32mif\u001b[0m \u001b[0misinstance\u001b[0m\u001b[0;34m(\u001b[0m\u001b[0mother\u001b[0m\u001b[0;34m,\u001b[0m \u001b[0mnumbers\u001b[0m\u001b[0;34m.\u001b[0m\u001b[0mRational\u001b[0m\u001b[0;34m)\u001b[0m\u001b[0;34m:\u001b[0m\u001b[0;34m\u001b[0m\u001b[0m\n\u001b[0m\u001b[1;32m    620\u001b[0m             return op(self._numerator * other.denominator,\n\u001b[1;32m    621\u001b[0m                       self._denominator * other.numerator)\n",
      "\u001b[0;32m/Users/naoya/anaconda/lib/python3.5/abc.py\u001b[0m in \u001b[0;36m__instancecheck__\u001b[0;34m(cls, instance)\u001b[0m\n\u001b[1;32m    186\u001b[0m             if (cls._abc_negative_cache_version ==\n\u001b[1;32m    187\u001b[0m                 \u001b[0mABCMeta\u001b[0m\u001b[0;34m.\u001b[0m\u001b[0m_abc_invalidation_counter\u001b[0m \u001b[0;32mand\u001b[0m\u001b[0;34m\u001b[0m\u001b[0m\n\u001b[0;32m--> 188\u001b[0;31m                 subclass in cls._abc_negative_cache):\n\u001b[0m\u001b[1;32m    189\u001b[0m                 \u001b[0;32mreturn\u001b[0m \u001b[0;32mFalse\u001b[0m\u001b[0;34m\u001b[0m\u001b[0m\n\u001b[1;32m    190\u001b[0m             \u001b[0;31m# Fall back to the subclass check.\u001b[0m\u001b[0;34m\u001b[0m\u001b[0;34m\u001b[0m\u001b[0m\n",
      "\u001b[0;32m/Users/naoya/anaconda/lib/python3.5/_weakrefset.py\u001b[0m in \u001b[0;36m__contains__\u001b[0;34m(self, item)\u001b[0m\n\u001b[1;32m     70\u001b[0m     \u001b[0;32mdef\u001b[0m \u001b[0m__contains__\u001b[0m\u001b[0;34m(\u001b[0m\u001b[0mself\u001b[0m\u001b[0;34m,\u001b[0m \u001b[0mitem\u001b[0m\u001b[0;34m)\u001b[0m\u001b[0;34m:\u001b[0m\u001b[0;34m\u001b[0m\u001b[0m\n\u001b[1;32m     71\u001b[0m         \u001b[0;32mtry\u001b[0m\u001b[0;34m:\u001b[0m\u001b[0;34m\u001b[0m\u001b[0m\n\u001b[0;32m---> 72\u001b[0;31m             \u001b[0mwr\u001b[0m \u001b[0;34m=\u001b[0m \u001b[0mref\u001b[0m\u001b[0;34m(\u001b[0m\u001b[0mitem\u001b[0m\u001b[0;34m)\u001b[0m\u001b[0;34m\u001b[0m\u001b[0m\n\u001b[0m\u001b[1;32m     73\u001b[0m         \u001b[0;32mexcept\u001b[0m \u001b[0mTypeError\u001b[0m\u001b[0;34m:\u001b[0m\u001b[0;34m\u001b[0m\u001b[0m\n\u001b[1;32m     74\u001b[0m             \u001b[0;32mreturn\u001b[0m \u001b[0;32mFalse\u001b[0m\u001b[0;34m\u001b[0m\u001b[0m\n",
      "\u001b[0;31mKeyboardInterrupt\u001b[0m: "
     ]
    }
   ],
   "source": [
    "melody_corpus, melody_set, notes_indices, indices_notes = build_corpus(midi_files)"
   ]
  },
  {
   "cell_type": "code",
   "execution_count": 160,
   "metadata": {
    "collapsed": false
   },
   "outputs": [
    {
     "data": {
      "text/plain": [
       "402"
      ]
     },
     "execution_count": 160,
     "metadata": {},
     "output_type": "execute_result"
    }
   ],
   "source": [
    "len(melody_set)"
   ]
  },
  {
   "cell_type": "code",
   "execution_count": 161,
   "metadata": {
    "collapsed": true
   },
   "outputs": [],
   "source": [
    "corpus_size = len(melody_set)"
   ]
  },
  {
   "cell_type": "code",
   "execution_count": 167,
   "metadata": {
    "collapsed": false
   },
   "outputs": [
    {
     "name": "stdout",
     "output_type": "stream",
     "text": [
      "nb sequences: 2845\n"
     ]
    }
   ],
   "source": [
    "corpus_size = len(melody_set)\n",
    "\n",
    "# cut the corpus into semi-redundant sequences of max_len values\n",
    "step_size = 5\n",
    "phrase_len = 50\n",
    "phrases = []\n",
    "next_notes = []\n",
    "for i in range(0, len(melody_corpus) - phrase_len, step_size):\n",
    "    phrases.append(melody_corpus[i: i + phrase_len])\n",
    "    next_notes.append(melody_corpus[i + phrase_len])\n",
    "print('nb sequences:', len(phrases))\n",
    "\n",
    "# transform data into binary matrices\n",
    "X = np.zeros((len(phrases), phrase_len, corpus_size), dtype=np.bool)\n",
    "y = np.zeros((len(phrases), corpus_size), dtype=np.bool)\n",
    "for i, phrase in enumerate(phrases):\n",
    "    for j, note in enumerate(phrase):\n",
    "        X[i, j, notes_indices[note]] = 1\n",
    "    y[i, notes_indices[next_notes[i]]] = 1"
   ]
  },
  {
   "cell_type": "code",
   "execution_count": 172,
   "metadata": {
    "collapsed": false
   },
   "outputs": [
    {
     "name": "stdout",
     "output_type": "stream",
     "text": [
      "Epoch 1/1\n",
      "2845/2845 [==============================] - 109s - loss: 5.0664   \n"
     ]
    },
    {
     "data": {
      "text/plain": [
       "<keras.callbacks.History at 0x11b5d6ba8>"
      ]
     },
     "execution_count": 172,
     "metadata": {},
     "output_type": "execute_result"
    }
   ],
   "source": [
    "model = Sequential()\n",
    "model.add(LSTM(512, return_sequences=True, input_shape=(phrase_len, corpus_size)))\n",
    "model.add(Dropout(0.2))\n",
    "model.add(LSTM(512, return_sequences=False))\n",
    "model.add(Dropout(0.2))\n",
    "model.add(Dense(corpus_size))\n",
    "model.add(Activation('softmax'))\n",
    "\n",
    "model.compile(loss='categorical_crossentropy', optimizer='rmsprop')\n",
    "\n",
    "model.fit(X, y, batch_size=128, nb_epoch=1)"
   ]
  },
  {
   "cell_type": "code",
   "execution_count": 5,
   "metadata": {
    "collapsed": false
   },
   "outputs": [],
   "source": [
    "def __sample(a, temperature=1.0):\n",
    "#     a = np.log(a) / temperature\n",
    "    a = np.exp(np.log(a) / temperature) / np.sum(np.exp(np.log(a) / temperature))\n",
    "    return np.argmax(np.random.multinomial(1, a, 1))\n",
    "\n",
    "def __predict(model, x, indices_notes, temperature):\n",
    "    preds = model.predict(x, verbose=0)[0]\n",
    "    next_index = __sample(preds, temperature)\n",
    "    next_val = indices_notes[next_index]\n",
    "\n",
    "    return next_val\n",
    "\n",
    "def generate_sequence(model, seq_len, melody_corpus, melody_set, phrase_len, notes_indices, indices_notes, temperature):\n",
    "    gen_melody_indices = np.zeros((1, phrase_len, len(melody_set)))\n",
    "    start_pos = np.random.randint(0, len(melody_corpus) - phrase_len)\n",
    "    seed_phrase = melody_corpus[start_pos : start_pos + phrase_len]\n",
    "    gen_melody = seed_phrase\n",
    "    \n",
    "        \n",
    "    for _ in range(seq_len):\n",
    "        seed_phrase = gen_melody[-phrase_len:]\n",
    "        for i, note in enumerate(seed_phrase):\n",
    "            gen_melody_indices[0, i, notes_indices[note]] = 1\n",
    "        x = gen_melody_indices\n",
    "        next_note = __predict(model, x, indices_notes, temperature)\n",
    "        # seed_phrase.append(next_note)\n",
    "        gen_melody.append(next_note)\n",
    "        # seed_phrase = seed_phrase[1:]\n",
    "        \n",
    "#     gen_melody = [indices_notes[i] for i in gen_melody_indices]\n",
    "    return gen_melody\n",
    "    "
   ]
  },
  {
   "cell_type": "code",
   "execution_count": 219,
   "metadata": {
    "collapsed": false
   },
   "outputs": [
    {
     "data": {
      "text/plain": [
       "(1, 50, 402)"
      ]
     },
     "execution_count": 219,
     "metadata": {},
     "output_type": "execute_result"
    }
   ],
   "source": [
    "gen_melody.shape"
   ]
  },
  {
   "cell_type": "code",
   "execution_count": 248,
   "metadata": {
    "collapsed": false
   },
   "outputs": [],
   "source": [
    "gen_melody = generate_sequence(model, 150, melody_corpus, melody_set, 50, notes_indices, indices_notes, 0.4)"
   ]
  },
  {
   "cell_type": "code",
   "execution_count": 249,
   "metadata": {
    "collapsed": false
   },
   "outputs": [],
   "source": [
    "v = stream.Voice()\n",
    "last_note_duration = 0\n",
    "for n in gen_melody:\n",
    "    if n[0] == 0:\n",
    "        new_note = note.Rest()\n",
    "    else:\n",
    "        new_pitch = pitch.Pitch()\n",
    "        new_pitch.midi = 59.0 + n[0]\n",
    "        new_note = note.Note(new_pitch)\n",
    "    new_note.offset = v.highestOffset + last_note_duration\n",
    "    new_note.duration.quarterLength = n[2]\n",
    "    last_note_duration = new_note.duration.quarterLength\n",
    "    v.insert(new_note)"
   ]
  },
  {
   "cell_type": "code",
   "execution_count": 251,
   "metadata": {
    "collapsed": false
   },
   "outputs": [],
   "source": [
    "sp = midi.realtime.StreamPlayer(v)\n",
    "sp.play()"
   ]
  },
  {
   "cell_type": "code",
   "execution_count": 69,
   "metadata": {
    "collapsed": false
   },
   "outputs": [
    {
     "data": {
      "text/plain": [
       "<music21.clef.BassClef>"
      ]
     },
     "execution_count": 69,
     "metadata": {},
     "output_type": "execute_result"
    }
   ],
   "source": [
    "melody[1]"
   ]
  },
  {
   "cell_type": "code",
   "execution_count": 84,
   "metadata": {
    "collapsed": false
   },
   "outputs": [
    {
     "ename": "AttributeError",
     "evalue": "'Part' object has no attribute 'notesA'",
     "output_type": "error",
     "traceback": [
      "\u001b[0;31m-------------------------\u001b[0m",
      "\u001b[0;31mAttributeError\u001b[0mTraceback (most recent call last)",
      "\u001b[0;32m<ipython-input-84-7ff5c1b78cb1>\u001b[0m in \u001b[0;36m<module>\u001b[0;34m()\u001b[0m\n\u001b[0;32m----> 1\u001b[0;31m \u001b[0;34m[\u001b[0m\u001b[0;34m(\u001b[0m\u001b[0mi\u001b[0m\u001b[0;34m.\u001b[0m\u001b[0mpitch\u001b[0m\u001b[0;34m.\u001b[0m\u001b[0mpitchClass\u001b[0m\u001b[0;34m,\u001b[0m \u001b[0mi\u001b[0m\u001b[0;34m.\u001b[0m\u001b[0mmeasureNumber\u001b[0m\u001b[0;34m,\u001b[0m \u001b[0mi\u001b[0m\u001b[0;34m.\u001b[0m\u001b[0mduration\u001b[0m\u001b[0;34m,\u001b[0m \u001b[0mi\u001b[0m\u001b[0;34m.\u001b[0m\u001b[0mbeatStrength\u001b[0m\u001b[0;34m)\u001b[0m \u001b[0;32mfor\u001b[0m \u001b[0mi\u001b[0m \u001b[0;32min\u001b[0m \u001b[0mmidi_stream\u001b[0m\u001b[0;34m.\u001b[0m\u001b[0mmeasures\u001b[0m\u001b[0;34m(\u001b[0m\u001b[0;36m1\u001b[0m\u001b[0;34m,\u001b[0m \u001b[0;32mNone\u001b[0m\u001b[0;34m)\u001b[0m\u001b[0;34m.\u001b[0m\u001b[0mflat\u001b[0m\u001b[0;34m.\u001b[0m\u001b[0mnotesA\u001b[0m\u001b[0;34m[\u001b[0m\u001b[0;34m:\u001b[0m\u001b[0;36m40\u001b[0m\u001b[0;34m]\u001b[0m\u001b[0;34m]\u001b[0m\u001b[0;34m\u001b[0m\u001b[0m\n\u001b[0m",
      "\u001b[0;31mAttributeError\u001b[0m: 'Part' object has no attribute 'notesA'"
     ]
    }
   ],
   "source": [
    "[(i.pitch.pitchClass, i.measureNumber, i.duration, i.beatStrength) for i in midi_stream.measures(1, None).flat.notesA[:40]]"
   ]
  },
  {
   "cell_type": "code",
   "execution_count": 37,
   "metadata": {
    "collapsed": false
   },
   "outputs": [
    {
     "data": {
      "text/plain": [
       "NoneType"
      ]
     },
     "execution_count": 37,
     "metadata": {},
     "output_type": "execute_result"
    }
   ],
   "source": [
    "midi_stream."
   ]
  },
  {
   "cell_type": "code",
   "execution_count": 86,
   "metadata": {
    "collapsed": false
   },
   "outputs": [],
   "source": [
    "n = measures[0].flat.notes[0]"
   ]
  },
  {
   "cell_type": "code",
   "execution_count": 87,
   "metadata": {
    "collapsed": false
   },
   "outputs": [
    {
     "name": "stderr",
     "output_type": "stream",
     "text": [
      "/Users/naoya/anaconda/lib/python3.5/site-packages/ipykernel/__main__.py:1: Music21DeprecationWarning: Note._getPitchClass was deprecated on May 2014 and will disappear at or after May 2016. use pitch.pitchClass instead\n",
      "  if __name__ == '__main__':\n"
     ]
    },
    {
     "data": {
      "text/plain": [
       "0"
      ]
     },
     "execution_count": 87,
     "metadata": {},
     "output_type": "execute_result"
    }
   ],
   "source": [
    "n.pitchClass"
   ]
  },
  {
   "cell_type": "code",
   "execution_count": 94,
   "metadata": {
    "collapsed": false
   },
   "outputs": [
    {
     "data": {
      "text/plain": [
       "<music21.clef.BassClef>"
      ]
     },
     "execution_count": 94,
     "metadata": {},
     "output_type": "execute_result"
    }
   ],
   "source": [
    "midi_stream[1]\n",
    "    "
   ]
  },
  {
   "cell_type": "code",
   "execution_count": 103,
   "metadata": {
    "collapsed": false
   },
   "outputs": [
    {
     "ename": "TypeError",
     "evalue": "'NoneType' object is not subscriptable",
     "output_type": "error",
     "traceback": [
      "\u001b[0;31m-------------------------\u001b[0m",
      "\u001b[0;31mTypeError\u001b[0mTraceback (most recent call last)",
      "\u001b[0;32m<ipython-input-103-880763e61c77>\u001b[0m in \u001b[0;36m<module>\u001b[0;34m()\u001b[0m\n\u001b[0;32m----> 1\u001b[0;31m \u001b[0mm\u001b[0m \u001b[0;34m=\u001b[0m \u001b[0mmidi_stream\u001b[0m\u001b[0;34m.\u001b[0m\u001b[0mmeasure\u001b[0m\u001b[0;34m(\u001b[0m\u001b[0;36m1\u001b[0m\u001b[0;34m,\u001b[0m \u001b[0;32mNone\u001b[0m\u001b[0;34m)\u001b[0m\u001b[0;34m[\u001b[0m\u001b[0;34m:\u001b[0m\u001b[0;36m5\u001b[0m\u001b[0;34m]\u001b[0m\u001b[0;34m\u001b[0m\u001b[0m\n\u001b[0m",
      "\u001b[0;31mTypeError\u001b[0m: 'NoneType' object is not subscriptable"
     ]
    }
   ],
   "source": [
    "m = midi_stream.measure(1, None)[:5]"
   ]
  },
  {
   "cell_type": "code",
   "execution_count": 104,
   "metadata": {
    "collapsed": false
   },
   "outputs": [
    {
     "data": {
      "image/png": "[encoded data removed]",
      "text/plain": [
       "<music21.ipython21.objects.IPythonPNGObject at 0x10ae93438>"
      ]
     },
     "execution_count": 104,
     "metadata": {},
     "output_type": "execute_result"
    }
   ],
   "source": [
    "m.show()"
   ]
  },
  {
   "cell_type": "code",
   "execution_count": 120,
   "metadata": {
    "collapsed": false
   },
   "outputs": [],
   "source": [
    "f = m.flat"
   ]
  },
  {
   "cell_type": "code",
   "execution_count": 139,
   "metadata": {
    "collapsed": false
   },
   "outputs": [],
   "source": [
    "notes = midi_stream.flat.stripTies()"
   ]
  },
  {
   "cell_type": "code",
   "execution_count": 140,
   "metadata": {
    "collapsed": false
   },
   "outputs": [],
   "source": [
    "from music21 import graph"
   ]
  },
  {
   "cell_type": "code",
   "execution_count": 142,
   "metadata": {
    "collapsed": false
   },
   "outputs": [],
   "source": [
    "g = graph.Plot3DBarsPitchSpaceQuarterLength(\n",
    "    notes, colors=['b'])"
   ]
  },
  {
   "cell_type": "code",
   "execution_count": 143,
   "metadata": {
    "collapsed": false
   },
   "outputs": [
    {
     "data": {
      "image/png": "[encoded data removed]",
      "text/plain": [
       "<matplotlib.figure.Figure at 0x10be67e10>"
      ]
     },
     "metadata": {},
     "output_type": "display_data"
    }
   ],
   "source": [
    "g.process()"
   ]
  },
  {
   "cell_type": "code",
   "execution_count": 144,
   "metadata": {
    "collapsed": true
   },
   "outputs": [],
   "source": [
    "notes = midi_stream.flat.notes"
   ]
  },
  {
   "cell_type": "code",
   "execution_count": 146,
   "metadata": {
    "collapsed": false
   },
   "outputs": [
    {
     "data": {
      "text/plain": [
       "1328"
      ]
     },
     "execution_count": 146,
     "metadata": {},
     "output_type": "execute_result"
    }
   ],
   "source": [
    "len(notes)"
   ]
  },
  {
   "cell_type": "code",
   "execution_count": 147,
   "metadata": {
    "collapsed": false
   },
   "outputs": [
    {
     "data": {
      "text/plain": [
       "<music21.note.Note C>"
      ]
     },
     "execution_count": 147,
     "metadata": {},
     "output_type": "execute_result"
    }
   ],
   "source": [
    "notes[0]"
   ]
  },
  {
   "cell_type": "code",
   "execution_count": 152,
   "metadata": {
    "collapsed": true
   },
   "outputs": [],
   "source": [
    "n = notes[5]"
   ]
  },
  {
   "cell_type": "code",
   "execution_count": 161,
   "metadata": {
    "collapsed": false
   },
   "outputs": [],
   "source": [
    "measure_1 = midi_stream.measures(1, None)[5]"
   ]
  },
  {
   "cell_type": "code",
   "execution_count": 162,
   "metadata": {
    "collapsed": false
   },
   "outputs": [
    {
     "data": {
      "text/plain": [
       "10"
      ]
     },
     "execution_count": 162,
     "metadata": {},
     "output_type": "execute_result"
    }
   ],
   "source": [
    "len(measure_1.flat.notes)"
   ]
  },
  {
   "cell_type": "code",
   "execution_count": 163,
   "metadata": {
    "collapsed": true
   },
   "outputs": [],
   "source": [
    "notes_1 = measure_1.flat.notes"
   ]
  },
  {
   "cell_type": "code",
   "execution_count": 164,
   "metadata": {
    "collapsed": false
   },
   "outputs": [
    {
     "name": "stdout",
     "output_type": "stream",
     "text": [
      "[<music21.chord.Chord G2 F3 C2>, <music21.note.Note D>, <music21.note.Note D>, <music21.note.Note C>, <music21.note.Note B->, <music21.note.Note C>, <music21.note.Note E>, <music21.note.Note A->, <music21.note.Note B->, <music21.note.Note C>]\n"
     ]
    }
   ],
   "source": [
    "print([n for n in notes_1])"
   ]
  },
  {
   "cell_type": "code",
   "execution_count": 165,
   "metadata": {
    "collapsed": false
   },
   "outputs": [
    {
     "ename": "AttributeError",
     "evalue": "'Chord' object has no attribute 'length'",
     "output_type": "error",
     "traceback": [
      "\u001b[0;31m-------------------------------------------------------\u001b[0m",
      "\u001b[0;31mAttributeError\u001b[0m        Traceback (most recent call last)",
      "\u001b[0;32m<ipython-input-165-7b722ceefa09>\u001b[0m in \u001b[0;36m<module>\u001b[0;34m()\u001b[0m\n\u001b[0;32m----> 1\u001b[0;31m \u001b[0mnotes_1\u001b[0m\u001b[0;34m[\u001b[0m\u001b[0;36m0\u001b[0m\u001b[0;34m]\u001b[0m\u001b[0;34m.\u001b[0m\u001b[0mlength\u001b[0m\u001b[0;34m\u001b[0m\u001b[0m\n\u001b[0m",
      "\u001b[0;31mAttributeError\u001b[0m: 'Chord' object has no attribute 'length'"
     ]
    }
   ],
   "source": [
    "notes_1[0].length"
   ]
  },
  {
   "cell_type": "code",
   "execution_count": 174,
   "metadata": {
    "collapsed": false
   },
   "outputs": [
    {
     "data": {
      "text/plain": [
       "10"
      ]
     },
     "execution_count": 174,
     "metadata": {},
     "output_type": "execute_result"
    }
   ],
   "source": [
    "notes_1[4].pitch.pitchClass"
   ]
  },
  {
   "cell_type": "code",
   "execution_count": 171,
   "metadata": {
    "collapsed": false,
    "scrolled": true
   },
   "outputs": [
    {
     "data": {
      "image/png": "[encoded data removed]",
      "text/plain": [
       "<music21.ipython21.objects.IPythonPNGObject at 0x10db75d68>"
      ]
     },
     "execution_count": 171,
     "metadata": {},
     "output_type": "execute_result"
    }
   ],
   "source": [
    "notes_1.show()"
   ]
  },
  {
   "cell_type": "code",
   "execution_count": 179,
   "metadata": {
    "collapsed": false
   },
   "outputs": [],
   "source": [
    "note_data = []\n",
    "for m in midi_stream.measures(1, None):\n",
    "    notes = m.flat.notes\n",
    "    for n in notes:\n",
    "        try:\n",
    "            note_data.append((n.measureNumber, n.beat, n.beatDuration, n.beatStrength, n.pitch.pitchClass, n.octave))\n",
    "        except:\n",
    "            n1 = n\n",
    "            print(n.)\n",
    "            break"
   ]
  },
  {
   "cell_type": "code",
   "execution_count": 180,
   "metadata": {
    "collapsed": false
   },
   "outputs": [
    {
     "data": {
      "image/png": "[encoded data removed]",
      "text/plain": [
       "<music21.ipython21.objects.IPythonPNGObject at 0x10b170588>"
      ]
     },
     "execution_count": 180,
     "metadata": {},
     "output_type": "execute_result"
    }
   ],
   "source": [
    "n1.show()"
   ]
  },
  {
   "cell_type": "code",
   "execution_count": 181,
   "metadata": {
    "collapsed": false
   },
   "outputs": [
    {
     "data": {
      "text/plain": [
       "[(1, 1.0, <music21.duration.Duration 1.0>, 1.0, 0, 3),\n",
       " (1, 1.0, <music21.duration.Duration 1.0>, 1.0, 0, 2),\n",
       " (1, 2.25, <music21.duration.Duration 1.0>, 0.0625, 7, 2),\n",
       " (1, 2.5, <music21.duration.Duration 1.0>, 0.125, 9, 2),\n",
       " (1, 2.75, <music21.duration.Duration 1.0>, 0.0625, 11, 2),\n",
       " (1, 3.0, <music21.duration.Duration 1.0>, 0.5, 0, 3),\n",
       " (1, 3.25, <music21.duration.Duration 1.0>, 0.0625, 2, 3),\n",
       " (1, 3.5, <music21.duration.Duration 1.0>, 0.125, 3, 3),\n",
       " (1, 3.75, <music21.duration.Duration 1.0>, 0.0625, 5, 3),\n",
       " (1, 4.0, <music21.duration.Duration 1.0>, 0.25, 3, 3),\n",
       " (1, 4.25, <music21.duration.Duration 1.0>, 0.0625, 2, 3),\n",
       " (1, 4.5, <music21.duration.Duration 1.0>, 0.125, 3, 3),\n",
       " (1, 4.75, <music21.duration.Duration 1.0>, 0.0625, 0, 3),\n",
       " (3, 1.0, <music21.duration.Duration 1.0>, 1.0, 3, 3),\n",
       " (3, 1.0, <music21.duration.Duration 1.0>, 1.0, 0, 3),\n",
       " (3, 2.0, <music21.duration.Duration 1.0>, 0.25, 0, 2),\n",
       " (3, 3.0, <music21.duration.Duration 1.0>, 0.5, 0, 3),\n",
       " (3, 4.25, <music21.duration.Duration 1.0>, 0.0625, 0, 3),\n",
       " (3, 4.5, <music21.duration.Duration 1.0>, 0.125, 2, 3),\n",
       " (3, 4.75, <music21.duration.Duration 1.0>, 0.0625, 3, 3),\n",
       " (4, 1.0, <music21.duration.Duration 1.0>, 1.0, 2, 3),\n",
       " (4, 1.0, <music21.duration.Duration 1.0>, 1.0, 11, 2),\n",
       " (4, 2.5, <music21.duration.Duration 1.0>, 0.125, 2, 3),\n",
       " (4, 3.0, <music21.duration.Duration 1.0>, 0.5, 4, 3),\n",
       " (4, 3.0, <music21.duration.Duration 1.0>, 0.5, 10, 2),\n",
       " (4, 4.25, <music21.duration.Duration 1.0>, 0.0625, 8, 2),\n",
       " (4, 4.5, <music21.duration.Duration 1.0>, 0.125, 10, 2),\n",
       " (4, 4.75, <music21.duration.Duration 1.0>, 0.0625, 7, 2),\n",
       " (10, 1.0, <music21.duration.Duration 1.0>, 1.0, 2, 3),\n",
       " (10, 1.0, <music21.duration.Duration 1.0>, 1.0, 7, 2),\n",
       " (10, 2.25, <music21.duration.Duration 1.0>, 0.0625, 2, 3),\n",
       " (10, 2.5, <music21.duration.Duration 1.0>, 0.125, 4, 3),\n",
       " (10, 2.75, <music21.duration.Duration 1.0>, 0.0625, 6, 3),\n",
       " (10, 3.0, <music21.duration.Duration 1.0>, 0.5, 8, 3),\n",
       " (10, 3.25, <music21.duration.Duration 1.0>, 0.0625, 11, 3),\n",
       " (10, 3.5, <music21.duration.Duration 1.0>, 0.125, 0, 4),\n",
       " (10, 3.75, <music21.duration.Duration 1.0>, 0.0625, 2, 4),\n",
       " (10, 4.0, <music21.duration.Duration 1.0>, 0.25, 0, 4),\n",
       " (10, 4.25, <music21.duration.Duration 1.0>, 0.0625, 11, 3),\n",
       " (10, 4.5, <music21.duration.Duration 1.0>, 0.125, 0, 4),\n",
       " (10, 4.75, <music21.duration.Duration 1.0>, 0.0625, 11, 3),\n",
       " (18, 1.0, <music21.duration.Duration 1.0>, 1.0, 5, 4),\n",
       " (18, 2.0, <music21.duration.Duration 1.0>, 0.25, 0, 2),\n",
       " (18, 2.75, <music21.duration.Duration 1.0>, 0.0625, 3, 4),\n",
       " (18, 3.0, <music21.duration.Duration 1.0>, 0.5, 2, 4),\n",
       " (18, 3.75, <music21.duration.Duration 1.0>, 0.0625, 0, 4),\n",
       " (18, 4.0, <music21.duration.Duration 1.0>, 0.25, 11, 3),\n",
       " (18, 4.75, <music21.duration.Duration 1.0>, 0.0625, 8, 3),\n",
       " (19, 1.0, <music21.duration.Duration 1.0>, 1.0, 6, 3),\n",
       " (19, 1.0, <music21.duration.Duration 1.0>, 1.0, 3, 4),\n",
       " (19, 2.25, <music21.duration.Duration 1.0>, 0.0625, 0, 3),\n",
       " (19, 2.5, <music21.duration.Duration 1.0>, 0.125, 10, 2),\n",
       " (19, 2.75, <music21.duration.Duration 1.0>, 0.0625, 8, 2),\n",
       " (19, 3.0, <music21.duration.Duration 1.0>, 0.5, 10, 2),\n",
       " (19, 3.75, <music21.duration.Duration 1.0>, 0.0625, 7, 3),\n",
       " (19, 4.0, <music21.duration.Duration 1.0>, 0.25, 8, 2),\n",
       " (19, 4.75, <music21.duration.Duration 1.0>, 0.0625, 7, 2),\n",
       " (20, 1.0, <music21.duration.Duration 1.0>, 1.0, 6, 2),\n",
       " (20, 1.75, <music21.duration.Duration 1.0>, 0.0625, 11, 3),\n",
       " (20, 2.0, <music21.duration.Duration 1.0>, 0.25, 0, 4),\n",
       " (20, 2.75, <music21.duration.Duration 1.0>, 0.0625, 2, 4),\n",
       " (20, 3.0, <music21.duration.Duration 1.0>, 0.5, 2, 3),\n",
       " (20, 3.75, <music21.duration.Duration 1.0>, 0.0625, 2, 4),\n",
       " (20, 4.0, <music21.duration.Duration 1.0>, 0.25, 0, 4),\n",
       " (20, 4.75, <music21.duration.Duration 1.0>, 0.0625, 11, 3),\n",
       " (23, 1.0, <music21.duration.Duration 1.0>, 1.0, 6, 3),\n",
       " (23, 1.25, <music21.duration.Duration 1.0>, 0.0625, 7, 3),\n",
       " (23, 1.5, <music21.duration.Duration 1.0>, 0.125, 6, 3),\n",
       " (23, 1.75, <music21.duration.Duration 1.0>, 0.0625, 7, 3),\n",
       " (23, 2.0, <music21.duration.Duration 1.0>, 0.25, 11, 3),\n",
       " (23, 2.25, <music21.duration.Duration 1.0>, 0.0625, 6, 3),\n",
       " (23, 2.5, <music21.duration.Duration 1.0>, 0.125, 7, 3),\n",
       " (23, 2.75, <music21.duration.Duration 1.0>, 0.0625, 11, 3),\n",
       " (23, 3.0, <music21.duration.Duration 1.0>, 0.5, 0, 3),\n",
       " (23, 3.25, <music21.duration.Duration 1.0>, 0.0625, 2, 3),\n",
       " (23, 3.5, <music21.duration.Duration 1.0>, 0.125, 0, 3),\n",
       " (23, 3.75, <music21.duration.Duration 1.0>, 0.0625, 2, 3),\n",
       " (23, 4.0, <music21.duration.Duration 1.0>, 0.25, 3, 3),\n",
       " (23, 4.25, <music21.duration.Duration 1.0>, 0.0625, 0, 3),\n",
       " (23, 4.5, <music21.duration.Duration 1.0>, 0.125, 2, 3),\n",
       " (23, 4.75, <music21.duration.Duration 1.0>, 0.0625, 3, 3),\n",
       " (24, 1.0, <music21.duration.Duration 1.0>, 1.0, 9, 2),\n",
       " (24, 1.25, <music21.duration.Duration 1.0>, 0.0625, 10, 2),\n",
       " (24, 1.5, <music21.duration.Duration 1.0>, 0.125, 9, 2),\n",
       " (24, 1.75, <music21.duration.Duration 1.0>, 0.0625, 10, 2),\n",
       " (24, 2.0, <music21.duration.Duration 1.0>, 0.25, 0, 3),\n",
       " (24, 2.25, <music21.duration.Duration 1.0>, 0.0625, 9, 2),\n",
       " (24, 2.5, <music21.duration.Duration 1.0>, 0.125, 10, 2),\n",
       " (24, 2.75, <music21.duration.Duration 1.0>, 0.0625, 0, 3),\n",
       " (24, 3.0, <music21.duration.Duration 1.0>, 0.5, 2, 2),\n",
       " (24, 3.25, <music21.duration.Duration 1.0>, 0.0625, 4, 2),\n",
       " (24, 3.5, <music21.duration.Duration 1.0>, 0.125, 6, 2),\n",
       " (24, 3.75, <music21.duration.Duration 1.0>, 0.0625, 7, 2),\n",
       " (24, 4.0, <music21.duration.Duration 1.0>, 0.25, 9, 2),\n",
       " (24, 4.25, <music21.duration.Duration 1.0>, 0.0625, 10, 2),\n",
       " (24, 4.5, <music21.duration.Duration 1.0>, 0.125, 0, 3),\n",
       " (24, 4.75, <music21.duration.Duration 1.0>, 0.0625, 9, 2),\n",
       " (25, 1.0, <music21.duration.Duration 1.0>, 1.0, 10, 2),\n",
       " (25, 1.25, <music21.duration.Duration 1.0>, 0.0625, 2, 3),\n",
       " (25, 1.5, <music21.duration.Duration 1.0>, 0.125, 4, 3),\n",
       " (25, 1.75, <music21.duration.Duration 1.0>, 0.0625, 6, 3),\n",
       " (25, 2.0, <music21.duration.Duration 1.0>, 0.25, 8, 3),\n",
       " (25, 2.25, <music21.duration.Duration 1.0>, 0.0625, 11, 3),\n",
       " (25, 2.5, <music21.duration.Duration 1.0>, 0.125, 0, 4),\n",
       " (25, 2.75, <music21.duration.Duration 1.0>, 0.0625, 2, 4),\n",
       " (25, 3.0, <music21.duration.Duration 1.0>, 0.5, 3, 4),\n",
       " (25, 4.25, <music21.duration.Duration 1.0>, 0.0625, 2, 4),\n",
       " (25, 4.5, <music21.duration.Duration 1.0>, 0.125, 0, 4),\n",
       " (25, 4.75, <music21.duration.Duration 1.0>, 0.0625, 11, 3),\n",
       " (26, 1.0, <music21.duration.Duration 1.0>, 1.0, 0, 4),\n",
       " (26, 1.75, <music21.duration.Duration 1.0>, 0.0625, 6, 3),\n",
       " (26, 2.0, <music21.duration.Duration 1.0>, 0.25, 7, 3),\n",
       " (26, 2.75, <music21.duration.Duration 1.0>, 0.0625, 0, 3),\n",
       " (28, 1.0, <music21.duration.Duration 0.5>, 1.0, 8, 3),\n",
       " (28, 2.0, <music21.duration.Duration 0.5>, 0.5, 0, 3),\n",
       " (28, 3.0, <music21.duration.Duration 0.5>, 0.5, 2, 3),\n",
       " (29, 1.0, <music21.duration.Duration 0.5>, 1.0, 3, 3),\n",
       " (29, 2.0, <music21.duration.Duration 0.5>, 0.5, 7, 3),\n",
       " (29, 2.5, <music21.duration.Duration 0.5>, 0.25, 5, 3),\n",
       " (29, 3.0, <music21.duration.Duration 0.5>, 0.5, 7, 3),\n",
       " (29, 3.5, <music21.duration.Duration 0.5>, 0.25, 3, 3),\n",
       " (30, 1.0, <music21.duration.Duration 0.5>, 1.0, 5, 3),\n",
       " (30, 2.0, <music21.duration.Duration 0.5>, 0.5, 9, 2),\n",
       " (30, 3.0, <music21.duration.Duration 0.5>, 0.5, 11, 2),\n",
       " (31, 1.0, <music21.duration.Duration 0.5>, 1.0, 0, 3),\n",
       " (31, 2.0, <music21.duration.Duration 0.5>, 0.5, 3, 3),\n",
       " (31, 2.5, <music21.duration.Duration 0.5>, 0.25, 2, 3),\n",
       " (31, 3.0, <music21.duration.Duration 0.5>, 0.5, 3, 3),\n",
       " (31, 3.5, <music21.duration.Duration 0.5>, 0.25, 0, 3),\n",
       " (32, 1.0, <music21.duration.Duration 0.5>, 1.0, 2, 3),\n",
       " (32, 1.5, <music21.duration.Duration 0.5>, 0.25, 3, 3),\n",
       " (32, 2.0, <music21.duration.Duration 0.5>, 0.5, 5, 3),\n",
       " (32, 2.5, <music21.duration.Duration 0.5>, 0.25, 7, 3),\n",
       " (32, 3.0, <music21.duration.Duration 0.5>, 0.5, 8, 3),\n",
       " (33, 1.0, <music21.duration.Duration 0.5>, 1.0, 11, 2),\n",
       " (33, 2.0, <music21.duration.Duration 0.5>, 0.5, 7, 2),\n",
       " (33, 2.5, <music21.duration.Duration 0.5>, 0.25, 5, 3),\n",
       " (33, 3.0, <music21.duration.Duration 0.5>, 0.5, 3, 3),\n",
       " (33, 3.5, <music21.duration.Duration 0.5>, 0.25, 2, 3),\n",
       " (34, 1.0, <music21.duration.Duration 0.5>, 1.0, 3, 3),\n",
       " (34, 1.5, <music21.duration.Duration 0.5>, 0.25, 5, 3),\n",
       " (34, 2.0, <music21.duration.Duration 0.5>, 0.5, 2, 3),\n",
       " (34, 2.5, <music21.duration.Duration 0.5>, 0.25, 3, 3),\n",
       " (34, 3.0, <music21.duration.Duration 0.5>, 0.5, 5, 3),\n",
       " (34, 3.5, <music21.duration.Duration 0.5>, 0.25, 2, 3),\n",
       " (35, 1.0, <music21.duration.Duration 0.5>, 1.0, 3, 3),\n",
       " (35, 1.5, <music21.duration.Duration 0.5>, 0.25, 2, 3),\n",
       " (35, 2.0, <music21.duration.Duration 0.5>, 0.5, 3, 3),\n",
       " (35, 2.5, <music21.duration.Duration 0.5>, 0.25, 8, 3),\n",
       " (35, 3.0, <music21.duration.Duration 0.5>, 0.5, 2, 4),\n",
       " (35, 3.5, <music21.duration.Duration 0.5>, 0.25, 3, 4),\n",
       " (36, 1.0, <music21.duration.Duration 0.5>, 1.0, 5, 4),\n",
       " (36, 2.0, <music21.duration.Duration 0.5>, 0.5, 8, 3),\n",
       " (36, 3.0, <music21.duration.Duration 0.5>, 0.5, 11, 3),\n",
       " (37, 1.0, <music21.duration.Duration 0.5>, 1.0, 0, 4),\n",
       " (37, 2.0, <music21.duration.Duration 0.5>, 0.5, 3, 4),\n",
       " (37, 2.5, <music21.duration.Duration 0.5>, 0.25, 2, 4),\n",
       " (37, 3.0, <music21.duration.Duration 0.5>, 0.5, 3, 4),\n",
       " (37, 3.5, <music21.duration.Duration 0.5>, 0.25, 0, 4),\n",
       " (38, 1.0, <music21.duration.Duration 0.5>, 1.0, 2, 4),\n",
       " (38, 2.0, <music21.duration.Duration 0.5>, 0.5, 4, 3),\n",
       " (38, 3.0, <music21.duration.Duration 0.5>, 0.5, 6, 3),\n",
       " (39, 1.0, <music21.duration.Duration 0.5>, 1.0, 7, 3),\n",
       " (39, 2.0, <music21.duration.Duration 0.5>, 0.5, 0, 4),\n",
       " (39, 2.5, <music21.duration.Duration 0.5>, 0.25, 11, 3),\n",
       " (39, 3.0, <music21.duration.Duration 0.5>, 0.5, 0, 4),\n",
       " (39, 3.5, <music21.duration.Duration 0.5>, 0.25, 8, 3),\n",
       " (40, 1.0, <music21.duration.Duration 0.5>, 1.0, 11, 3),\n",
       " (40, 1.5, <music21.duration.Duration 0.5>, 0.25, 0, 4),\n",
       " (40, 2.0, <music21.duration.Duration 0.5>, 0.5, 2, 4),\n",
       " (40, 2.5, <music21.duration.Duration 0.5>, 0.25, 3, 4),\n",
       " (40, 3.0, <music21.duration.Duration 0.5>, 0.5, 8, 3),\n",
       " (40, 3.5, <music21.duration.Duration 0.5>, 0.25, 5, 4),\n",
       " (41, 1.0, <music21.duration.Duration 0.5>, 1.0, 6, 3),\n",
       " (41, 1.5, <music21.duration.Duration 0.5>, 0.25, 5, 4),\n",
       " (41, 2.0, <music21.duration.Duration 0.5>, 0.5, 3, 4),\n",
       " (41, 2.5, <music21.duration.Duration 0.5>, 0.25, 2, 4),\n",
       " (41, 3.0, <music21.duration.Duration 0.5>, 0.5, 0, 4),\n",
       " (41, 3.5, <music21.duration.Duration 0.5>, 0.25, 11, 3),\n",
       " (42, 1.0, <music21.duration.Duration 0.5>, 1.0, 0, 4),\n",
       " (42, 1.0, <music21.duration.Duration 0.5>, 1.0, 7, 3),\n",
       " (42, 1.5, <music21.duration.Duration 0.5>, 0.25, 2, 4),\n",
       " (42, 2.0, <music21.duration.Duration 0.5>, 0.5, 11, 3),\n",
       " (42, 2.0, <music21.duration.Duration 0.5>, 0.5, 2, 3),\n",
       " (42, 2.5, <music21.duration.Duration 0.5>, 0.25, 0, 4),\n",
       " (42, 3.0, <music21.duration.Duration 0.5>, 0.5, 2, 4),\n",
       " (42, 3.5, <music21.duration.Duration 0.5>, 0.25, 11, 3),\n",
       " (43, 1.0, <music21.duration.Duration 0.5>, 1.0, 0, 4),\n",
       " (43, 1.5, <music21.duration.Duration 0.5>, 0.25, 8, 3),\n",
       " (43, 2.0, <music21.duration.Duration 0.5>, 0.5, 2, 3),\n",
       " (43, 2.5, <music21.duration.Duration 0.5>, 0.25, 3, 3),\n",
       " (43, 3.0, <music21.duration.Duration 0.5>, 0.5, 5, 3),\n",
       " (43, 3.5, <music21.duration.Duration 0.5>, 0.25, 2, 3),\n",
       " (44, 1.0, <music21.duration.Duration 0.5>, 1.0, 4, 3),\n",
       " (44, 1.5, <music21.duration.Duration 0.5>, 0.25, 2, 4),\n",
       " (44, 2.0, <music21.duration.Duration 0.5>, 0.5, 8, 3),\n",
       " (44, 2.5, <music21.duration.Duration 0.5>, 0.25, 10, 3),\n",
       " (44, 3.0, <music21.duration.Duration 0.5>, 0.5, 0, 4),\n",
       " (44, 3.5, <music21.duration.Duration 0.5>, 0.25, 8, 3),\n",
       " (45, 1.0, <music21.duration.Duration 0.5>, 1.0, 10, 3),\n",
       " (45, 1.5, <music21.duration.Duration 0.5>, 0.25, 5, 3),\n",
       " (45, 2.0, <music21.duration.Duration 0.5>, 0.5, 0, 3),\n",
       " (45, 2.5, <music21.duration.Duration 0.5>, 0.25, 2, 3),\n",
       " (45, 3.0, <music21.duration.Duration 0.5>, 0.5, 3, 3),\n",
       " (45, 3.5, <music21.duration.Duration 0.5>, 0.25, 0, 3),\n",
       " (46, 1.0, <music21.duration.Duration 0.5>, 1.0, 2, 3),\n",
       " (46, 1.5, <music21.duration.Duration 0.5>, 0.25, 3, 3),\n",
       " (46, 2.0, <music21.duration.Duration 0.5>, 0.5, 5, 3),\n",
       " (46, 2.5, <music21.duration.Duration 0.5>, 0.25, 7, 3),\n",
       " (46, 3.0, <music21.duration.Duration 0.5>, 0.5, 8, 3),\n",
       " (46, 3.5, <music21.duration.Duration 0.5>, 0.25, 5, 3),\n",
       " (47, 1.0, <music21.duration.Duration 0.5>, 1.0, 7, 3),\n",
       " (47, 1.5, <music21.duration.Duration 0.5>, 0.25, 5, 3),\n",
       " (47, 2.0, <music21.duration.Duration 0.5>, 0.5, 3, 3),\n",
       " (47, 2.5, <music21.duration.Duration 0.5>, 0.25, 2, 3),\n",
       " (47, 3.0, <music21.duration.Duration 0.5>, 0.5, 0, 3),\n",
       " (47, 3.5, <music21.duration.Duration 0.5>, 0.25, 10, 2),\n",
       " (48, 1.0, <music21.duration.Duration 0.5>, 1.0, 8, 2),\n",
       " (48, 2.0, <music21.duration.Duration 0.5>, 0.5, 0, 3),\n",
       " (48, 3.0, <music21.duration.Duration 0.5>, 0.5, 2, 3),\n",
       " (49, 1.0, <music21.duration.Duration 0.5>, 1.0, 3, 3),\n",
       " (49, 2.0, <music21.duration.Duration 0.5>, 0.5, 7, 2),\n",
       " (49, 2.5, <music21.duration.Duration 0.5>, 0.25, 5, 2),\n",
       " (49, 3.0, <music21.duration.Duration 0.5>, 0.5, 7, 2),\n",
       " (49, 3.5, <music21.duration.Duration 0.5>, 0.25, 3, 2),\n",
       " (50, 1.0, <music21.duration.Duration 0.5>, 1.0, 5, 2),\n",
       " (50, 2.0, <music21.duration.Duration 0.5>, 0.5, 9, 2),\n",
       " (50, 3.0, <music21.duration.Duration 0.5>, 0.5, 11, 2),\n",
       " (51, 1.0, <music21.duration.Duration 0.5>, 1.0, 0, 3),\n",
       " (51, 2.0, <music21.duration.Duration 0.5>, 0.5, 3, 2),\n",
       " (51, 2.5, <music21.duration.Duration 0.5>, 0.25, 2, 2),\n",
       " (51, 3.0, <music21.duration.Duration 0.5>, 0.5, 3, 2),\n",
       " (51, 3.5, <music21.duration.Duration 0.5>, 0.25, 0, 2),\n",
       " (52, 1.0, <music21.duration.Duration 0.5>, 1.0, 2, 2),\n",
       " (52, 1.5, <music21.duration.Duration 0.5>, 0.25, 3, 2),\n",
       " (52, 2.0, <music21.duration.Duration 0.5>, 0.5, 5, 2),\n",
       " (52, 2.5, <music21.duration.Duration 0.5>, 0.25, 7, 2),\n",
       " (52, 3.0, <music21.duration.Duration 0.5>, 0.5, 8, 2),\n",
       " (52, 3.5, <music21.duration.Duration 0.5>, 0.25, 5, 2),\n",
       " (53, 1.0, <music21.duration.Duration 0.5>, 1.0, 11, 2),\n",
       " (53, 1.5, <music21.duration.Duration 0.5>, 0.25, 0, 3),\n",
       " (53, 2.0, <music21.duration.Duration 0.5>, 0.5, 2, 3),\n",
       " (53, 2.5, <music21.duration.Duration 0.5>, 0.25, 3, 3),\n",
       " (53, 3.0, <music21.duration.Duration 0.5>, 0.5, 5, 3),\n",
       " (53, 3.5, <music21.duration.Duration 0.5>, 0.25, 2, 3),\n",
       " (54, 1.0, <music21.duration.Duration 0.5>, 1.0, 3, 3),\n",
       " (54, 1.0, <music21.duration.Duration 0.5>, 1.0, 0, 3),\n",
       " (54, 1.5, <music21.duration.Duration 0.5>, 0.25, 5, 3),\n",
       " (54, 2.0, <music21.duration.Duration 0.5>, 0.5, 2, 3),\n",
       " (54, 2.0, <music21.duration.Duration 0.5>, 0.5, 7, 2),\n",
       " (54, 2.5, <music21.duration.Duration 0.5>, 0.25, 3, 3),\n",
       " (54, 3.0, <music21.duration.Duration 0.5>, 0.5, 5, 3),\n",
       " (54, 3.5, <music21.duration.Duration 0.5>, 0.25, 2, 3),\n",
       " (55, 1.0, <music21.duration.Duration 0.5>, 1.0, 3, 3),\n",
       " (55, 1.5, <music21.duration.Duration 0.5>, 0.25, 2, 3),\n",
       " (55, 2.0, <music21.duration.Duration 0.5>, 0.5, 0, 3),\n",
       " (55, 2.5, <music21.duration.Duration 0.5>, 0.25, 2, 3),\n",
       " (55, 3.0, <music21.duration.Duration 0.5>, 0.5, 3, 3),\n",
       " (55, 3.5, <music21.duration.Duration 0.5>, 0.25, 5, 3),\n",
       " (56, 1.0, <music21.duration.Duration 0.5>, 1.0, 7, 3),\n",
       " (56, 1.5, <music21.duration.Duration 0.5>, 0.25, 5, 3),\n",
       " (56, 2.0, <music21.duration.Duration 0.5>, 0.5, 7, 3),\n",
       " (56, 3.0, <music21.duration.Duration 0.5>, 0.5, 11, 3),\n",
       " (57, 1.0, <music21.duration.Duration 0.5>, 1.0, 0, 4),\n",
       " (57, 2.0, <music21.duration.Duration 0.5>, 0.5, 2, 3),\n",
       " (57, 2.5, <music21.duration.Duration 0.5>, 0.25, 0, 3),\n",
       " (57, 3.0, <music21.duration.Duration 0.5>, 0.5, 2, 3),\n",
       " (57, 3.5, <music21.duration.Duration 0.5>, 0.25, 10, 2),\n",
       " (58, 1.0, <music21.duration.Duration 0.5>, 1.0, 0, 3),\n",
       " (58, 1.5, <music21.duration.Duration 0.5>, 0.25, 2, 3),\n",
       " (58, 2.0, <music21.duration.Duration 0.5>, 0.5, 4, 3),\n",
       " (58, 3.0, <music21.duration.Duration 0.5>, 0.5, 6, 3),\n",
       " (59, 1.0, <music21.duration.Duration 0.5>, 1.0, 7, 3),\n",
       " (59, 2.0, <music21.duration.Duration 0.5>, 0.5, 10, 2),\n",
       " (59, 2.5, <music21.duration.Duration 0.5>, 0.25, 9, 2),\n",
       " (59, 3.0, <music21.duration.Duration 0.5>, 0.5, 10, 2),\n",
       " (59, 3.5, <music21.duration.Duration 0.5>, 0.25, 7, 2),\n",
       " (60, 1.0, <music21.duration.Duration 0.5>, 1.0, 9, 2),\n",
       " (60, 1.5, <music21.duration.Duration 0.5>, 0.25, 10, 2),\n",
       " (60, 2.0, <music21.duration.Duration 0.5>, 0.5, 0, 3),\n",
       " (60, 2.5, <music21.duration.Duration 0.5>, 0.25, 2, 3),\n",
       " (60, 3.0, <music21.duration.Duration 0.5>, 0.5, 3, 3),\n",
       " (60, 3.5, <music21.duration.Duration 0.5>, 0.25, 0, 3),\n",
       " (61, 1.0, <music21.duration.Duration 0.5>, 1.0, 6, 3),\n",
       " (61, 1.5, <music21.duration.Duration 0.5>, 0.25, 8, 3),\n",
       " (61, 2.0, <music21.duration.Duration 0.5>, 0.5, 11, 3),\n",
       " (61, 2.5, <music21.duration.Duration 0.5>, 0.25, 0, 4),\n",
       " (61, 3.0, <music21.duration.Duration 0.5>, 0.5, 2, 4),\n",
       " (61, 3.5, <music21.duration.Duration 0.5>, 0.25, 11, 3),\n",
       " (62, 1.0, <music21.duration.Duration 0.5>, 1.0, 0, 4),\n",
       " (62, 1.0, <music21.duration.Duration 0.5>, 1.0, 7, 3),\n",
       " (62, 1.5, <music21.duration.Duration 0.5>, 0.25, 2, 4),\n",
       " (62, 2.0, <music21.duration.Duration 0.5>, 0.5, 11, 3),\n",
       " (62, 2.0, <music21.duration.Duration 0.5>, 0.5, 2, 3),\n",
       " (62, 2.5, <music21.duration.Duration 0.5>, 0.25, 0, 4),\n",
       " (62, 3.0, <music21.duration.Duration 0.5>, 0.5, 2, 4),\n",
       " (62, 3.5, <music21.duration.Duration 0.5>, 0.25, 11, 3),\n",
       " (64, 1.0, <music21.duration.Duration 0.5>, 1.0, 5, 4),\n",
       " (64, 1.5, <music21.duration.Duration 0.5>, 0.25, 0, 3),\n",
       " (64, 2.0, <music21.duration.Duration 0.5>, 0.5, 2, 3),\n",
       " (64, 2.5, <music21.duration.Duration 0.5>, 0.25, 3, 3),\n",
       " (64, 3.0, <music21.duration.Duration 0.5>, 0.5, 5, 3),\n",
       " (64, 3.5, <music21.duration.Duration 0.5>, 0.25, 8, 3),\n",
       " (65, 1.0, <music21.duration.Duration 0.5>, 1.0, 10, 3),\n",
       " (65, 1.5, <music21.duration.Duration 0.5>, 0.25, 5, 3),\n",
       " (65, 2.0, <music21.duration.Duration 0.5>, 0.5, 8, 3),\n",
       " (65, 2.5, <music21.duration.Duration 0.5>, 0.25, 10, 3),\n",
       " (65, 3.0, <music21.duration.Duration 0.5>, 0.5, 0, 4),\n",
       " (65, 3.5, <music21.duration.Duration 0.5>, 0.25, 2, 4),\n",
       " (66, 1.0, <music21.duration.Duration 0.5>, 1.0, 3, 4),\n",
       " (66, 1.5, <music21.duration.Duration 0.5>, 0.25, 10, 2),\n",
       " (66, 2.0, <music21.duration.Duration 0.5>, 0.5, 0, 3),\n",
       " (66, 2.5, <music21.duration.Duration 0.5>, 0.25, 2, 3),\n",
       " (66, 3.0, <music21.duration.Duration 0.5>, 0.5, 3, 3),\n",
       " (66, 3.5, <music21.duration.Duration 0.5>, 0.25, 5, 3),\n",
       " (67, 1.0, <music21.duration.Duration 0.5>, 1.0, 7, 3),\n",
       " (67, 1.5, <music21.duration.Duration 0.5>, 0.25, 3, 3),\n",
       " (67, 2.0, <music21.duration.Duration 0.5>, 0.5, 5, 3),\n",
       " (67, 2.5, <music21.duration.Duration 0.5>, 0.25, 8, 3),\n",
       " (67, 3.0, <music21.duration.Duration 0.5>, 0.5, 10, 3),\n",
       " (67, 3.5, <music21.duration.Duration 0.5>, 0.25, 0, 4),\n",
       " (68, 1.0, <music21.duration.Duration 0.5>, 1.0, 2, 4),\n",
       " (68, 1.5, <music21.duration.Duration 0.5>, 0.25, 0, 4),\n",
       " (68, 2.0, <music21.duration.Duration 0.5>, 0.5, 10, 3),\n",
       " (68, 2.5, <music21.duration.Duration 0.5>, 0.25, 8, 3),\n",
       " (68, 3.0, <music21.duration.Duration 0.5>, 0.5, 5, 3),\n",
       " (68, 3.5, <music21.duration.Duration 0.5>, 0.25, 3, 3),\n",
       " (69, 1.0, <music21.duration.Duration 0.5>, 1.0, 10, 3),\n",
       " (69, 1.5, <music21.duration.Duration 0.5>, 0.25, 8, 3),\n",
       " (69, 2.0, <music21.duration.Duration 0.5>, 0.5, 5, 3),\n",
       " (69, 2.5, <music21.duration.Duration 0.5>, 0.25, 3, 3),\n",
       " (69, 3.0, <music21.duration.Duration 0.5>, 0.5, 2, 3),\n",
       " (69, 3.5, <music21.duration.Duration 0.5>, 0.25, 0, 3),\n",
       " (70, 1.0, <music21.duration.Duration 0.5>, 1.0, 5, 3),\n",
       " (70, 1.5, <music21.duration.Duration 0.5>, 0.25, 3, 3),\n",
       " (70, 2.0, <music21.duration.Duration 0.5>, 0.5, 2, 3),\n",
       " (70, 2.5, <music21.duration.Duration 0.5>, 0.25, 0, 3),\n",
       " (70, 3.0, <music21.duration.Duration 0.5>, 0.5, 10, 2),\n",
       " (70, 3.5, <music21.duration.Duration 0.5>, 0.25, 9, 2),\n",
       " (71, 1.0, <music21.duration.Duration 0.5>, 1.0, 3, 3),\n",
       " (71, 1.5, <music21.duration.Duration 0.5>, 0.25, 2, 3),\n",
       " (71, 2.0, <music21.duration.Duration 0.5>, 0.5, 0, 3),\n",
       " (71, 2.5, <music21.duration.Duration 0.5>, 0.25, 10, 2),\n",
       " (71, 3.0, <music21.duration.Duration 0.5>, 0.5, 0, 4),\n",
       " (72, 1.0, <music21.duration.Duration 0.5>, 1.0, 2, 4),\n",
       " (72, 2.0, <music21.duration.Duration 0.5>, 0.5, 3, 3),\n",
       " (72, 2.5, <music21.duration.Duration 0.5>, 0.25, 7, 3),\n",
       " (72, 3.0, <music21.duration.Duration 0.5>, 0.5, 5, 3),\n",
       " (72, 3.5, <music21.duration.Duration 0.5>, 0.25, 10, 3),\n",
       " (73, 1.0, <music21.duration.Duration 0.5>, 1.0, 8, 3),\n",
       " (73, 1.5, <music21.duration.Duration 0.5>, 0.25, 2, 4),\n",
       " (73, 2.0, <music21.duration.Duration 0.5>, 0.5, 0, 4),\n",
       " (73, 2.5, <music21.duration.Duration 0.5>, 0.25, 10, 3),\n",
       " (73, 3.0, <music21.duration.Duration 0.5>, 0.5, 0, 4),\n",
       " (73, 3.5, <music21.duration.Duration 0.5>, 0.25, 8, 3),\n",
       " (74, 1.0, <music21.duration.Duration 0.5>, 1.0, 10, 3),\n",
       " (74, 2.0, <music21.duration.Duration 0.5>, 0.5, 0, 3),\n",
       " (74, 2.5, <music21.duration.Duration 0.5>, 0.25, 3, 3),\n",
       " (74, 3.0, <music21.duration.Duration 0.5>, 0.5, 2, 3),\n",
       " (74, 3.5, <music21.duration.Duration 0.5>, 0.25, 5, 3),\n",
       " (75, 1.0, <music21.duration.Duration 0.5>, 1.0, 3, 3),\n",
       " (75, 1.5, <music21.duration.Duration 0.5>, 0.25, 10, 3),\n",
       " (75, 2.0, <music21.duration.Duration 0.5>, 0.5, 8, 3),\n",
       " (75, 2.5, <music21.duration.Duration 0.5>, 0.25, 5, 3),\n",
       " (75, 3.0, <music21.duration.Duration 0.5>, 0.5, 8, 3),\n",
       " (75, 3.5, <music21.duration.Duration 0.5>, 0.25, 3, 3),\n",
       " (76, 1.0, <music21.duration.Duration 0.5>, 1.0, 5, 3),\n",
       " (76, 1.5, <music21.duration.Duration 0.5>, 0.25, 8, 3),\n",
       " (76, 2.0, <music21.duration.Duration 0.5>, 0.5, 10, 3),\n",
       " (76, 2.5, <music21.duration.Duration 0.5>, 0.25, 0, 4),\n",
       " (76, 3.0, <music21.duration.Duration 0.5>, 0.5, 2, 4),\n",
       " (77, 1.0, <music21.duration.Duration 0.5>, 1.0, 3, 3),\n",
       " (77, 1.5, <music21.duration.Duration 0.5>, 0.25, 2, 3),\n",
       " (77, 2.0, <music21.duration.Duration 0.5>, 0.5, 0, 3),\n",
       " (77, 2.5, <music21.duration.Duration 0.5>, 0.25, 10, 2),\n",
       " (77, 3.0, <music21.duration.Duration 0.5>, 0.5, 0, 3),\n",
       " (77, 3.5, <music21.duration.Duration 0.5>, 0.25, 2, 3),\n",
       " (78, 1.0, <music21.duration.Duration 0.5>, 1.0, 3, 3),\n",
       " (78, 1.5, <music21.duration.Duration 0.5>, 0.25, 5, 3),\n",
       " (78, 2.0, <music21.duration.Duration 0.5>, 0.5, 5, 3),\n",
       " (78, 2.0, <music21.duration.Duration 0.5>, 0.5, 10, 2),\n",
       " (78, 3.5, <music21.duration.Duration 0.5>, 0.25, 3, 3),\n",
       " (79, 1.0, <music21.duration.Duration 0.5>, 1.0, 3, 2),\n",
       " (80, 1.0, <music21.duration.Duration 0.5>, 1.0, 0, 4),\n",
       " (80, 2.0, <music21.duration.Duration 0.5>, 0.5, 2, 3),\n",
       " (80, 2.5, <music21.duration.Duration 0.5>, 0.25, 0, 4),\n",
       " (80, 3.0, <music21.duration.Duration 0.5>, 0.5, 4, 3),\n",
       " (80, 3.5, <music21.duration.Duration 0.5>, 0.25, 0, 4),\n",
       " (81, 1.0, <music21.duration.Duration 0.5>, 1.0, 5, 3),\n",
       " (81, 1.5, <music21.duration.Duration 0.5>, 0.25, 0, 4),\n",
       " (81, 2.0, <music21.duration.Duration 0.5>, 0.5, 10, 3),\n",
       " (81, 2.5, <music21.duration.Duration 0.5>, 0.25, 8, 3),\n",
       " (81, 3.0, <music21.duration.Duration 0.5>, 0.5, 10, 3),\n",
       " (81, 3.5, <music21.duration.Duration 0.5>, 0.25, 5, 3),\n",
       " (82, 1.0, <music21.duration.Duration 0.5>, 1.0, 2, 4),\n",
       " (82, 2.0, <music21.duration.Duration 0.5>, 0.5, 3, 3),\n",
       " (82, 2.5, <music21.duration.Duration 0.5>, 0.25, 2, 4),\n",
       " (82, 3.0, <music21.duration.Duration 0.5>, 0.5, 5, 3),\n",
       " (82, 3.5, <music21.duration.Duration 0.5>, 0.25, 2, 4),\n",
       " (83, 1.0, <music21.duration.Duration 0.5>, 1.0, 7, 3),\n",
       " (83, 1.5, <music21.duration.Duration 0.5>, 0.25, 2, 4),\n",
       " (83, 2.0, <music21.duration.Duration 0.5>, 0.5, 0, 4),\n",
       " (83, 2.5, <music21.duration.Duration 0.5>, 0.25, 10, 3),\n",
       " (83, 3.0, <music21.duration.Duration 0.5>, 0.5, 0, 4),\n",
       " (83, 3.5, <music21.duration.Duration 0.5>, 0.25, 8, 3),\n",
       " (84, 1.0, <music21.duration.Duration 0.5>, 1.0, 5, 4),\n",
       " (84, 2.0, <music21.duration.Duration 0.5>, 0.5, 7, 3),\n",
       " (84, 2.5, <music21.duration.Duration 0.5>, 0.25, 5, 4),\n",
       " (84, 3.0, <music21.duration.Duration 0.5>, 0.5, 8, 3),\n",
       " (84, 3.5, <music21.duration.Duration 0.5>, 0.25, 5, 4),\n",
       " (85, 1.0, <music21.duration.Duration 0.5>, 1.0, 10, 3),\n",
       " (85, 1.5, <music21.duration.Duration 0.5>, 0.25, 3, 4),\n",
       " (85, 2.0, <music21.duration.Duration 0.5>, 0.5, 5, 3),\n",
       " (85, 2.5, <music21.duration.Duration 0.5>, 0.25, 3, 4),\n",
       " (85, 3.0, <music21.duration.Duration 0.5>, 0.5, 7, 3),\n",
       " (85, 3.5, <music21.duration.Duration 0.5>, 0.25, 3, 4),\n",
       " (86, 1.0, <music21.duration.Duration 0.5>, 1.0, 8, 3),\n",
       " (86, 1.5, <music21.duration.Duration 0.5>, 0.25, 2, 4),\n",
       " (86, 2.0, <music21.duration.Duration 0.5>, 0.5, 3, 3),\n",
       " (86, 2.5, <music21.duration.Duration 0.5>, 0.25, 2, 4),\n",
       " (86, 3.0, <music21.duration.Duration 0.5>, 0.5, 5, 3),\n",
       " (86, 3.5, <music21.duration.Duration 0.5>, 0.25, 2, 4),\n",
       " (87, 1.0, <music21.duration.Duration 0.5>, 1.0, 7, 3),\n",
       " (87, 1.5, <music21.duration.Duration 0.5>, 0.25, 2, 4),\n",
       " (87, 2.0, <music21.duration.Duration 0.5>, 0.5, 1, 4),\n",
       " (87, 2.5, <music21.duration.Duration 0.5>, 0.25, 11, 3),\n",
       " (87, 3.0, <music21.duration.Duration 0.5>, 0.5, 1, 4),\n",
       " (87, 3.5, <music21.duration.Duration 0.5>, 0.25, 8, 3),\n",
       " (88, 1.0, <music21.duration.Duration 0.5>, 1.0, 10, 3),\n",
       " (88, 1.5, <music21.duration.Duration 0.5>, 0.25, 0, 4),\n",
       " (88, 2.0, <music21.duration.Duration 0.5>, 0.5, 2, 4),\n",
       " (88, 3.0, <music21.duration.Duration 0.5>, 0.5, 3, 4),\n",
       " (89, 1.0, <music21.duration.Duration 0.5>, 1.0, 5, 4),\n",
       " (89, 1.5, <music21.duration.Duration 0.5>, 0.25, 8, 3),\n",
       " (89, 2.0, <music21.duration.Duration 0.5>, 0.5, 7, 3),\n",
       " (89, 2.5, <music21.duration.Duration 0.5>, 0.25, 5, 3),\n",
       " (89, 3.0, <music21.duration.Duration 0.5>, 0.5, 7, 3),\n",
       " (89, 3.5, <music21.duration.Duration 0.5>, 0.25, 3, 3),\n",
       " (90, 1.0, <music21.duration.Duration 0.5>, 1.0, 5, 3),\n",
       " (90, 1.5, <music21.duration.Duration 0.5>, 0.25, 8, 3),\n",
       " (90, 2.0, <music21.duration.Duration 0.5>, 0.5, 11, 3),\n",
       " (90, 2.5, <music21.duration.Duration 0.5>, 0.25, 5, 3),\n",
       " (90, 3.0, <music21.duration.Duration 0.5>, 0.5, 1, 4),\n",
       " (90, 3.5, <music21.duration.Duration 0.5>, 0.25, 5, 3),\n",
       " (91, 1.0, <music21.duration.Duration 0.5>, 1.0, 2, 4),\n",
       " (91, 1.5, <music21.duration.Duration 0.5>, 0.25, 5, 3),\n",
       " (91, 2.0, <music21.duration.Duration 0.5>, 0.5, 3, 3),\n",
       " (91, 2.5, <music21.duration.Duration 0.5>, 0.25, 2, 3),\n",
       " (91, 3.0, <music21.duration.Duration 0.5>, 0.5, 3, 3),\n",
       " (91, 3.5, <music21.duration.Duration 0.5>, 0.25, 0, 3),\n",
       " (92, 1.0, <music21.duration.Duration 0.5>, 1.0, 2, 3),\n",
       " (92, 1.5, <music21.duration.Duration 0.5>, 0.25, 3, 3),\n",
       " (92, 2.0, <music21.duration.Duration 0.5>, 0.5, 5, 3),\n",
       " (92, 2.5, <music21.duration.Duration 0.5>, 0.25, 2, 3),\n",
       " (92, 3.0, <music21.duration.Duration 0.5>, 0.5, 11, 2),\n",
       " (92, 3.5, <music21.duration.Duration 0.5>, 0.25, 0, 3),\n",
       " (93, 1.0, <music21.duration.Duration 0.5>, 1.0, 2, 3),\n",
       " (93, 1.5, <music21.duration.Duration 0.5>, 0.25, 11, 2),\n",
       " (93, 2.0, <music21.duration.Duration 0.5>, 0.5, 7, 2),\n",
       " (93, 2.5, <music21.duration.Duration 0.5>, 0.25, 9, 2),\n",
       " (93, 3.0, <music21.duration.Duration 0.5>, 0.5, 11, 2),\n",
       " (93, 3.5, <music21.duration.Duration 0.5>, 0.25, 5, 2),\n",
       " (94, 1.0, <music21.duration.Duration 0.5>, 1.0, 3, 2),\n",
       " (94, 1.5, <music21.duration.Duration 0.5>, 0.25, 7, 2),\n",
       " (94, 2.0, <music21.duration.Duration 0.5>, 0.5, 0, 3),\n",
       " (94, 2.5, <music21.duration.Duration 0.5>, 0.25, 5, 2),\n",
       " (94, 3.0, <music21.duration.Duration 0.5>, 0.5, 7, 2),\n",
       " (94, 3.5, <music21.duration.Duration 0.5>, 0.25, 11, 2),\n",
       " (95, 1.0, <music21.duration.Duration 0.5>, 1.0, 9, 2),\n",
       " (95, 1.5, <music21.duration.Duration 0.5>, 0.25, 0, 3),\n",
       " (95, 2.0, <music21.duration.Duration 0.5>, 0.5, 5, 3),\n",
       " (95, 2.5, <music21.duration.Duration 0.5>, 0.25, 11, 2),\n",
       " (95, 3.0, <music21.duration.Duration 0.5>, 0.5, 0, 3),\n",
       " (95, 3.5, <music21.duration.Duration 0.5>, 0.25, 3, 3),\n",
       " (96, 1.0, <music21.duration.Duration 0.5>, 1.0, 2, 3),\n",
       " (96, 1.5, <music21.duration.Duration 0.5>, 0.25, 5, 3),\n",
       " (96, 2.0, <music21.duration.Duration 0.5>, 0.5, 0, 4),\n",
       " (96, 2.5, <music21.duration.Duration 0.5>, 0.25, 4, 3),\n",
       " (96, 3.0, <music21.duration.Duration 0.5>, 0.5, 5, 3),\n",
       " (96, 3.5, <music21.duration.Duration 0.5>, 0.25, 10, 3),\n",
       " (97, 1.0, <music21.duration.Duration 0.5>, 1.0, 5, 3),\n",
       " (97, 1.5, <music21.duration.Duration 0.5>, 0.25, 8, 3),\n",
       " (97, 2.0, <music21.duration.Duration 0.5>, 0.5, 3, 3),\n",
       " (97, 2.5, <music21.duration.Duration 0.5>, 0.25, 8, 3),\n",
       " (97, 3.0, <music21.duration.Duration 0.5>, 0.5, 2, 3),\n",
       " (97, 3.5, <music21.duration.Duration 0.5>, 0.25, 8, 3),\n",
       " (98, 1.0, <music21.duration.Duration 0.5>, 1.0, 3, 3),\n",
       " (98, 1.5, <music21.duration.Duration 0.5>, 0.25, 8, 3),\n",
       " (98, 2.0, <music21.duration.Duration 0.5>, 0.5, 3, 3),\n",
       " (98, 2.5, <music21.duration.Duration 0.5>, 0.25, 2, 4),\n",
       " (98, 3.0, <music21.duration.Duration 0.5>, 0.5, 3, 3),\n",
       " (98, 3.5, <music21.duration.Duration 0.5>, 0.25, 0, 4),\n",
       " (99, 1.0, <music21.duration.Duration 0.5>, 1.0, 3, 3),\n",
       " (99, 1.5, <music21.duration.Duration 0.5>, 0.25, 11, 3),\n",
       " (99, 2.0, <music21.duration.Duration 0.5>, 0.5, 5, 3),\n",
       " (99, 2.5, <music21.duration.Duration 0.5>, 0.25, 11, 3),\n",
       " (99, 3.0, <music21.duration.Duration 0.5>, 0.5, 3, 3),\n",
       " (99, 3.5, <music21.duration.Duration 0.5>, 0.25, 11, 3),\n",
       " (100, 1.0, <music21.duration.Duration 0.5>, 1.0, 2, 3),\n",
       " (100, 1.5, <music21.duration.Duration 0.5>, 0.25, 10, 3),\n",
       " (100, 2.0, <music21.duration.Duration 0.5>, 0.5, 2, 3),\n",
       " (100, 2.5, <music21.duration.Duration 0.5>, 0.25, 0, 4),\n",
       " (100, 3.0, <music21.duration.Duration 0.5>, 0.5, 2, 3),\n",
       " (100, 3.5, <music21.duration.Duration 0.5>, 0.25, 10, 3),\n",
       " (101, 1.0, <music21.duration.Duration 0.5>, 1.0, 3, 3),\n",
       " (101, 1.5, <music21.duration.Duration 0.5>, 0.25, 10, 3),\n",
       " (101, 2.0, <music21.duration.Duration 0.5>, 0.5, 8, 3),\n",
       " (101, 2.5, <music21.duration.Duration 0.5>, 0.25, 5, 3),\n",
       " (101, 3.0, <music21.duration.Duration 0.5>, 0.5, 8, 3),\n",
       " (101, 3.5, <music21.duration.Duration 0.5>, 0.25, 0, 4),\n",
       " (102, 1.0, <music21.duration.Duration 0.5>, 1.0, 5, 4),\n",
       " (102, 2.0, <music21.duration.Duration 0.5>, 0.5, 7, 2),\n",
       " (102, 3.0, <music21.duration.Duration 0.5>, 0.5, 9, 2),\n",
       " (103, 1.0, <music21.duration.Duration 0.5>, 1.0, 10, 2),\n",
       " (103, 2.0, <music21.duration.Duration 0.5>, 0.5, 3, 4),\n",
       " (103, 2.5, <music21.duration.Duration 0.5>, 0.25, 2, 4),\n",
       " (103, 3.0, <music21.duration.Duration 0.5>, 0.5, 3, 4),\n",
       " (103, 3.5, <music21.duration.Duration 0.5>, 0.25, 0, 4),\n",
       " (104, 1.0, <music21.duration.Duration 0.5>, 1.0, 2, 4),\n",
       " (104, 2.0, <music21.duration.Duration 0.5>, 0.5, 4, 2),\n",
       " (104, 3.0, <music21.duration.Duration 0.5>, 0.5, 6, 2),\n",
       " (105, 1.0, <music21.duration.Duration 0.5>, 1.0, 7, 2),\n",
       " (105, 2.0, <music21.duration.Duration 0.5>, 0.5, 0, 4),\n",
       " (105, 2.5, <music21.duration.Duration 0.5>, 0.25, 11, 3),\n",
       " (105, 3.0, <music21.duration.Duration 0.5>, 0.5, 0, 4),\n",
       " (105, 3.5, <music21.duration.Duration 0.5>, 0.25, 8, 3),\n",
       " (106, 1.0, <music21.duration.Duration 0.5>, 1.0, 11, 3),\n",
       " (106, 1.5, <music21.duration.Duration 0.5>, 0.25, 0, 4),\n",
       " (106, 2.0, <music21.duration.Duration 0.5>, 0.5, 2, 4),\n",
       " (106, 2.5, <music21.duration.Duration 0.5>, 0.25, 11, 3),\n",
       " (106, 3.0, <music21.duration.Duration 0.5>, 0.5, 6, 3),\n",
       " (106, 3.5, <music21.duration.Duration 0.5>, 0.25, 8, 3),\n",
       " (107, 1.0, <music21.duration.Duration 0.5>, 1.0, 11, 3),\n",
       " (107, 1.5, <music21.duration.Duration 0.5>, 0.25, 6, 3),\n",
       " (107, 2.0, <music21.duration.Duration 0.5>, 0.5, 2, 3),\n",
       " (107, 2.5, <music21.duration.Duration 0.5>, 0.25, 4, 3),\n",
       " (107, 3.0, <music21.duration.Duration 0.5>, 0.5, 6, 3),\n",
       " (107, 3.5, <music21.duration.Duration 0.5>, 0.25, 0, 3),\n",
       " (108, 1.0, <music21.duration.Duration 0.5>, 1.0, 10, 2),\n",
       " (108, 1.5, <music21.duration.Duration 0.5>, 0.25, 2, 3),\n",
       " (108, 2.0, <music21.duration.Duration 0.5>, 0.5, 7, 3),\n",
       " (108, 2.5, <music21.duration.Duration 0.5>, 0.25, 0, 3),\n",
       " (108, 3.0, <music21.duration.Duration 0.5>, 0.5, 2, 3),\n",
       " (108, 3.5, <music21.duration.Duration 0.5>, 0.25, 6, 3),\n",
       " (109, 1.0, <music21.duration.Duration 0.5>, 1.0, 7, 2),\n",
       " (109, 3.0, <music21.duration.Duration 0.5>, 0.5, 2, 3),\n",
       " (110, 1.0, <music21.duration.Duration 0.5>, 1.0, 2, 3),\n",
       " (110, 2.0, <music21.duration.Duration 0.5>, 0.5, 0, 3),\n",
       " (110, 2.5, <music21.duration.Duration 0.5>, 0.25, 10, 2),\n",
       " (110, 3.0, <music21.duration.Duration 0.5>, 0.5, 0, 3),\n",
       " (110, 3.5, <music21.duration.Duration 0.5>, 0.25, 9, 2),\n",
       " (111, 1.0, <music21.duration.Duration 0.5>, 1.0, 10, 2),\n",
       " (111, 1.5, <music21.duration.Duration 0.5>, 0.25, 2, 3),\n",
       " (111, 2.0, <music21.duration.Duration 0.5>, 0.5, 7, 3),\n",
       " (111, 2.5, <music21.duration.Duration 0.5>, 0.25, 4, 3),\n",
       " (111, 3.0, <music21.duration.Duration 0.5>, 0.5, 5, 3),\n",
       " (111, 3.5, <music21.duration.Duration 0.5>, 0.25, 2, 3),\n",
       " (112, 1.0, <music21.duration.Duration 0.5>, 1.0, 4, 3),\n",
       " (112, 1.5, <music21.duration.Duration 0.5>, 0.25, 0, 3),\n",
       " (112, 2.0, <music21.duration.Duration 0.5>, 0.5, 10, 2),\n",
       " (112, 2.5, <music21.duration.Duration 0.5>, 0.25, 8, 2),\n",
       " (112, 3.0, <music21.duration.Duration 0.5>, 0.5, 10, 2),\n",
       " (112, 3.5, <music21.duration.Duration 0.5>, 0.25, 7, 2),\n",
       " (113, 1.0, <music21.duration.Duration 0.5>, 1.0, 8, 2),\n",
       " (113, 1.5, <music21.duration.Duration 0.5>, 0.25, 0, 3),\n",
       " (113, 2.0, <music21.duration.Duration 0.5>, 0.5, 5, 3),\n",
       " (113, 2.5, <music21.duration.Duration 0.5>, 0.25, 2, 3),\n",
       " (113, 3.0, <music21.duration.Duration 0.5>, 0.5, 3, 3),\n",
       " (113, 3.5, <music21.duration.Duration 0.5>, 0.25, 0, 3),\n",
       " (114, 1.0, <music21.duration.Duration 0.5>, 1.0, 7, 2),\n",
       " (114, 2.0, <music21.duration.Duration 0.5>, 0.5, 2, 3),\n",
       " (114, 2.5, <music21.duration.Duration 0.5>, 0.25, 3, 3),\n",
       " (114, 3.0, <music21.duration.Duration 0.5>, 0.5, 2, 3),\n",
       " (114, 3.5, <music21.duration.Duration 0.5>, 0.25, 3, 3),\n",
       " (115, 1.0, <music21.duration.Duration 0.5>, 1.0, 5, 3),\n",
       " (115, 1.5, <music21.duration.Duration 0.5>, 0.25, 8, 3),\n",
       " (115, 2.0, <music21.duration.Duration 0.5>, 0.5, 5, 3),\n",
       " (115, 2.5, <music21.duration.Duration 0.5>, 0.25, 8, 3),\n",
       " (115, 3.0, <music21.duration.Duration 0.5>, 0.5, 10, 3),\n",
       " (115, 3.5, <music21.duration.Duration 0.5>, 0.25, 5, 3),\n",
       " (116, 1.0, <music21.duration.Duration 0.5>, 1.0, 1, 4),\n",
       " (116, 1.5, <music21.duration.Duration 0.5>, 0.25, 5, 3),\n",
       " (116, 2.0, <music21.duration.Duration 0.5>, 0.5, 3, 4),\n",
       " (116, 2.5, <music21.duration.Duration 0.5>, 0.25, 10, 3),\n",
       " (116, 3.0, <music21.duration.Duration 0.5>, 0.5, 8, 3),\n",
       " (116, 3.5, <music21.duration.Duration 0.5>, 0.25, 5, 3),\n",
       " (117, 1.0, <music21.duration.Duration 0.5>, 1.0, 3, 3),\n",
       " (117, 1.5, <music21.duration.Duration 0.5>, 0.25, 7, 3),\n",
       " (117, 2.0, <music21.duration.Duration 0.5>, 0.5, 2, 3),\n",
       " (117, 2.5, <music21.duration.Duration 0.5>, 0.25, 3, 3),\n",
       " (117, 3.0, <music21.duration.Duration 0.5>, 0.5, 5, 3),\n",
       " (117, 3.5, <music21.duration.Duration 0.5>, 0.25, 2, 3),\n",
       " (118, 1.0, <music21.duration.Duration 0.5>, 1.0, 3, 3),\n",
       " (118, 1.5, <music21.duration.Duration 0.5>, 0.25, 0, 3),\n",
       " (118, 2.0, <music21.duration.Duration 0.5>, 0.5, 11, 2),\n",
       " (118, 2.5, <music21.duration.Duration 0.5>, 0.25, 0, 3),\n",
       " (118, 3.0, <music21.duration.Duration 0.5>, 0.5, 2, 3),\n",
       " (118, 3.5, <music21.duration.Duration 0.5>, 0.25, 11, 2),\n",
       " (119, 1.0, <music21.duration.Duration 0.5>, 1.0, 0, 3),\n",
       " (119, 1.5, <music21.duration.Duration 0.5>, 0.25, 3, 3),\n",
       " (119, 2.0, <music21.duration.Duration 0.5>, 0.5, 2, 3),\n",
       " (119, 2.5, <music21.duration.Duration 0.5>, 0.25, 3, 3),\n",
       " (119, 3.0, <music21.duration.Duration 0.5>, 0.5, 5, 3),\n",
       " (119, 3.5, <music21.duration.Duration 0.5>, 0.25, 2, 3),\n",
       " (120, 1.0, <music21.duration.Duration 0.5>, 1.0, 4, 3),\n",
       " (120, 1.5, <music21.duration.Duration 0.5>, 0.25, 10, 2),\n",
       " (120, 2.0, <music21.duration.Duration 0.5>, 0.5, 8, 2),\n",
       " (120, 2.5, <music21.duration.Duration 0.5>, 0.25, 10, 2),\n",
       " (120, 3.0, <music21.duration.Duration 0.5>, 0.5, 0, 3),\n",
       " (120, 3.5, <music21.duration.Duration 0.5>, 0.25, 8, 2),\n",
       " (121, 1.0, <music21.duration.Duration 0.5>, 1.0, 10, 2),\n",
       " (121, 1.5, <music21.duration.Duration 0.5>, 0.25, 5, 3),\n",
       " (121, 2.0, <music21.duration.Duration 0.5>, 0.5, 4, 3),\n",
       " (121, 2.5, <music21.duration.Duration 0.5>, 0.25, 5, 3),\n",
       " (121, 3.0, <music21.duration.Duration 0.5>, 0.5, 7, 3),\n",
       " (121, 3.5, <music21.duration.Duration 0.5>, 0.25, 4, 3),\n",
       " (122, 1.0, <music21.duration.Duration 0.5>, 1.0, 5, 3),\n",
       " (122, 1.5, <music21.duration.Duration 0.5>, 0.25, 8, 2),\n",
       " (122, 2.0, <music21.duration.Duration 0.5>, 0.5, 7, 2),\n",
       " (122, 2.5, <music21.duration.Duration 0.5>, 0.25, 8, 2),\n",
       " (122, 3.0, <music21.duration.Duration 0.5>, 0.5, 10, 2),\n",
       " (122, 3.5, <music21.duration.Duration 0.5>, 0.25, 7, 2),\n",
       " (123, 1.0, <music21.duration.Duration 0.5>, 1.0, 8, 2),\n",
       " (123, 1.5, <music21.duration.Duration 0.5>, 0.25, 7, 3),\n",
       " (123, 2.0, <music21.duration.Duration 0.5>, 0.5, 5, 3),\n",
       " (123, 2.5, <music21.duration.Duration 0.5>, 0.25, 7, 3),\n",
       " (123, 3.0, <music21.duration.Duration 0.5>, 0.5, 8, 3),\n",
       " (123, 3.5, <music21.duration.Duration 0.5>, 0.25, 5, 3),\n",
       " (124, 1.0, <music21.duration.Duration 0.5>, 1.0, 7, 3),\n",
       " (124, 1.5, <music21.duration.Duration 0.5>, 0.25, 4, 2),\n",
       " (124, 2.0, <music21.duration.Duration 0.5>, 0.5, 2, 2),\n",
       " (124, 2.5, <music21.duration.Duration 0.5>, 0.25, 4, 2),\n",
       " (124, 3.0, <music21.duration.Duration 0.5>, 0.5, 5, 2),\n",
       " (124, 3.5, <music21.duration.Duration 0.5>, 0.25, 2, 2),\n",
       " (125, 1.0, <music21.duration.Duration 0.5>, 1.0, 4, 2),\n",
       " (125, 1.5, <music21.duration.Duration 0.5>, 0.25, 5, 2),\n",
       " (125, 2.0, <music21.duration.Duration 0.5>, 0.5, 7, 2),\n",
       " (125, 2.5, <music21.duration.Duration 0.5>, 0.25, 8, 2),\n",
       " (125, 3.0, <music21.duration.Duration 0.5>, 0.5, 10, 2),\n",
       " (125, 3.5, <music21.duration.Duration 0.5>, 0.25, 7, 2),\n",
       " (126, 1.0, <music21.duration.Duration 0.5>, 1.0, 8, 2),\n",
       " (126, 1.5, <music21.duration.Duration 0.5>, 0.25, 7, 2),\n",
       " (126, 2.0, <music21.duration.Duration 0.5>, 0.5, 8, 2),\n",
       " (126, 2.5, <music21.duration.Duration 0.5>, 0.25, 10, 2),\n",
       " (126, 3.0, <music21.duration.Duration 0.5>, 0.5, 0, 3),\n",
       " (126, 3.5, <music21.duration.Duration 0.5>, 0.25, 2, 3),\n",
       " (127, 1.0, <music21.duration.Duration 0.5>, 1.0, 4, 3),\n",
       " (127, 1.5, <music21.duration.Duration 0.5>, 0.25, 5, 3),\n",
       " (127, 2.0, <music21.duration.Duration 0.5>, 0.5, 7, 3),\n",
       " (127, 2.5, <music21.duration.Duration 0.5>, 0.25, 10, 3),\n",
       " (127, 3.0, <music21.duration.Duration 0.5>, 0.5, 0, 4),\n",
       " (127, 3.5, <music21.duration.Duration 0.5>, 0.25, 8, 3),\n",
       " (128, 1.0, <music21.duration.Duration 0.5>, 1.0, 10, 3),\n",
       " (128, 1.5, <music21.duration.Duration 0.5>, 0.25, 8, 3),\n",
       " (128, 2.0, <music21.duration.Duration 0.5>, 0.5, 5, 3),\n",
       " (128, 2.5, <music21.duration.Duration 0.5>, 0.25, 4, 3),\n",
       " (128, 3.0, <music21.duration.Duration 0.5>, 0.5, 5, 3),\n",
       " (128, 3.5, <music21.duration.Duration 0.5>, 0.25, 8, 3),\n",
       " (129, 1.0, <music21.duration.Duration 0.5>, 1.0, 10, 3),\n",
       " (129, 1.5, <music21.duration.Duration 0.5>, 0.25, 0, 4),\n",
       " (129, 2.0, <music21.duration.Duration 0.5>, 0.5, 2, 4),\n",
       " (129, 2.5, <music21.duration.Duration 0.5>, 0.25, 3, 4),\n",
       " (129, 3.0, <music21.duration.Duration 0.5>, 0.5, 0, 4),\n",
       " (129, 3.5, <music21.duration.Duration 0.5>, 0.25, 2, 4),\n",
       " (130, 1.0, <music21.duration.Duration 0.5>, 1.0, 3, 4),\n",
       " (130, 1.5, <music21.duration.Duration 0.5>, 0.25, 0, 4),\n",
       " (130, 2.0, <music21.duration.Duration 0.5>, 0.5, 5, 3),\n",
       " (130, 2.5, <music21.duration.Duration 0.5>, 0.25, 10, 3),\n",
       " (130, 3.0, <music21.duration.Duration 0.5>, 0.5, 8, 3),\n",
       " (130, 3.5, <music21.duration.Duration 0.5>, 0.25, 0, 4),\n",
       " (131, 1.0, <music21.duration.Duration 0.5>, 1.0, 10, 3),\n",
       " (131, 1.5, <music21.duration.Duration 0.5>, 0.25, 3, 4),\n",
       " (131, 2.0, <music21.duration.Duration 0.5>, 0.5, 2, 4),\n",
       " (131, 2.5, <music21.duration.Duration 0.5>, 0.25, 0, 4),\n",
       " (131, 3.0, <music21.duration.Duration 0.5>, 0.5, 2, 4),\n",
       " (131, 3.5, <music21.duration.Duration 0.5>, 0.25, 10, 3),\n",
       " (132, 1.0, <music21.duration.Duration 0.5>, 1.0, 0, 4),\n",
       " (132, 1.5, <music21.duration.Duration 0.5>, 0.25, 8, 3),\n",
       " (132, 2.0, <music21.duration.Duration 0.5>, 0.5, 2, 3),\n",
       " (132, 2.5, <music21.duration.Duration 0.5>, 0.25, 5, 3),\n",
       " (132, 3.0, <music21.duration.Duration 0.5>, 0.5, 4, 3),\n",
       " (132, 3.5, <music21.duration.Duration 0.5>, 0.25, 7, 3),\n",
       " (133, 1.0, <music21.duration.Duration 0.5>, 1.0, 5, 3),\n",
       " (133, 1.5, <music21.duration.Duration 0.5>, 0.25, 0, 4),\n",
       " (133, 2.0, <music21.duration.Duration 0.5>, 0.5, 10, 3),\n",
       " (133, 2.5, <music21.duration.Duration 0.5>, 0.25, 8, 3),\n",
       " (133, 3.0, <music21.duration.Duration 0.5>, 0.5, 10, 3),\n",
       " (133, 3.5, <music21.duration.Duration 0.5>, 0.25, 5, 3),\n",
       " (134, 1.0, <music21.duration.Duration 0.5>, 1.0, 8, 3),\n",
       " (134, 1.5, <music21.duration.Duration 0.5>, 0.25, 10, 3),\n",
       " (134, 2.0, <music21.duration.Duration 0.5>, 0.5, 0, 4),\n",
       " (134, 2.5, <music21.duration.Duration 0.5>, 0.25, 8, 3),\n",
       " (134, 3.0, <music21.duration.Duration 0.5>, 0.5, 4, 3),\n",
       " (134, 3.5, <music21.duration.Duration 0.5>, 0.25, 5, 3),\n",
       " (135, 1.0, <music21.duration.Duration 0.5>, 1.0, 7, 3),\n",
       " (135, 1.5, <music21.duration.Duration 0.5>, 0.25, 4, 3),\n",
       " (135, 2.0, <music21.duration.Duration 0.5>, 0.5, 0, 3),\n",
       " (135, 2.5, <music21.duration.Duration 0.5>, 0.25, 2, 3),\n",
       " (135, 3.0, <music21.duration.Duration 0.5>, 0.5, 4, 3),\n",
       " (135, 3.5, <music21.duration.Duration 0.5>, 0.25, 10, 2),\n",
       " (136, 1.0, <music21.duration.Duration 0.5>, 1.0, 8, 2),\n",
       " (136, 1.5, <music21.duration.Duration 0.5>, 0.25, 0, 3),\n",
       " (136, 2.0, <music21.duration.Duration 0.5>, 0.5, 5, 3),\n",
       " (136, 2.5, <music21.duration.Duration 0.5>, 0.25, 10, 2),\n",
       " (136, 3.0, <music21.duration.Duration 0.5>, 0.5, 0, 3),\n",
       " (136, 3.5, <music21.duration.Duration 0.5>, 0.25, 4, 3),\n",
       " (137, 1.0, <music21.duration.Duration 0.5>, 1.0, 5, 3),\n",
       " (137, 2.0, <music21.duration.Duration 0.5>, 0.5, 5, 2),\n",
       " (137, 3.0, <music21.duration.Duration 0.5>, 0.5, 10, 3),\n",
       " (138, 1.0, <music21.duration.Duration 0.5>, 1.0, 10, 3),\n",
       " (138, 2.0, <music21.duration.Duration 0.5>, 0.5, 5, 3),\n",
       " (138, 2.5, <music21.duration.Duration 0.5>, 0.25, 2, 3),\n",
       " (138, 3.0, <music21.duration.Duration 0.5>, 0.5, 5, 3),\n",
       " (138, 3.5, <music21.duration.Duration 0.5>, 0.25, 2, 3),\n",
       " (139, 1.0, <music21.duration.Duration 0.5>, 1.0, 10, 2),\n",
       " (139, 1.5, <music21.duration.Duration 0.5>, 0.25, 8, 3),\n",
       " (139, 2.0, <music21.duration.Duration 0.5>, 0.5, 5, 3),\n",
       " (139, 2.5, <music21.duration.Duration 0.5>, 0.25, 2, 3),\n",
       " (139, 3.0, <music21.duration.Duration 0.5>, 0.5, 5, 3),\n",
       " (139, 3.5, <music21.duration.Duration 0.5>, 0.25, 2, 3),\n",
       " (140, 1.0, <music21.duration.Duration 0.5>, 1.0, 10, 2),\n",
       " (140, 1.5, <music21.duration.Duration 0.5>, 0.25, 2, 4),\n",
       " (140, 2.0, <music21.duration.Duration 0.5>, 0.5, 0, 4),\n",
       " (140, 2.5, <music21.duration.Duration 0.5>, 0.25, 10, 3),\n",
       " (140, 3.0, <music21.duration.Duration 0.5>, 0.5, 8, 3),\n",
       " (140, 3.5, <music21.duration.Duration 0.5>, 0.25, 5, 3),\n",
       " (141, 1.0, <music21.duration.Duration 0.5>, 1.0, 7, 3),\n",
       " (141, 1.5, <music21.duration.Duration 0.5>, 0.25, 5, 3),\n",
       " (141, 2.0, <music21.duration.Duration 0.5>, 0.5, 3, 3),\n",
       " (141, 2.5, <music21.duration.Duration 0.5>, 0.25, 7, 3),\n",
       " (141, 3.0, <music21.duration.Duration 0.5>, 0.5, 5, 3),\n",
       " (141, 3.5, <music21.duration.Duration 0.5>, 0.25, 10, 3),\n",
       " (142, 1.0, <music21.duration.Duration 0.5>, 1.0, 8, 3),\n",
       " (142, 2.0, <music21.duration.Duration 0.5>, 0.5, 3, 3),\n",
       " (142, 2.5, <music21.duration.Duration 0.5>, 0.25, 0, 3),\n",
       " (142, 3.0, <music21.duration.Duration 0.5>, 0.5, 3, 3),\n",
       " (142, 3.5, <music21.duration.Duration 0.5>, 0.25, 0, 3),\n",
       " (143, 1.0, <music21.duration.Duration 0.5>, 1.0, 8, 2),\n",
       " (143, 1.5, <music21.duration.Duration 0.5>, 0.25, 7, 3),\n",
       " (143, 2.0, <music21.duration.Duration 0.5>, 0.5, 3, 3),\n",
       " (143, 2.5, <music21.duration.Duration 0.5>, 0.25, 0, 3),\n",
       " (143, 3.0, <music21.duration.Duration 0.5>, 0.5, 3, 3),\n",
       " (143, 3.5, <music21.duration.Duration 0.5>, 0.25, 0, 3),\n",
       " (144, 1.0, <music21.duration.Duration 0.5>, 1.0, 8, 2),\n",
       " (144, 1.5, <music21.duration.Duration 0.5>, 0.25, 0, 4),\n",
       " (144, 2.0, <music21.duration.Duration 0.5>, 0.5, 10, 3),\n",
       " (144, 2.5, <music21.duration.Duration 0.5>, 0.25, 8, 3),\n",
       " (144, 3.0, <music21.duration.Duration 0.5>, 0.5, 5, 3),\n",
       " (144, 3.5, <music21.duration.Duration 0.5>, 0.25, 3, 3),\n",
       " (145, 1.0, <music21.duration.Duration 0.5>, 1.0, 5, 3),\n",
       " (145, 1.5, <music21.duration.Duration 0.5>, 0.25, 3, 3),\n",
       " (145, 2.0, <music21.duration.Duration 0.5>, 0.5, 2, 3),\n",
       " (145, 2.5, <music21.duration.Duration 0.5>, 0.25, 5, 3),\n",
       " (145, 3.0, <music21.duration.Duration 0.5>, 0.5, 3, 3),\n",
       " (145, 3.5, <music21.duration.Duration 0.5>, 0.25, 7, 3),\n",
       " (146, 1.0, <music21.duration.Duration 0.5>, 1.0, 5, 3),\n",
       " (146, 2.0, <music21.duration.Duration 0.5>, 0.5, 3, 4),\n",
       " (146, 2.5, <music21.duration.Duration 0.5>, 0.25, 1, 4),\n",
       " (146, 3.0, <music21.duration.Duration 0.5>, 0.5, 3, 4),\n",
       " (146, 3.5, <music21.duration.Duration 0.5>, 0.25, 1, 4),\n",
       " (147, 1.0, <music21.duration.Duration 0.5>, 1.0, 8, 3),\n",
       " (147, 1.5, <music21.duration.Duration 0.5>, 0.25, 5, 3),\n",
       " (147, 2.0, <music21.duration.Duration 0.5>, 0.5, 2, 3),\n",
       " (147, 2.5, <music21.duration.Duration 0.5>, 0.25, 11, 2),\n",
       " (147, 3.0, <music21.duration.Duration 0.5>, 0.5, 2, 3),\n",
       " (147, 3.5, <music21.duration.Duration 0.5>, 0.25, 11, 2),\n",
       " (148, 1.0, <music21.duration.Duration 0.5>, 1.0, 7, 2),\n",
       " (148, 1.5, <music21.duration.Duration 0.5>, 0.25, 10, 3),\n",
       " (148, 2.0, <music21.duration.Duration 0.5>, 0.5, 8, 3),\n",
       " (148, 2.5, <music21.duration.Duration 0.5>, 0.25, 5, 3),\n",
       " (148, 3.0, <music21.duration.Duration 0.5>, 0.5, 3, 3),\n",
       " (148, 3.5, <music21.duration.Duration 0.5>, 0.25, 2, 3),\n",
       " (149, 1.0, <music21.duration.Duration 0.5>, 1.0, 3, 3),\n",
       " (149, 1.5, <music21.duration.Duration 0.5>, 0.25, 2, 3),\n",
       " (149, 2.0, <music21.duration.Duration 0.5>, 0.5, 3, 3),\n",
       " (149, 2.5, <music21.duration.Duration 0.5>, 0.25, 5, 3),\n",
       " (149, 3.0, <music21.duration.Duration 0.5>, 0.5, 7, 3),\n",
       " (149, 3.5, <music21.duration.Duration 0.5>, 0.25, 7, 2),\n",
       " (150, 1.0, <music21.duration.Duration 0.5>, 1.0, 8, 2),\n",
       " (150, 2.0, <music21.duration.Duration 0.5>, 0.5, 2, 4),\n",
       " (150, 3.0, <music21.duration.Duration 0.5>, 0.5, 3, 4),\n",
       " (151, 1.0, <music21.duration.Duration 0.5>, 1.0, 5, 4),\n",
       " (151, 2.0, <music21.duration.Duration 0.5>, 0.5, 7, 2),\n",
       " (151, 2.5, <music21.duration.Duration 0.5>, 0.25, 5, 2),\n",
       " (151, 3.0, <music21.duration.Duration 0.5>, 0.5, 7, 2),\n",
       " (151, 3.5, <music21.duration.Duration 0.5>, 0.25, 3, 2),\n",
       " (152, 1.0, <music21.duration.Duration 0.5>, 1.0, 5, 2),\n",
       " (152, 2.0, <music21.duration.Duration 0.5>, 0.5, 11, 3),\n",
       " (152, 3.0, <music21.duration.Duration 0.5>, 0.5, 1, 4),\n",
       " (153, 1.0, <music21.duration.Duration 0.5>, 1.0, 2, 4),\n",
       " (153, 2.0, <music21.duration.Duration 0.5>, 0.5, 3, 2),\n",
       " (153, 2.5, <music21.duration.Duration 0.5>, 0.25, 2, 2),\n",
       " (153, 3.0, <music21.duration.Duration 0.5>, 0.5, 3, 2),\n",
       " (153, 3.5, <music21.duration.Duration 0.5>, 0.25, 0, 2),\n",
       " (154, 1.0, <music21.duration.Duration 0.5>, 1.0, 2, 2),\n",
       " (154, 1.5, <music21.duration.Duration 0.5>, 0.25, 0, 3),\n",
       " (154, 2.0, <music21.duration.Duration 0.5>, 0.5, 11, 2),\n",
       " (154, 2.5, <music21.duration.Duration 0.5>, 0.25, 9, 2),\n",
       " (154, 3.0, <music21.duration.Duration 0.5>, 0.5, 7, 2),\n",
       " (154, 3.5, <music21.duration.Duration 0.5>, 0.25, 5, 3),\n",
       " (155, 1.0, <music21.duration.Duration 0.5>, 1.0, 3, 3),\n",
       " (155, 1.5, <music21.duration.Duration 0.5>, 0.25, 2, 3),\n",
       " (155, 2.0, <music21.duration.Duration 0.5>, 0.5, 2, 4),\n",
       " (155, 2.5, <music21.duration.Duration 0.5>, 0.25, 1, 4),\n",
       " (155, 3.0, <music21.duration.Duration 0.5>, 0.5, 11, 3),\n",
       " (155, 3.5, <music21.duration.Duration 0.5>, 0.25, 8, 3),\n",
       " (156, 1.0, <music21.duration.Duration 0.5>, 1.0, 2, 4),\n",
       " (156, 1.5, <music21.duration.Duration 0.5>, 0.25, 8, 3),\n",
       " (156, 2.0, <music21.duration.Duration 0.5>, 0.5, 10, 3),\n",
       " (156, 2.5, <music21.duration.Duration 0.5>, 0.25, 5, 3),\n",
       " (156, 3.0, <music21.duration.Duration 0.5>, 0.5, 7, 3),\n",
       " (156, 3.5, <music21.duration.Duration 0.5>, 0.25, 2, 3),\n",
       " (157, 1.0, <music21.duration.Duration 0.5>, 1.0, 3, 3),\n",
       " (157, 1.5, <music21.duration.Duration 0.5>, 0.25, 2, 3),\n",
       " (157, 2.0, <music21.duration.Duration 0.5>, 0.5, 0, 3),\n",
       " (157, 2.5, <music21.duration.Duration 0.5>, 0.25, 3, 3),\n",
       " (157, 3.0, <music21.duration.Duration 0.5>, 0.5, 2, 3),\n",
       " (157, 3.5, <music21.duration.Duration 0.5>, 0.25, 5, 3),\n",
       " (158, 1.0, <music21.duration.Duration 0.5>, 1.0, 3, 3),\n",
       " (158, 1.5, <music21.duration.Duration 0.5>, 0.25, 2, 4),\n",
       " (158, 2.0, <music21.duration.Duration 0.5>, 0.5, 8, 3),\n",
       " (158, 2.5, <music21.duration.Duration 0.5>, 0.25, 3, 3),\n",
       " (158, 3.0, <music21.duration.Duration 0.5>, 0.5, 5, 3),\n",
       " (158, 3.5, <music21.duration.Duration 0.5>, 0.25, 2, 3),\n",
       " (159, 1.0, <music21.duration.Duration 0.5>, 1.0, 3, 3),\n",
       " (159, 1.5, <music21.duration.Duration 0.5>, 0.25, 2, 3),\n",
       " (159, 2.0, <music21.duration.Duration 0.5>, 0.5, 0, 3),\n",
       " (159, 2.5, <music21.duration.Duration 0.5>, 0.25, 3, 3),\n",
       " (159, 3.0, <music21.duration.Duration 0.5>, 0.5, 7, 2),\n",
       " (159, 3.5, <music21.duration.Duration 0.5>, 0.25, 10, 2),\n",
       " (160, 1.0, <music21.duration.Duration 0.5>, 1.0, 9, 2),\n",
       " (160, 1.5, <music21.duration.Duration 0.5>, 0.25, 0, 3),\n",
       " (160, 2.0, <music21.duration.Duration 0.5>, 0.5, 5, 3),\n",
       " (160, 2.5, <music21.duration.Duration 0.5>, 0.25, 2, 3),\n",
       " (160, 3.0, <music21.duration.Duration 0.5>, 0.5, 3, 3),\n",
       " (160, 3.5, <music21.duration.Duration 0.5>, 0.25, 0, 3),\n",
       " (161, 1.0, <music21.duration.Duration 0.5>, 1.0, 2, 3),\n",
       " (161, 1.5, <music21.duration.Duration 0.5>, 0.25, 0, 3),\n",
       " (161, 2.0, <music21.duration.Duration 0.5>, 0.5, 10, 2),\n",
       " (161, 2.5, <music21.duration.Duration 0.5>, 0.25, 2, 3),\n",
       " (161, 3.0, <music21.duration.Duration 0.5>, 0.5, 0, 3),\n",
       " (161, 3.5, <music21.duration.Duration 0.5>, 0.25, 3, 3),\n",
       " (162, 1.0, <music21.duration.Duration 0.5>, 1.0, 2, 3),\n",
       " (162, 1.5, <music21.duration.Duration 0.5>, 0.25, 5, 3),\n",
       " (162, 2.0, <music21.duration.Duration 0.5>, 0.5, 0, 4),\n",
       " (162, 2.5, <music21.duration.Duration 0.5>, 0.25, 8, 3),\n",
       " (162, 3.0, <music21.duration.Duration 0.5>, 0.5, 10, 3),\n",
       " (162, 3.5, <music21.duration.Duration 0.5>, 0.25, 5, 3),\n",
       " (163, 1.0, <music21.duration.Duration 0.5>, 1.0, 7, 3),\n",
       " (163, 1.5, <music21.duration.Duration 0.5>, 0.25, 5, 3),\n",
       " (163, 2.0, <music21.duration.Duration 0.5>, 0.5, 3, 3),\n",
       " (163, 2.5, <music21.duration.Duration 0.5>, 0.25, 7, 3),\n",
       " (163, 3.0, <music21.duration.Duration 0.5>, 0.5, 5, 3),\n",
       " (163, 3.5, <music21.duration.Duration 0.5>, 0.25, 10, 3),\n",
       " (164, 1.0, <music21.duration.Duration 0.5>, 1.0, 8, 3),\n",
       " (164, 1.5, <music21.duration.Duration 0.5>, 0.25, 0, 4),\n",
       " (164, 2.0, <music21.duration.Duration 0.5>, 0.5, 5, 4),\n",
       " (164, 2.5, <music21.duration.Duration 0.5>, 0.25, 2, 4),\n",
       " (164, 3.0, <music21.duration.Duration 0.5>, 0.5, 3, 4),\n",
       " (164, 3.5, <music21.duration.Duration 0.5>, 0.25, 1, 4),\n",
       " (165, 1.0, <music21.duration.Duration 0.5>, 1.0, 2, 4),\n",
       " (165, 1.5, <music21.duration.Duration 0.5>, 0.25, 0, 4),\n",
       " (165, 2.0, <music21.duration.Duration 0.5>, 0.5, 10, 3),\n",
       " (165, 2.5, <music21.duration.Duration 0.5>, 0.25, 2, 4),\n",
       " (165, 3.0, <music21.duration.Duration 0.5>, 0.5, 8, 3),\n",
       " (165, 3.5, <music21.duration.Duration 0.5>, 0.25, 2, 4),\n",
       " (166, 1.0, <music21.duration.Duration 0.5>, 1.0, 5, 3),\n",
       " (166, 1.5, <music21.duration.Duration 0.5>, 0.25, 5, 4),\n",
       " (166, 2.0, <music21.duration.Duration 0.5>, 0.5, 3, 4),\n",
       " (166, 2.5, <music21.duration.Duration 0.5>, 0.25, 1, 4),\n",
       " (166, 3.0, <music21.duration.Duration 0.5>, 0.5, 2, 4),\n",
       " (166, 3.5, <music21.duration.Duration 0.5>, 0.25, 3, 4),\n",
       " (167, 1.0, <music21.duration.Duration 0.5>, 1.0, 7, 3),\n",
       " (167, 1.5, <music21.duration.Duration 0.5>, 0.25, 5, 4),\n",
       " (167, 2.0, <music21.duration.Duration 0.5>, 0.5, 3, 4),\n",
       " (167, 2.5, <music21.duration.Duration 0.5>, 0.25, 1, 4),\n",
       " (167, 3.0, <music21.duration.Duration 0.5>, 0.5, 2, 4),\n",
       " (167, 3.5, <music21.duration.Duration 0.5>, 0.25, 3, 4),\n",
       " (168, 1.0, <music21.duration.Duration 0.5>, 1.0, 8, 3),\n",
       " (168, 1.5, <music21.duration.Duration 0.5>, 0.25, 5, 4),\n",
       " (168, 2.0, <music21.duration.Duration 0.5>, 0.5, 3, 4),\n",
       " (168, 2.5, <music21.duration.Duration 0.5>, 0.25, 1, 4),\n",
       " (168, 3.0, <music21.duration.Duration 0.5>, 0.5, 2, 4),\n",
       " (168, 3.5, <music21.duration.Duration 0.5>, 0.25, 3, 4),\n",
       " (169, 1.0, <music21.duration.Duration 0.5>, 1.0, 6, 3),\n",
       " (169, 1.5, <music21.duration.Duration 0.5>, 0.25, 5, 4),\n",
       " (169, 2.0, <music21.duration.Duration 0.5>, 0.5, 3, 4),\n",
       " (169, 2.5, <music21.duration.Duration 0.5>, 0.25, 1, 4),\n",
       " (169, 3.0, <music21.duration.Duration 0.5>, 0.5, 2, 4),\n",
       " (169, 3.5, <music21.duration.Duration 0.5>, 0.25, 3, 4),\n",
       " (170, 1.0, <music21.duration.Duration 0.5>, 1.0, 8, 3),\n",
       " (170, 1.5, <music21.duration.Duration 0.5>, 0.25, 5, 4),\n",
       " (170, 2.0, <music21.duration.Duration 0.5>, 0.5, 3, 4),\n",
       " (170, 2.5, <music21.duration.Duration 0.5>, 0.25, 1, 4),\n",
       " (170, 3.0, <music21.duration.Duration 0.5>, 0.5, 2, 4),\n",
       " (170, 3.5, <music21.duration.Duration 0.5>, 0.25, 3, 4),\n",
       " (171, 1.0, <music21.duration.Duration 0.5>, 1.0, 7, 2),\n",
       " (171, 2.0, <music21.duration.Duration 0.5>, 0.5, 5, 3),\n",
       " (171, 2.5, <music21.duration.Duration 0.5>, 0.25, 3, 3),\n",
       " (171, 3.0, <music21.duration.Duration 0.5>, 0.5, 5, 3),\n",
       " (171, 3.5, <music21.duration.Duration 0.5>, 0.25, 2, 3),\n",
       " (172, 1.0, <music21.duration.Duration 0.5>, 1.0, 3, 3),\n",
       " (172, 1.0, <music21.duration.Duration 0.5>, 1.0, 7, 2),\n",
       " (172, 1.5, <music21.duration.Duration 0.5>, 0.25, 8, 3),\n",
       " (172, 2.0, <music21.duration.Duration 0.5>, 0.5, 2, 4),\n",
       " (172, 2.5, <music21.duration.Duration 0.5>, 0.25, 3, 3),\n",
       " (172, 3.0, <music21.duration.Duration 0.5>, 0.5, 5, 3),\n",
       " (172, 3.5, <music21.duration.Duration 0.5>, 0.25, 3, 3),\n",
       " (173, 1.0, <music21.duration.Duration 0.5>, 1.0, 7, 2),\n",
       " (173, 1.0, <music21.duration.Duration 0.5>, 1.0, 2, 3),\n",
       " (173, 1.5, <music21.duration.Duration 0.5>, 0.25, 5, 3),\n",
       " (173, 2.0, <music21.duration.Duration 0.5>, 0.5, 1, 4),\n",
       " (173, 2.5, <music21.duration.Duration 0.5>, 0.25, 10, 3),\n",
       " (173, 3.0, <music21.duration.Duration 0.5>, 0.5, 8, 3),\n",
       " (173, 3.5, <music21.duration.Duration 0.5>, 0.25, 5, 3),\n",
       " (174, 1.0, <music21.duration.Duration 0.5>, 1.0, 3, 3),\n",
       " (174, 1.0, <music21.duration.Duration 0.5>, 1.0, 7, 2),\n",
       " (174, 1.5, <music21.duration.Duration 0.5>, 0.25, 8, 3),\n",
       " (174, 2.0, <music21.duration.Duration 0.5>, 0.5, 2, 4),\n",
       " (174, 2.5, <music21.duration.Duration 0.5>, 0.25, 3, 3),\n",
       " (174, 3.0, <music21.duration.Duration 0.5>, 0.5, 5, 3),\n",
       " (174, 3.5, <music21.duration.Duration 0.5>, 0.25, 3, 3),\n",
       " (175, 1.0, <music21.duration.Duration 0.5>, 1.0, 2, 3),\n",
       " (175, 1.5, <music21.duration.Duration 0.5>, 0.25, 2, 4),\n",
       " (175, 2.0, <music21.duration.Duration 0.5>, 0.5, 1, 4),\n",
       " (175, 2.5, <music21.duration.Duration 0.5>, 0.25, 3, 4),\n",
       " (175, 3.0, <music21.duration.Duration 0.5>, 0.5, 8, 3),\n",
       " (176, 1.0, <music21.duration.Duration 0.5>, 1.0, 10, 3),\n",
       " (176, 2.0, <music21.duration.Duration 0.5>, 0.5, 0, 3),\n",
       " (176, 3.0, <music21.duration.Duration 0.5>, 0.5, 2, 3),\n",
       " (177, 1.0, <music21.duration.Duration 0.5>, 1.0, 3, 3),\n",
       " (177, 2.0, <music21.duration.Duration 0.5>, 0.5, 7, 3),\n",
       " (177, 2.5, <music21.duration.Duration 0.5>, 0.25, 5, 3),\n",
       " (177, 3.0, <music21.duration.Duration 0.5>, 0.5, 7, 3),\n",
       " (177, 3.5, <music21.duration.Duration 0.5>, 0.25, 3, 3),\n",
       " (178, 1.0, <music21.duration.Duration 0.5>, 1.0, 5, 3),\n",
       " (178, 2.0, <music21.duration.Duration 0.5>, 0.5, 9, 2),\n",
       " (178, 3.0, <music21.duration.Duration 0.5>, 0.5, 11, 2),\n",
       " (179, 1.0, <music21.duration.Duration 0.5>, 1.0, 0, 3),\n",
       " (179, 2.0, <music21.duration.Duration 0.5>, 0.5, 3, 3),\n",
       " (179, 2.5, <music21.duration.Duration 0.5>, 0.25, 2, 3),\n",
       " (179, 3.0, <music21.duration.Duration 0.5>, 0.5, 3, 3),\n",
       " (179, 3.5, <music21.duration.Duration 0.5>, 0.25, 0, 3),\n",
       " (180, 1.0, <music21.duration.Duration 0.5>, 1.0, 2, 3),\n",
       " (180, 1.5, <music21.duration.Duration 0.5>, 0.25, 3, 3),\n",
       " (180, 2.0, <music21.duration.Duration 0.5>, 0.5, 5, 3),\n",
       " (180, 2.5, <music21.duration.Duration 0.5>, 0.25, 8, 3),\n",
       " (180, 3.0, <music21.duration.Duration 0.5>, 0.5, 10, 3),\n",
       " (180, 3.5, <music21.duration.Duration 0.5>, 0.25, 5, 3),\n",
       " (181, 1.0, <music21.duration.Duration 0.5>, 1.0, 2, 4),\n",
       " (181, 1.5, <music21.duration.Duration 0.5>, 0.25, 1, 4),\n",
       " (181, 2.0, <music21.duration.Duration 0.5>, 0.5, 11, 3),\n",
       " (181, 2.5, <music21.duration.Duration 0.5>, 0.25, 8, 3),\n",
       " (181, 3.0, <music21.duration.Duration 0.5>, 0.5, 2, 4),\n",
       " (181, 3.5, <music21.duration.Duration 0.5>, 0.25, 1, 4),\n",
       " (182, 1.0, <music21.duration.Duration 0.5>, 1.0, 2, 4),\n",
       " (182, 1.5, <music21.duration.Duration 0.5>, 0.25, 3, 4),\n",
       " (182, 2.0, <music21.duration.Duration 0.5>, 0.5, 3, 4),\n",
       " (182, 2.0, <music21.duration.Duration 0.5>, 0.5, 7, 3),\n",
       " (182, 3.5, <music21.duration.Duration 0.5>, 0.25, 2, 4),\n",
       " (183, 1.0, <music21.duration.Duration 0.5>, 1.0, 2, 4),\n",
       " (183, 1.5, <music21.duration.Duration 0.5>, 0.25, 0, 4),\n",
       " (183, 2.0, <music21.duration.Duration 0.5>, 0.5, 10, 3),\n",
       " (183, 2.5, <music21.duration.Duration 0.5>, 0.25, 8, 3),\n",
       " (183, 3.0, <music21.duration.Duration 0.5>, 0.5, 10, 3),\n",
       " (183, 3.5, <music21.duration.Duration 0.5>, 0.25, 5, 3),\n",
       " (184, 1.0, <music21.duration.Duration 0.5>, 1.0, 4, 3),\n",
       " (184, 1.5, <music21.duration.Duration 0.5>, 0.25, 3, 4),\n",
       " (184, 2.0, <music21.duration.Duration 0.5>, 0.5, 2, 4),\n",
       " (184, 2.5, <music21.duration.Duration 0.5>, 0.25, 0, 4),\n",
       " (184, 3.0, <music21.duration.Duration 0.5>, 0.5, 10, 3),\n",
       " (184, 3.5, <music21.duration.Duration 0.5>, 0.25, 8, 3),\n",
       " (185, 1.0, <music21.duration.Duration 0.5>, 1.0, 10, 3),\n",
       " (185, 1.5, <music21.duration.Duration 0.5>, 0.25, 8, 3),\n",
       " (185, 2.0, <music21.duration.Duration 0.5>, 0.5, 5, 3),\n",
       " (185, 2.5, <music21.duration.Duration 0.5>, 0.25, 2, 3),\n",
       " (185, 3.0, <music21.duration.Duration 0.5>, 0.5, 3, 3),\n",
       " (185, 3.5, <music21.duration.Duration 0.5>, 0.25, 0, 3),\n",
       " (186, 1.0, <music21.duration.Duration 0.5>, 1.0, 11, 2),\n",
       " (186, 1.5, <music21.duration.Duration 0.5>, 0.25, 8, 3),\n",
       " (186, 2.0, <music21.duration.Duration 0.5>, 0.5, 7, 3),\n",
       " (186, 2.5, <music21.duration.Duration 0.5>, 0.25, 5, 3),\n",
       " (186, 3.0, <music21.duration.Duration 0.5>, 0.5, 3, 3),\n",
       " (186, 3.5, <music21.duration.Duration 0.5>, 0.25, 2, 3),\n",
       " (187, 1.0, <music21.duration.Duration 0.5>, 1.0, 3, 3),\n",
       " (187, 1.5, <music21.duration.Duration 0.5>, 0.25, 2, 3),\n",
       " (187, 2.0, <music21.duration.Duration 0.5>, 0.5, 0, 3),\n",
       " (187, 2.5, <music21.duration.Duration 0.5>, 0.25, 9, 2),\n",
       " (187, 3.0, <music21.duration.Duration 0.5>, 0.5, 10, 2),\n",
       " (187, 3.5, <music21.duration.Duration 0.5>, 0.25, 7, 2),\n",
       " (188, 1.0, <music21.duration.Duration 0.5>, 1.0, 6, 2),\n",
       " (188, 1.5, <music21.duration.Duration 0.5>, 0.25, 3, 3),\n",
       " (188, 2.0, <music21.duration.Duration 0.5>, 0.5, 2, 3),\n",
       " (188, 2.5, <music21.duration.Duration 0.5>, 0.25, 0, 3),\n",
       " (188, 3.0, <music21.duration.Duration 0.5>, 0.5, 11, 2),\n",
       " (188, 3.5, <music21.duration.Duration 0.5>, 0.25, 9, 2),\n",
       " (189, 1.0, <music21.duration.Duration 0.5>, 1.0, 11, 2),\n",
       " (189, 1.5, <music21.duration.Duration 0.5>, 0.25, 9, 2),\n",
       " (189, 2.0, <music21.duration.Duration 0.5>, 0.5, 7, 2),\n",
       " (189, 2.5, <music21.duration.Duration 0.5>, 0.25, 11, 2),\n",
       " ...]"
      ]
     },
     "execution_count": 181,
     "metadata": {},
     "output_type": "execute_result"
    }
   ],
   "source": [
    "note_data"
   ]
  },
  {
   "cell_type": "code",
   "execution_count": 188,
   "metadata": {
    "collapsed": false
   },
   "outputs": [
    {
     "data": {
      "text/plain": [
       "(222, 2.0, <music21.duration.Duration 0.5>, 0.5, 7, 2)"
      ]
     },
     "execution_count": 188,
     "metadata": {},
     "output_type": "execute_result"
    }
   ],
   "source": [
    "note_data[-1]"
   ]
  },
  {
   "cell_type": "code",
   "execution_count": 184,
   "metadata": {
    "collapsed": false
   },
   "outputs": [
    {
     "data": {
      "image/png": "[encoded data removed]",
      "text/plain": [
       "<music21.ipython21.objects.IPythonPNGObject at 0x10da9ec88>"
      ]
     },
     "execution_count": 184,
     "metadata": {},
     "output_type": "execute_result"
    }
   ],
   "source": [
    "midi_stream.measures(222,223).show()"
   ]
  },
  {
   "cell_type": "code",
   "execution_count": 193,
   "metadata": {
    "collapsed": false
   },
   "outputs": [
    {
     "ename": "Music21ObjectException",
     "evalue": "this object does not have a TimeSignature in Sites",
     "output_type": "error",
     "traceback": [
      "\u001b[0;31m-------------------------------------------------------\u001b[0m",
      "\u001b[0;31mMusic21ObjectException\u001b[0mTraceback (most recent call last)",
      "\u001b[0;32m<ipython-input-193-9106bdf5006b>\u001b[0m in \u001b[0;36m<module>\u001b[0;34m()\u001b[0m\n\u001b[0;32m----> 1\u001b[0;31m \u001b[0;34m(\u001b[0m\u001b[0mn1\u001b[0m\u001b[0;34m.\u001b[0m\u001b[0mmeasureNumber\u001b[0m\u001b[0;34m,\u001b[0m \u001b[0mn1\u001b[0m\u001b[0;34m.\u001b[0m\u001b[0mbeat\u001b[0m\u001b[0;34m)\u001b[0m\u001b[0;31m#, n1.beatDuration, n1.beatStrength, n1.pitch.pitchClass, n1.octave)\u001b[0m\u001b[0;34m\u001b[0m\u001b[0m\n\u001b[0m",
      "\u001b[0;32m/Users/naoya/anaconda/lib/python3.5/site-packages/music21/base.py\u001b[0m in \u001b[0;36mbeat\u001b[0;34m(self)\u001b[0m\n\u001b[1;32m   3330\u001b[0m         \u001b[0;36m7\u001b[0m\u001b[0;34m/\u001b[0m\u001b[0;36m3\u001b[0m\u001b[0;34m\u001b[0m\u001b[0m\n\u001b[1;32m   3331\u001b[0m         '''\n\u001b[0;32m-> 3332\u001b[0;31m         \u001b[0mts\u001b[0m \u001b[0;34m=\u001b[0m \u001b[0mself\u001b[0m\u001b[0;34m.\u001b[0m\u001b[0m_getTimeSignatureForBeat\u001b[0m\u001b[0;34m(\u001b[0m\u001b[0;34m)\u001b[0m\u001b[0;34m\u001b[0m\u001b[0m\n\u001b[0m\u001b[1;32m   3333\u001b[0m         return ts.getBeatProportion(\n\u001b[1;32m   3334\u001b[0m             self._getMeasureOffsetOrMeterModulusOffset(ts))\n",
      "\u001b[0;32m/Users/naoya/anaconda/lib/python3.5/site-packages/music21/base.py\u001b[0m in \u001b[0;36m_getTimeSignatureForBeat\u001b[0;34m(self)\u001b[0m\n\u001b[1;32m   3277\u001b[0m         \u001b[0mts\u001b[0m \u001b[0;34m=\u001b[0m \u001b[0mself\u001b[0m\u001b[0;34m.\u001b[0m\u001b[0mgetContextByClass\u001b[0m\u001b[0;34m(\u001b[0m\u001b[0;34m'TimeSignature'\u001b[0m\u001b[0;34m,\u001b[0m \u001b[0mgetElementMethod\u001b[0m\u001b[0;34m=\u001b[0m\u001b[0;34m'getElementAtOrBeforeOffset'\u001b[0m\u001b[0;34m)\u001b[0m\u001b[0;34m\u001b[0m\u001b[0m\n\u001b[1;32m   3278\u001b[0m         \u001b[0;32mif\u001b[0m \u001b[0mts\u001b[0m \u001b[0;32mis\u001b[0m \u001b[0;32mNone\u001b[0m\u001b[0;34m:\u001b[0m\u001b[0;34m\u001b[0m\u001b[0m\n\u001b[0;32m-> 3279\u001b[0;31m             \u001b[0;32mraise\u001b[0m \u001b[0mMusic21ObjectException\u001b[0m\u001b[0;34m(\u001b[0m\u001b[0;34m'this object does not have a TimeSignature in Sites'\u001b[0m\u001b[0;34m)\u001b[0m\u001b[0;34m\u001b[0m\u001b[0m\n\u001b[0m\u001b[1;32m   3280\u001b[0m         \u001b[0;32mreturn\u001b[0m \u001b[0mts\u001b[0m\u001b[0;34m\u001b[0m\u001b[0m\n\u001b[1;32m   3281\u001b[0m \u001b[0;34m\u001b[0m\u001b[0m\n",
      "\u001b[0;31mMusic21ObjectException\u001b[0m: this object does not have a TimeSignature in Sites"
     ]
    }
   ],
   "source": [
    "(n1.measureNumber, n1.beat)#, n1.beatDuration, n1.beatStrength, n1.pitch.pitchClass, n1.octave)"
   ]
  },
  {
   "cell_type": "code",
   "execution_count": 191,
   "metadata": {
    "collapsed": false
   },
   "outputs": [
    {
     "data": {
      "text/plain": [
       "music21.chord.Chord"
      ]
     },
     "execution_count": 191,
     "metadata": {},
     "output_type": "execute_result"
    }
   ],
   "source": [
    "type(n1)"
   ]
  },
  {
   "cell_type": "code",
   "execution_count": 197,
   "metadata": {
    "collapsed": false
   },
   "outputs": [
    {
     "ename": "AttributeError",
     "evalue": "'Rest' object has no attribute 'pitch'",
     "output_type": "error",
     "traceback": [
      "\u001b[0;31m-------------------------------------------------------\u001b[0m",
      "\u001b[0;31mAttributeError\u001b[0m        Traceback (most recent call last)",
      "\u001b[0;32m<ipython-input-197-6c4bde0fc282>\u001b[0m in \u001b[0;36m<module>\u001b[0;34m()\u001b[0m\n\u001b[1;32m      1\u001b[0m \u001b[0mr\u001b[0m \u001b[0;34m=\u001b[0m \u001b[0mnote\u001b[0m\u001b[0;34m.\u001b[0m\u001b[0mRest\u001b[0m\u001b[0;34m(\u001b[0m\u001b[0;34m)\u001b[0m\u001b[0;34m\u001b[0m\u001b[0m\n\u001b[0;32m----> 2\u001b[0;31m \u001b[0mr\u001b[0m\u001b[0;34m.\u001b[0m\u001b[0mpitch\u001b[0m\u001b[0;34m\u001b[0m\u001b[0m\n\u001b[0m",
      "\u001b[0;31mAttributeError\u001b[0m: 'Rest' object has no attribute 'pitch'"
     ]
    }
   ],
   "source": [
    "r = note.Rest()\n",
    "r.pitch"
   ]
  },
  {
   "cell_type": "code",
   "execution_count": 2,
   "metadata": {
    "collapsed": false
   },
   "outputs": [
    {
     "name": "stderr",
     "output_type": "stream",
     "text": [
      "Using Theano backend.\n"
     ]
    }
   ],
   "source": [
    "from keras.models import load_model"
   ]
  },
  {
   "cell_type": "code",
   "execution_count": 3,
   "metadata": {
    "collapsed": false
   },
   "outputs": [],
   "source": [
    "model_1 = load_model('bach_model.h5')"
   ]
  },
  {
   "cell_type": "code",
   "execution_count": 19,
   "metadata": {
    "collapsed": false
   },
   "outputs": [
    {
     "ename": "Exception",
     "evalue": "Error when checking : expected lstm_input_1 to have shape (None, 50, 402) but got array with shape (1, 50, 67)",
     "output_type": "error",
     "traceback": [
      "\u001b[0;31m---------------------------------------------\u001b[0m",
      "\u001b[0;31mException\u001b[0m   Traceback (most recent call last)",
      "\u001b[0;32m<ipython-input-19-d04bee99fd4d>\u001b[0m in \u001b[0;36m<module>\u001b[0;34m()\u001b[0m\n\u001b[0;32m----> 1\u001b[0;31m \u001b[0mgen_melody\u001b[0m \u001b[0;34m=\u001b[0m \u001b[0mgenerate_sequence\u001b[0m\u001b[0;34m(\u001b[0m\u001b[0mmodel_1\u001b[0m\u001b[0;34m,\u001b[0m \u001b[0;36m150\u001b[0m\u001b[0;34m,\u001b[0m \u001b[0mmelody_corpus\u001b[0m\u001b[0;34m,\u001b[0m \u001b[0mmelody_set\u001b[0m\u001b[0;34m,\u001b[0m \u001b[0;36m50\u001b[0m\u001b[0;34m,\u001b[0m \u001b[0mnotes_indices\u001b[0m\u001b[0;34m,\u001b[0m \u001b[0mindices_notes\u001b[0m\u001b[0;34m,\u001b[0m \u001b[0;36m1\u001b[0m\u001b[0;34m)\u001b[0m\u001b[0;34m\u001b[0m\u001b[0m\n\u001b[0m",
      "\u001b[0;32m<ipython-input-5-17954d1d8ba3>\u001b[0m in \u001b[0;36mgenerate_sequence\u001b[0;34m(model, seq_len, melody_corpus, melody_set, phrase_len, notes_indices, indices_notes, temperature)\u001b[0m\n\u001b[1;32m     23\u001b[0m             \u001b[0mgen_melody_indices\u001b[0m\u001b[0;34m[\u001b[0m\u001b[0;36m0\u001b[0m\u001b[0;34m,\u001b[0m \u001b[0mi\u001b[0m\u001b[0;34m,\u001b[0m \u001b[0mnotes_indices\u001b[0m\u001b[0;34m[\u001b[0m\u001b[0mnote\u001b[0m\u001b[0;34m]\u001b[0m\u001b[0;34m]\u001b[0m \u001b[0;34m=\u001b[0m \u001b[0;36m1\u001b[0m\u001b[0;34m\u001b[0m\u001b[0m\n\u001b[1;32m     24\u001b[0m         \u001b[0mx\u001b[0m \u001b[0;34m=\u001b[0m \u001b[0mgen_melody_indices\u001b[0m\u001b[0;34m\u001b[0m\u001b[0m\n\u001b[0;32m---> 25\u001b[0;31m         \u001b[0mnext_note\u001b[0m \u001b[0;34m=\u001b[0m \u001b[0m__predict\u001b[0m\u001b[0;34m(\u001b[0m\u001b[0mmodel\u001b[0m\u001b[0;34m,\u001b[0m \u001b[0mx\u001b[0m\u001b[0;34m,\u001b[0m \u001b[0mindices_notes\u001b[0m\u001b[0;34m,\u001b[0m \u001b[0mtemperature\u001b[0m\u001b[0;34m)\u001b[0m\u001b[0;34m\u001b[0m\u001b[0m\n\u001b[0m\u001b[1;32m     26\u001b[0m         \u001b[0;31m# seed_phrase.append(next_note)\u001b[0m\u001b[0;34m\u001b[0m\u001b[0;34m\u001b[0m\u001b[0m\n\u001b[1;32m     27\u001b[0m         \u001b[0mgen_melody\u001b[0m\u001b[0;34m.\u001b[0m\u001b[0mappend\u001b[0m\u001b[0;34m(\u001b[0m\u001b[0mnext_note\u001b[0m\u001b[0;34m)\u001b[0m\u001b[0;34m\u001b[0m\u001b[0m\n",
      "\u001b[0;32m<ipython-input-5-17954d1d8ba3>\u001b[0m in \u001b[0;36m__predict\u001b[0;34m(model, x, indices_notes, temperature)\u001b[0m\n\u001b[1;32m      5\u001b[0m \u001b[0;34m\u001b[0m\u001b[0m\n\u001b[1;32m      6\u001b[0m \u001b[0;32mdef\u001b[0m \u001b[0m__predict\u001b[0m\u001b[0;34m(\u001b[0m\u001b[0mmodel\u001b[0m\u001b[0;34m,\u001b[0m \u001b[0mx\u001b[0m\u001b[0;34m,\u001b[0m \u001b[0mindices_notes\u001b[0m\u001b[0;34m,\u001b[0m \u001b[0mtemperature\u001b[0m\u001b[0;34m)\u001b[0m\u001b[0;34m:\u001b[0m\u001b[0;34m\u001b[0m\u001b[0m\n\u001b[0;32m----> 7\u001b[0;31m     \u001b[0mpreds\u001b[0m \u001b[0;34m=\u001b[0m \u001b[0mmodel\u001b[0m\u001b[0;34m.\u001b[0m\u001b[0mpredict\u001b[0m\u001b[0;34m(\u001b[0m\u001b[0mx\u001b[0m\u001b[0;34m,\u001b[0m \u001b[0mverbose\u001b[0m\u001b[0;34m=\u001b[0m\u001b[0;36m0\u001b[0m\u001b[0;34m)\u001b[0m\u001b[0;34m[\u001b[0m\u001b[0;36m0\u001b[0m\u001b[0;34m]\u001b[0m\u001b[0;34m\u001b[0m\u001b[0m\n\u001b[0m\u001b[1;32m      8\u001b[0m     \u001b[0mnext_index\u001b[0m \u001b[0;34m=\u001b[0m \u001b[0m__sample\u001b[0m\u001b[0;34m(\u001b[0m\u001b[0mpreds\u001b[0m\u001b[0;34m,\u001b[0m \u001b[0mtemperature\u001b[0m\u001b[0;34m)\u001b[0m\u001b[0;34m\u001b[0m\u001b[0m\n\u001b[1;32m      9\u001b[0m     \u001b[0mnext_val\u001b[0m \u001b[0;34m=\u001b[0m \u001b[0mindices_notes\u001b[0m\u001b[0;34m[\u001b[0m\u001b[0mnext_index\u001b[0m\u001b[0;34m]\u001b[0m\u001b[0;34m\u001b[0m\u001b[0m\n",
      "\u001b[0;32m/Users/naoya/anaconda/lib/python3.5/site-packages/keras/models.py\u001b[0m in \u001b[0;36mpredict\u001b[0;34m(self, x, batch_size, verbose)\u001b[0m\n\u001b[1;32m    646\u001b[0m         \u001b[0;32mif\u001b[0m \u001b[0mself\u001b[0m\u001b[0;34m.\u001b[0m\u001b[0mmodel\u001b[0m \u001b[0;32mis\u001b[0m \u001b[0;32mNone\u001b[0m\u001b[0;34m:\u001b[0m\u001b[0;34m\u001b[0m\u001b[0m\n\u001b[1;32m    647\u001b[0m             \u001b[0mself\u001b[0m\u001b[0;34m.\u001b[0m\u001b[0mbuild\u001b[0m\u001b[0;34m(\u001b[0m\u001b[0;34m)\u001b[0m\u001b[0;34m\u001b[0m\u001b[0m\n\u001b[0;32m--> 648\u001b[0;31m         \u001b[0;32mreturn\u001b[0m \u001b[0mself\u001b[0m\u001b[0;34m.\u001b[0m\u001b[0mmodel\u001b[0m\u001b[0;34m.\u001b[0m\u001b[0mpredict\u001b[0m\u001b[0;34m(\u001b[0m\u001b[0mx\u001b[0m\u001b[0;34m,\u001b[0m \u001b[0mbatch_size\u001b[0m\u001b[0;34m=\u001b[0m\u001b[0mbatch_size\u001b[0m\u001b[0;34m,\u001b[0m \u001b[0mverbose\u001b[0m\u001b[0;34m=\u001b[0m\u001b[0mverbose\u001b[0m\u001b[0;34m)\u001b[0m\u001b[0;34m\u001b[0m\u001b[0m\n\u001b[0m\u001b[1;32m    649\u001b[0m \u001b[0;34m\u001b[0m\u001b[0m\n\u001b[1;32m    650\u001b[0m     \u001b[0;32mdef\u001b[0m \u001b[0mpredict_on_batch\u001b[0m\u001b[0;34m(\u001b[0m\u001b[0mself\u001b[0m\u001b[0;34m,\u001b[0m \u001b[0mx\u001b[0m\u001b[0;34m)\u001b[0m\u001b[0;34m:\u001b[0m\u001b[0;34m\u001b[0m\u001b[0m\n",
      "\u001b[0;32m/Users/naoya/anaconda/lib/python3.5/site-packages/keras/engine/training.py\u001b[0m in \u001b[0;36mpredict\u001b[0;34m(self, x, batch_size, verbose)\u001b[0m\n\u001b[1;32m   1160\u001b[0m         x = standardize_input_data(x, self.input_names,\n\u001b[1;32m   1161\u001b[0m                                    \u001b[0mself\u001b[0m\u001b[0;34m.\u001b[0m\u001b[0minternal_input_shapes\u001b[0m\u001b[0;34m,\u001b[0m\u001b[0;34m\u001b[0m\u001b[0m\n\u001b[0;32m-> 1162\u001b[0;31m                                    check_batch_dim=False)\n\u001b[0m\u001b[1;32m   1163\u001b[0m         \u001b[0;32mif\u001b[0m \u001b[0mself\u001b[0m\u001b[0;34m.\u001b[0m\u001b[0mstateful\u001b[0m\u001b[0;34m:\u001b[0m\u001b[0;34m\u001b[0m\u001b[0m\n\u001b[1;32m   1164\u001b[0m             \u001b[0;32mif\u001b[0m \u001b[0mx\u001b[0m\u001b[0;34m[\u001b[0m\u001b[0;36m0\u001b[0m\u001b[0;34m]\u001b[0m\u001b[0;34m.\u001b[0m\u001b[0mshape\u001b[0m\u001b[0;34m[\u001b[0m\u001b[0;36m0\u001b[0m\u001b[0;34m]\u001b[0m \u001b[0;34m>\u001b[0m \u001b[0mbatch_size\u001b[0m \u001b[0;32mand\u001b[0m \u001b[0mx\u001b[0m\u001b[0;34m[\u001b[0m\u001b[0;36m0\u001b[0m\u001b[0;34m]\u001b[0m\u001b[0;34m.\u001b[0m\u001b[0mshape\u001b[0m\u001b[0;34m[\u001b[0m\u001b[0;36m0\u001b[0m\u001b[0;34m]\u001b[0m \u001b[0;34m%\u001b[0m \u001b[0mbatch_size\u001b[0m \u001b[0;34m!=\u001b[0m \u001b[0;36m0\u001b[0m\u001b[0;34m:\u001b[0m\u001b[0;34m\u001b[0m\u001b[0m\n",
      "\u001b[0;32m/Users/naoya/anaconda/lib/python3.5/site-packages/keras/engine/training.py\u001b[0m in \u001b[0;36mstandardize_input_data\u001b[0;34m(data, names, shapes, check_batch_dim, exception_prefix)\u001b[0m\n\u001b[1;32m    106\u001b[0m                                         \u001b[0;34m' to have shape '\u001b[0m \u001b[0;34m+\u001b[0m \u001b[0mstr\u001b[0m\u001b[0;34m(\u001b[0m\u001b[0mshapes\u001b[0m\u001b[0;34m[\u001b[0m\u001b[0mi\u001b[0m\u001b[0;34m]\u001b[0m\u001b[0;34m)\u001b[0m \u001b[0;34m+\u001b[0m\u001b[0;34m\u001b[0m\u001b[0m\n\u001b[1;32m    107\u001b[0m                                         \u001b[0;34m' but got array with shape '\u001b[0m \u001b[0;34m+\u001b[0m\u001b[0;34m\u001b[0m\u001b[0m\n\u001b[0;32m--> 108\u001b[0;31m                                         str(array.shape))\n\u001b[0m\u001b[1;32m    109\u001b[0m     \u001b[0;32mreturn\u001b[0m \u001b[0marrays\u001b[0m\u001b[0;34m\u001b[0m\u001b[0m\n\u001b[1;32m    110\u001b[0m \u001b[0;34m\u001b[0m\u001b[0m\n",
      "\u001b[0;31mException\u001b[0m: Error when checking : expected lstm_input_1 to have shape (None, 50, 402) but got array with shape (1, 50, 67)"
     ]
    }
   ],
   "source": [
    "gen_melody = generate_sequence(model_1, 150, melody_corpus, melody_set, 50, notes_indices, indices_notes, 1)"
   ]
  },
  {
   "cell_type": "code",
   "execution_count": 33,
   "metadata": {
    "collapsed": false
   },
   "outputs": [],
   "source": [
    "from music21 import stream, pitch, note\n",
    "v = stream.Voice()\n",
    "last_note_duration = 0\n",
    "for n in gen_melody:\n",
    "    if n[0] == 0:\n",
    "        new_note = note.Rest()\n",
    "    else:\n",
    "        new_pitch = pitch.Pitch()\n",
    "        new_pitch.midi = 59.0 + n[0]\n",
    "        new_note = note.Note(new_pitch)\n",
    "    new_note.offset = v.highestOffset + last_note_duration\n",
    "    new_note.duration.quarterLength = n[2]\n",
    "    last_note_duration = new_note.duration.quarterLength\n",
    "    v.insert(new_note)"
   ]
  },
  {
   "cell_type": "code",
   "execution_count": 34,
   "metadata": {
    "collapsed": false
   },
   "outputs": [],
   "source": [
    "from music21 import midi\n",
    "sp = midi.realtime.StreamPlayer(v)\n",
    "sp.play()"
   ]
  },
  {
   "cell_type": "code",
   "execution_count": 8,
   "metadata": {
    "collapsed": true
   },
   "outputs": [],
   "source": [
    "from train import *"
   ]
  },
  {
   "cell_type": "code",
   "execution_count": 9,
   "metadata": {
    "collapsed": false
   },
   "outputs": [],
   "source": [
    "model_2 = load_model('bach_2_model.h5')"
   ]
  },
  {
   "cell_type": "code",
   "execution_count": 10,
   "metadata": {
    "collapsed": false
   },
   "outputs": [],
   "source": [
    "melody_corpus, melody_set, notes_indices, indices_notes = build_corpus(['bach/bwv-1008-2.mid'])"
   ]
  },
  {
   "cell_type": "code",
   "execution_count": 32,
   "metadata": {
    "collapsed": false
   },
   "outputs": [],
   "source": [
    "gen_melody = generate_sequence(model_2, 50, melody_corpus, melody_set, 50, notes_indices, indices_notes,2.0)"
   ]
  },
  {
   "cell_type": "code",
   "execution_count": 312,
   "metadata": {
    "collapsed": false
   },
   "outputs": [
    {
     "data": {
      "text/plain": [
       "56"
      ]
     },
     "execution_count": 312,
     "metadata": {},
     "output_type": "execute_result"
    }
   ],
   "source": [
    "len(melody_set)"
   ]
  },
  {
   "cell_type": "code",
   "execution_count": 313,
   "metadata": {
    "collapsed": false
   },
   "outputs": [
    {
     "data": {
      "text/plain": [
       "{(0, 0.0, 0.25),\n",
       " (0, 1.0, 0.25),\n",
       " (0, 2.0, 0.25),\n",
       " (0, 4.0, 1.0),\n",
       " (0, 4.0, 1.25),\n",
       " (0, 4.0, 3.0),\n",
       " (1, 0.0, 0.25),\n",
       " (1, 1.0, 0.25),\n",
       " (1, 2.0, 0.25),\n",
       " (1, 2.0, 1.0),\n",
       " (1, 4.0, 0.25),\n",
       " (1, 4.0, 0.5),\n",
       " (1, 4.0, 1.25),\n",
       " (2, 0.0, 0.25),\n",
       " (2, 1.0, 0.25),\n",
       " (3, 0.0, 0.25),\n",
       " (3, 1.0, 0.25),\n",
       " (3, 2.0, 0.25),\n",
       " (3, 4.0, 0.25),\n",
       " (4, 0.0, 0.25),\n",
       " (4, 1.0, 0.25),\n",
       " (4, 4.0, 0.25),\n",
       " (5, 0.0, 0.25),\n",
       " (5, 1.0, 0.25),\n",
       " (5, 2.0, 0.25),\n",
       " (5, 4.0, 0.25),\n",
       " (6, 0.0, 0.25),\n",
       " (6, 1.0, 0.25),\n",
       " (6, 2.0, 0.25),\n",
       " (6, 4.0, 0.25),\n",
       " (7, 0.0, 0.25),\n",
       " (7, 1.0, 0.25),\n",
       " (7, 2.0, 0.25),\n",
       " (7, 4.0, 0.25),\n",
       " (8, 0.0, 0.25),\n",
       " (8, 1.0, 0.25),\n",
       " (8, 2.0, 0.25),\n",
       " (8, 4.0, 0.25),\n",
       " (9, 0.0, 0.25),\n",
       " (9, 1.0, 0.25),\n",
       " (9, 2.0, 0.25),\n",
       " (10, 0.0, 0.25),\n",
       " (10, 1.0, 0.25),\n",
       " (10, 2.0, 0.25),\n",
       " (10, 4.0, 0.25),\n",
       " (10, 4.0, 1.25),\n",
       " (11, 0.0, 0.25),\n",
       " (11, 1.0, 0.25),\n",
       " (11, 2.0, 0.25),\n",
       " (11, 4.0, 0.25),\n",
       " (11, 4.0, 1.25),\n",
       " (12, 0.0, 0.25),\n",
       " (12, 1.0, 0.25),\n",
       " (12, 2.0, 0.25),\n",
       " (12, 2.0, 1.0),\n",
       " (12, 4.0, 0.25)}"
      ]
     },
     "execution_count": 313,
     "metadata": {},
     "output_type": "execute_result"
    }
   ],
   "source": [
    "melody_set"
   ]
  },
  {
   "cell_type": "code",
   "execution_count": 330,
   "metadata": {
    "collapsed": true
   },
   "outputs": [],
   "source": [
    "midi_str = converter.parse('bach/bwv-1008-2.mid')"
   ]
  },
  {
   "cell_type": "code",
   "execution_count": 333,
   "metadata": {
    "collapsed": false
   },
   "outputs": [
    {
     "data": {
      "text/plain": [
       "<music21.key.Key of d minor>"
      ]
     },
     "execution_count": 333,
     "metadata": {},
     "output_type": "execute_result"
    }
   ],
   "source": [
    "midi_str[0].keySignature"
   ]
  },
  {
   "cell_type": "code",
   "execution_count": 35,
   "metadata": {
    "collapsed": true
   },
   "outputs": [],
   "source": [
    "from music21 import converter"
   ]
  },
  {
   "cell_type": "code",
   "execution_count": 49,
   "metadata": {
    "collapsed": true
   },
   "outputs": [],
   "source": [
    "s = converter.parse('bach/bwv-1011-1.mid')"
   ]
  },
  {
   "cell_type": "code",
   "execution_count": 50,
   "metadata": {
    "collapsed": false
   },
   "outputs": [],
   "source": [
    "s = s[0]\n",
    "s.clef = clef.BassClef()"
   ]
  },
  {
   "cell_type": "code",
   "execution_count": 42,
   "metadata": {
    "collapsed": false
   },
   "outputs": [
    {
     "data": {
      "image/png": "[encoded data removed]",
      "text/plain": [
       "<music21.ipython21.objects.IPythonPNGObject at 0x125a321d0>"
      ]
     },
     "execution_count": 42,
     "metadata": {},
     "output_type": "execute_result"
    }
   ],
   "source": [
    "s.show()"
   ]
  },
  {
   "cell_type": "code",
   "execution_count": 53,
   "metadata": {
    "collapsed": false
   },
   "outputs": [],
   "source": [
    "for n in s.flat.notes:\n",
    "    if isinstance(n, note.Note):\n",
    "        if n.pitch.midi >= 57:\n",
    "            n.transpose('-M2', inPlace=True)\n",
    "    elif isinstance(n, chord.Chord):\n",
    "        chord_pitches = n.pitches\n",
    "        for cp in chord_pitches:\n",
    "            if cp.midi >= 57:\n",
    "                cp.transpose('-M2', inPlace=True)\n",
    "        n.pitches = chord_pitches\n",
    "\n",
    "            \n",
    "    "
   ]
  },
  {
   "cell_type": "code",
   "execution_count": 47,
   "metadata": {
    "collapsed": false
   },
   "outputs": [
    {
     "data": {
      "text/plain": [
       "[<music21.note.Note C>,\n",
       " <music21.note.Note C>,\n",
       " <music21.note.Note G>,\n",
       " <music21.note.Note A>,\n",
       " <music21.note.Note B>,\n",
       " <music21.note.Note C>,\n",
       " <music21.note.Note D>,\n",
       " <music21.note.Note E->,\n",
       " <music21.note.Note F>,\n",
       " <music21.note.Note E->,\n",
       " <music21.note.Note D>,\n",
       " <music21.note.Note E->,\n",
       " <music21.note.Note C>,\n",
       " <music21.chord.Chord C2 B-3 F3 B2>,\n",
       " <music21.note.Note B->,\n",
       " <music21.note.Note G#>,\n",
       " <music21.note.Note B->,\n",
       " <music21.note.Note F>,\n",
       " <music21.note.Note E->,\n",
       " <music21.note.Note F>,\n",
       " <music21.note.Note D>,\n",
       " <music21.note.Note E->,\n",
       " <music21.note.Note C>,\n",
       " <music21.note.Note C>,\n",
       " <music21.note.Note C>,\n",
       " <music21.note.Note C>,\n",
       " <music21.note.Note D>,\n",
       " <music21.note.Note E->,\n",
       " <music21.note.Note D>,\n",
       " <music21.note.Note B>,\n",
       " <music21.note.Note D>,\n",
       " <music21.note.Note E>,\n",
       " <music21.note.Note B->,\n",
       " <music21.note.Note G#>,\n",
       " <music21.note.Note B->,\n",
       " <music21.note.Note G>,\n",
       " <music21.chord.Chord F3 G#2>,\n",
       " <music21.note.Note C>,\n",
       " <music21.chord.Chord F3 D4 G#2>,\n",
       " <music21.note.Note D>,\n",
       " <music21.chord.Chord G2 F3 C2>,\n",
       " <music21.note.Note D>,\n",
       " <music21.note.Note D>,\n",
       " <music21.note.Note C>,\n",
       " <music21.note.Note B->,\n",
       " <music21.note.Note C>,\n",
       " <music21.note.Note E>,\n",
       " <music21.note.Note G#>,\n",
       " <music21.note.Note B->,\n",
       " <music21.note.Note C>,\n",
       " <music21.chord.Chord B-3 F3>,\n",
       " <music21.note.Note C>,\n",
       " <music21.note.Note F>,\n",
       " <music21.note.Note E->,\n",
       " <music21.note.Note D>,\n",
       " <music21.note.Note E->,\n",
       " <music21.note.Note F>,\n",
       " <music21.note.Note C>,\n",
       " <music21.chord.Chord F3 B2>,\n",
       " <music21.note.Note G#>,\n",
       " <music21.note.Note B->,\n",
       " <music21.note.Note G#>,\n",
       " <music21.note.Note F>,\n",
       " <music21.note.Note E->,\n",
       " <music21.note.Note D>,\n",
       " <music21.chord.Chord C2 G2>,\n",
       " <music21.note.Note E->,\n",
       " <music21.note.Note F>,\n",
       " <music21.note.Note E->,\n",
       " <music21.note.Note D>,\n",
       " <music21.note.Note E->,\n",
       " <music21.note.Note E->,\n",
       " <music21.note.Note D>,\n",
       " <music21.note.Note D>,\n",
       " <music21.note.Note G>,\n",
       " <music21.note.Note D>,\n",
       " <music21.note.Note E>,\n",
       " <music21.note.Note F#>,\n",
       " <music21.note.Note G#>,\n",
       " <music21.note.Note B>,\n",
       " <music21.note.Note C>,\n",
       " <music21.note.Note D>,\n",
       " <music21.note.Note C>,\n",
       " <music21.note.Note B>,\n",
       " <music21.note.Note C>,\n",
       " <music21.note.Note B>,\n",
       " <music21.chord.Chord F#3 F4 G2>,\n",
       " <music21.note.Note F>,\n",
       " <music21.note.Note E->,\n",
       " <music21.note.Note D>,\n",
       " <music21.note.Note C>,\n",
       " <music21.note.Note B>,\n",
       " <music21.note.Note C>,\n",
       " <music21.chord.Chord G2 C#4 F3>,\n",
       " <music21.note.Note E->,\n",
       " <music21.note.Note D>,\n",
       " <music21.note.Note E->,\n",
       " <music21.note.Note G#>,\n",
       " <music21.note.Note D>,\n",
       " <music21.note.Note E->,\n",
       " <music21.chord.Chord D3 G2>,\n",
       " <music21.note.Note D>,\n",
       " <music21.note.Note C>,\n",
       " <music21.note.Note D>,\n",
       " <music21.note.Note B>,\n",
       " <music21.note.Note C>,\n",
       " <music21.note.Note G#>,\n",
       " <music21.note.Note E->,\n",
       " <music21.note.Note F>,\n",
       " <music21.chord.Chord E3 G2>,\n",
       " <music21.note.Note E->,\n",
       " <music21.note.Note D>,\n",
       " <music21.note.Note C>,\n",
       " <music21.note.Note B->,\n",
       " <music21.note.Note G#>,\n",
       " <music21.note.Note B->,\n",
       " <music21.note.Note C>,\n",
       " <music21.note.Note G#>,\n",
       " <music21.chord.Chord B-3 F3>,\n",
       " <music21.note.Note F>,\n",
       " <music21.note.Note G>,\n",
       " <music21.note.Note G#>,\n",
       " <music21.note.Note B->,\n",
       " <music21.note.Note C>,\n",
       " <music21.note.Note E->,\n",
       " <music21.chord.Chord B-2 F3 D2>,\n",
       " <music21.note.Note B->,\n",
       " <music21.note.Note C>,\n",
       " <music21.note.Note B->,\n",
       " <music21.note.Note C>,\n",
       " <music21.note.Note C>,\n",
       " <music21.note.Note B->,\n",
       " <music21.chord.Chord B-2 E-3 E2>,\n",
       " <music21.note.Note G#>,\n",
       " <music21.note.Note F>,\n",
       " <music21.note.Note E->,\n",
       " <music21.note.Note D>,\n",
       " <music21.note.Note E->,\n",
       " <music21.note.Note F>,\n",
       " <music21.note.Note G#>,\n",
       " <music21.note.Note B->,\n",
       " <music21.note.Note C>,\n",
       " <music21.note.Note D>,\n",
       " <music21.note.Note E->,\n",
       " <music21.note.Note C>,\n",
       " <music21.note.Note F>,\n",
       " <music21.note.Note C>,\n",
       " <music21.note.Note E->,\n",
       " <music21.note.Note D>,\n",
       " <music21.note.Note C>,\n",
       " <music21.note.Note B>,\n",
       " <music21.note.Note G#>,\n",
       " <music21.note.Note F#>,\n",
       " <music21.note.Note E->,\n",
       " <music21.note.Note C>,\n",
       " <music21.note.Note B->,\n",
       " <music21.note.Note G#>,\n",
       " <music21.note.Note B->,\n",
       " <music21.note.Note G>,\n",
       " <music21.note.Note G#>,\n",
       " <music21.note.Note G>,\n",
       " <music21.note.Note F#>,\n",
       " <music21.note.Note B>,\n",
       " <music21.note.Note C>,\n",
       " <music21.note.Note D>,\n",
       " <music21.note.Note D>,\n",
       " <music21.note.Note D>,\n",
       " <music21.note.Note C>,\n",
       " <music21.note.Note B>,\n",
       " <music21.chord.Chord D3 G2>,\n",
       " <music21.note.Note C>,\n",
       " <music21.note.Note G>,\n",
       " <music21.note.Note F>,\n",
       " <music21.note.Note E->,\n",
       " <music21.note.Note D>,\n",
       " <music21.note.Note C>,\n",
       " <music21.note.Note B->,\n",
       " <music21.note.Note A>,\n",
       " <music21.note.Note B->,\n",
       " <music21.note.Note G>,\n",
       " <music21.note.Note A>,\n",
       " <music21.note.Note B->,\n",
       " <music21.chord.Chord G2 C4 C2>,\n",
       " <music21.note.Note E->,\n",
       " <music21.note.Note D>,\n",
       " <music21.note.Note C>,\n",
       " <music21.note.Note B->,\n",
       " <music21.note.Note C>,\n",
       " <music21.note.Note C>,\n",
       " <music21.note.Note B>,\n",
       " <music21.note.Note C>,\n",
       " <music21.note.Note D>,\n",
       " <music21.note.Note B>,\n",
       " <music21.note.Note C>,\n",
       " <music21.note.Note D>,\n",
       " <music21.note.Note F#>,\n",
       " <music21.note.Note G>,\n",
       " <music21.note.Note F#>,\n",
       " <music21.note.Note G>,\n",
       " <music21.note.Note B>,\n",
       " <music21.note.Note F#>,\n",
       " <music21.note.Note G>,\n",
       " <music21.note.Note B>,\n",
       " <music21.note.Note C>,\n",
       " <music21.note.Note D>,\n",
       " <music21.note.Note C>,\n",
       " <music21.note.Note D>,\n",
       " <music21.note.Note E->,\n",
       " <music21.note.Note C>,\n",
       " <music21.note.Note D>,\n",
       " <music21.note.Note E->,\n",
       " <music21.note.Note A>,\n",
       " <music21.note.Note B->,\n",
       " <music21.note.Note A>,\n",
       " <music21.note.Note B->,\n",
       " <music21.note.Note C>,\n",
       " <music21.note.Note A>,\n",
       " <music21.note.Note B->,\n",
       " <music21.note.Note C>,\n",
       " <music21.note.Note D>,\n",
       " <music21.note.Note E>,\n",
       " <music21.note.Note F#>,\n",
       " <music21.note.Note G>,\n",
       " <music21.note.Note A>,\n",
       " <music21.note.Note B->,\n",
       " <music21.note.Note C>,\n",
       " <music21.note.Note A>,\n",
       " <music21.note.Note B->,\n",
       " <music21.note.Note D>,\n",
       " <music21.note.Note E>,\n",
       " <music21.note.Note F#>,\n",
       " <music21.note.Note G#>,\n",
       " <music21.note.Note B>,\n",
       " <music21.note.Note C>,\n",
       " <music21.note.Note D>,\n",
       " <music21.note.Note E->,\n",
       " <music21.note.Note D>,\n",
       " <music21.note.Note C>,\n",
       " <music21.note.Note B>,\n",
       " <music21.note.Note C>,\n",
       " <music21.note.Note F#>,\n",
       " <music21.note.Note G>,\n",
       " <music21.note.Note C>,\n",
       " <music21.chord.Chord D3 G#3>,\n",
       " <music21.note.Note F#>,\n",
       " <music21.note.Note G>,\n",
       " <music21.chord.Chord G2 G3 D3>,\n",
       " <music21.note.Note G>,\n",
       " <music21.note.Note G#>,\n",
       " <music21.note.Note C>,\n",
       " <music21.note.Note D>,\n",
       " <music21.note.Note E->,\n",
       " <music21.note.Note G>,\n",
       " <music21.note.Note F>,\n",
       " <music21.note.Note G>,\n",
       " <music21.note.Note E->,\n",
       " <music21.note.Note F>,\n",
       " <music21.note.Note A>,\n",
       " <music21.note.Note B>,\n",
       " <music21.note.Note C>,\n",
       " <music21.note.Note E->,\n",
       " <music21.note.Note D>,\n",
       " <music21.note.Note E->,\n",
       " <music21.note.Note C>,\n",
       " <music21.note.Note D>,\n",
       " <music21.note.Note E->,\n",
       " <music21.note.Note F>,\n",
       " <music21.note.Note G>,\n",
       " <music21.note.Note G#>,\n",
       " <music21.note.Note B>,\n",
       " <music21.note.Note G>,\n",
       " <music21.note.Note F>,\n",
       " <music21.note.Note E->,\n",
       " <music21.note.Note D>,\n",
       " <music21.note.Note E->,\n",
       " <music21.note.Note F>,\n",
       " <music21.note.Note D>,\n",
       " <music21.note.Note E->,\n",
       " <music21.note.Note F>,\n",
       " <music21.note.Note D>,\n",
       " <music21.note.Note E->,\n",
       " <music21.note.Note D>,\n",
       " <music21.note.Note E->,\n",
       " <music21.note.Note G#>,\n",
       " <music21.note.Note D>,\n",
       " <music21.note.Note E->,\n",
       " <music21.note.Note F>,\n",
       " <music21.note.Note G#>,\n",
       " <music21.note.Note B>,\n",
       " <music21.note.Note C>,\n",
       " <music21.note.Note E->,\n",
       " <music21.note.Note D>,\n",
       " <music21.note.Note E->,\n",
       " <music21.note.Note C>,\n",
       " <music21.note.Note D>,\n",
       " <music21.note.Note E>,\n",
       " <music21.note.Note F#>,\n",
       " <music21.note.Note G>,\n",
       " <music21.note.Note C>,\n",
       " <music21.note.Note B>,\n",
       " <music21.note.Note C>,\n",
       " <music21.note.Note G#>,\n",
       " <music21.note.Note B>,\n",
       " <music21.note.Note C>,\n",
       " <music21.note.Note D>,\n",
       " <music21.note.Note E->,\n",
       " <music21.note.Note G#>,\n",
       " <music21.note.Note F>,\n",
       " <music21.note.Note F#>,\n",
       " <music21.note.Note F>,\n",
       " <music21.note.Note E->,\n",
       " <music21.note.Note D>,\n",
       " <music21.note.Note C>,\n",
       " <music21.note.Note B>,\n",
       " <music21.note.Note C>,\n",
       " <music21.note.Note G>,\n",
       " <music21.note.Note D>,\n",
       " <music21.note.Note B>,\n",
       " <music21.note.Note D>,\n",
       " <music21.note.Note C>,\n",
       " <music21.note.Note D>,\n",
       " <music21.note.Note B>,\n",
       " <music21.note.Note C>,\n",
       " <music21.note.Note G#>,\n",
       " <music21.note.Note D>,\n",
       " <music21.note.Note E->,\n",
       " <music21.note.Note F>,\n",
       " <music21.note.Note D>,\n",
       " <music21.note.Note E>,\n",
       " <music21.note.Note D>,\n",
       " <music21.note.Note G#>,\n",
       " <music21.note.Note B->,\n",
       " <music21.note.Note C>,\n",
       " <music21.note.Note G#>,\n",
       " <music21.note.Note B->,\n",
       " <music21.note.Note F>,\n",
       " <music21.note.Note C>,\n",
       " <music21.note.Note D>,\n",
       " <music21.note.Note E->,\n",
       " <music21.note.Note C>,\n",
       " <music21.note.Note D>,\n",
       " <music21.note.Note E->,\n",
       " <music21.note.Note F>,\n",
       " <music21.note.Note G>,\n",
       " <music21.note.Note G#>,\n",
       " <music21.note.Note F>,\n",
       " <music21.note.Note G>,\n",
       " <music21.note.Note F>,\n",
       " <music21.note.Note E->,\n",
       " <music21.note.Note D>,\n",
       " <music21.note.Note C>,\n",
       " <music21.note.Note B->,\n",
       " <music21.note.Note G#>,\n",
       " <music21.note.Note C>,\n",
       " <music21.note.Note D>,\n",
       " <music21.note.Note E->,\n",
       " <music21.note.Note G>,\n",
       " <music21.note.Note F>,\n",
       " <music21.note.Note G>,\n",
       " <music21.note.Note E->,\n",
       " <music21.note.Note F>,\n",
       " <music21.note.Note A>,\n",
       " <music21.note.Note B>,\n",
       " <music21.note.Note C>,\n",
       " <music21.note.Note E->,\n",
       " <music21.note.Note D>,\n",
       " <music21.note.Note E->,\n",
       " <music21.note.Note C>,\n",
       " <music21.note.Note D>,\n",
       " <music21.note.Note E->,\n",
       " <music21.note.Note F>,\n",
       " <music21.note.Note G>,\n",
       " <music21.note.Note G#>,\n",
       " <music21.note.Note F>,\n",
       " <music21.note.Note B>,\n",
       " <music21.note.Note C>,\n",
       " <music21.note.Note D>,\n",
       " <music21.note.Note E->,\n",
       " <music21.note.Note F>,\n",
       " <music21.note.Note D>,\n",
       " <music21.note.Note E->,\n",
       " <music21.note.Note C>,\n",
       " <music21.note.Note F>,\n",
       " <music21.note.Note D>,\n",
       " <music21.note.Note G>,\n",
       " <music21.note.Note E->,\n",
       " <music21.note.Note F>,\n",
       " <music21.note.Note D>,\n",
       " <music21.note.Note E->,\n",
       " <music21.note.Note D>,\n",
       " <music21.note.Note C>,\n",
       " <music21.note.Note D>,\n",
       " <music21.note.Note E->,\n",
       " <music21.note.Note F>,\n",
       " <music21.note.Note G>,\n",
       " <music21.note.Note F>,\n",
       " <music21.note.Note G>,\n",
       " <music21.note.Note B>,\n",
       " <music21.note.Note C>,\n",
       " <music21.note.Note D>,\n",
       " <music21.note.Note C>,\n",
       " <music21.note.Note D>,\n",
       " <music21.note.Note B->,\n",
       " <music21.note.Note C>,\n",
       " <music21.note.Note D>,\n",
       " <music21.note.Note E>,\n",
       " <music21.note.Note F#>,\n",
       " <music21.note.Note G>,\n",
       " <music21.note.Note B->,\n",
       " <music21.note.Note A>,\n",
       " <music21.note.Note B->,\n",
       " <music21.note.Note G>,\n",
       " <music21.note.Note A>,\n",
       " <music21.note.Note B->,\n",
       " <music21.note.Note C>,\n",
       " <music21.note.Note D>,\n",
       " <music21.note.Note E->,\n",
       " <music21.note.Note C>,\n",
       " <music21.note.Note F#>,\n",
       " <music21.note.Note G#>,\n",
       " <music21.note.Note B>,\n",
       " <music21.note.Note C>,\n",
       " <music21.note.Note D>,\n",
       " <music21.note.Note B>,\n",
       " <music21.note.Note C>,\n",
       " <music21.note.Note G>,\n",
       " <music21.note.Note D>,\n",
       " <music21.note.Note B>,\n",
       " <music21.note.Note D>,\n",
       " <music21.note.Note C>,\n",
       " <music21.note.Note D>,\n",
       " <music21.note.Note B>,\n",
       " <music21.chord.Chord D3 C4 G2>,\n",
       " <music21.note.Note G#>,\n",
       " <music21.note.Note B>,\n",
       " <music21.note.Note C>,\n",
       " <music21.note.Note D>,\n",
       " <music21.note.Note E->,\n",
       " <music21.note.Note F>,\n",
       " <music21.note.Note C>,\n",
       " <music21.note.Note D>,\n",
       " <music21.note.Note E->,\n",
       " <music21.note.Note F>,\n",
       " <music21.note.Note G#>,\n",
       " <music21.note.Note B->,\n",
       " <music21.note.Note F>,\n",
       " <music21.note.Note G#>,\n",
       " <music21.note.Note B->,\n",
       " <music21.note.Note C>,\n",
       " <music21.note.Note D>,\n",
       " <music21.note.Note E->,\n",
       " <music21.note.Note B->,\n",
       " <music21.note.Note C>,\n",
       " <music21.note.Note D>,\n",
       " <music21.note.Note E->,\n",
       " <music21.note.Note F>,\n",
       " <music21.note.Note G>,\n",
       " <music21.note.Note E->,\n",
       " <music21.note.Note F>,\n",
       " <music21.note.Note G#>,\n",
       " <music21.note.Note B->,\n",
       " <music21.note.Note C>,\n",
       " <music21.note.Note D>,\n",
       " <music21.note.Note C>,\n",
       " <music21.note.Note B->,\n",
       " <music21.note.Note G#>,\n",
       " <music21.note.Note F>,\n",
       " <music21.note.Note E->,\n",
       " <music21.note.Note B->,\n",
       " <music21.note.Note G#>,\n",
       " <music21.note.Note F>,\n",
       " <music21.note.Note E->,\n",
       " <music21.note.Note D>,\n",
       " <music21.note.Note C>,\n",
       " <music21.note.Note F>,\n",
       " <music21.note.Note E->,\n",
       " <music21.note.Note D>,\n",
       " <music21.note.Note C>,\n",
       " <music21.note.Note B->,\n",
       " <music21.note.Note A>,\n",
       " <music21.note.Note E->,\n",
       " <music21.note.Note D>,\n",
       " <music21.note.Note C>,\n",
       " <music21.note.Note B->,\n",
       " <music21.note.Note C>,\n",
       " <music21.note.Note D>,\n",
       " <music21.note.Note E->,\n",
       " <music21.note.Note G>,\n",
       " <music21.note.Note F>,\n",
       " <music21.note.Note B->,\n",
       " <music21.note.Note G#>,\n",
       " <music21.note.Note D>,\n",
       " <music21.note.Note C>,\n",
       " <music21.note.Note B->,\n",
       " <music21.note.Note C>,\n",
       " <music21.note.Note G#>,\n",
       " <music21.note.Note B->,\n",
       " <music21.note.Note C>,\n",
       " <music21.note.Note E->,\n",
       " <music21.note.Note D>,\n",
       " <music21.note.Note F>,\n",
       " <music21.note.Note E->,\n",
       " <music21.note.Note B->,\n",
       " <music21.note.Note G#>,\n",
       " <music21.note.Note F>,\n",
       " <music21.note.Note G#>,\n",
       " <music21.note.Note E->,\n",
       " <music21.note.Note F>,\n",
       " <music21.note.Note G#>,\n",
       " <music21.note.Note B->,\n",
       " <music21.note.Note C>,\n",
       " <music21.note.Note D>,\n",
       " <music21.note.Note E->,\n",
       " <music21.note.Note D>,\n",
       " <music21.note.Note C>,\n",
       " <music21.note.Note B->,\n",
       " <music21.note.Note C>,\n",
       " <music21.note.Note D>,\n",
       " <music21.note.Note E->,\n",
       " <music21.note.Note F>,\n",
       " <music21.note.Note F>,\n",
       " <music21.note.Note B->,\n",
       " <music21.note.Note E->,\n",
       " <music21.note.Note E->,\n",
       " <music21.chord.Chord E-3 B-2>,\n",
       " <music21.note.Note G>,\n",
       " <music21.note.Note F>,\n",
       " <music21.note.Note G>,\n",
       " <music21.note.Note E->,\n",
       " <music21.note.Note C>,\n",
       " <music21.note.Note D>,\n",
       " <music21.note.Note C>,\n",
       " <music21.note.Note E>,\n",
       " <music21.note.Note C>,\n",
       " <music21.note.Note F>,\n",
       " <music21.note.Note C>,\n",
       " <music21.note.Note B->,\n",
       " <music21.note.Note G#>,\n",
       " <music21.note.Note B->,\n",
       " <music21.note.Note F>,\n",
       " <music21.note.Note D>,\n",
       " <music21.note.Note E->,\n",
       " <music21.note.Note D>,\n",
       " <music21.note.Note F>,\n",
       " <music21.note.Note D>,\n",
       " <music21.note.Note G>,\n",
       " <music21.note.Note D>,\n",
       " <music21.note.Note C>,\n",
       " <music21.note.Note B->,\n",
       " <music21.note.Note C>,\n",
       " <music21.note.Note G#>,\n",
       " <music21.note.Note F>,\n",
       " <music21.note.Note G>,\n",
       " <music21.note.Note F>,\n",
       " <music21.note.Note G#>,\n",
       " <music21.note.Note F>,\n",
       " <music21.note.Note B->,\n",
       " <music21.note.Note E->,\n",
       " <music21.note.Note F>,\n",
       " <music21.note.Note E->,\n",
       " <music21.note.Note G>,\n",
       " <music21.note.Note E->,\n",
       " <music21.note.Note G#>,\n",
       " <music21.note.Note D>,\n",
       " <music21.note.Note E->,\n",
       " <music21.note.Note D>,\n",
       " <music21.note.Note F>,\n",
       " <music21.note.Note D>,\n",
       " <music21.note.Note G>,\n",
       " <music21.note.Note D>,\n",
       " <music21.note.Note C#>,\n",
       " <music21.note.Note B>,\n",
       " <music21.note.Note C#>,\n",
       " <music21.note.Note G#>,\n",
       " <music21.note.Note B->,\n",
       " <music21.note.Note C>,\n",
       " <music21.note.Note D>,\n",
       " <music21.note.Note E->,\n",
       " <music21.note.Note F>,\n",
       " <music21.note.Note G#>,\n",
       " <music21.note.Note G>,\n",
       " <music21.note.Note F>,\n",
       " <music21.note.Note G>,\n",
       " <music21.note.Note E->,\n",
       " <music21.note.Note F>,\n",
       " <music21.note.Note G#>,\n",
       " <music21.note.Note B>,\n",
       " <music21.note.Note F>,\n",
       " <music21.note.Note C#>,\n",
       " <music21.note.Note F>,\n",
       " <music21.note.Note D>,\n",
       " <music21.note.Note F>,\n",
       " <music21.note.Note E->,\n",
       " <music21.note.Note D>,\n",
       " <music21.note.Note E->,\n",
       " <music21.note.Note C>,\n",
       " <music21.note.Note D>,\n",
       " <music21.note.Note E->,\n",
       " <music21.note.Note F>,\n",
       " <music21.note.Note D>,\n",
       " <music21.note.Note B>,\n",
       " <music21.note.Note C>,\n",
       " <music21.note.Note D>,\n",
       " <music21.note.Note B>,\n",
       " <music21.note.Note G>,\n",
       " <music21.note.Note A>,\n",
       " <music21.note.Note B>,\n",
       " <music21.note.Note F>,\n",
       " <music21.note.Note E->,\n",
       " <music21.note.Note G>,\n",
       " <music21.note.Note C>,\n",
       " <music21.note.Note F>,\n",
       " <music21.note.Note G>,\n",
       " <music21.note.Note B>,\n",
       " <music21.note.Note A>,\n",
       " <music21.note.Note C>,\n",
       " <music21.note.Note F>,\n",
       " <music21.note.Note B>,\n",
       " <music21.note.Note C>,\n",
       " <music21.note.Note E->,\n",
       " <music21.note.Note D>,\n",
       " <music21.note.Note F>,\n",
       " <music21.note.Note C>,\n",
       " <music21.note.Note E>,\n",
       " <music21.note.Note F>,\n",
       " <music21.note.Note B->,\n",
       " <music21.note.Note F>,\n",
       " <music21.note.Note G#>,\n",
       " <music21.note.Note E->,\n",
       " <music21.note.Note G#>,\n",
       " <music21.note.Note D>,\n",
       " <music21.note.Note G#>,\n",
       " <music21.note.Note E->,\n",
       " <music21.note.Note G#>,\n",
       " <music21.note.Note E->,\n",
       " <music21.note.Note D>,\n",
       " <music21.note.Note E->,\n",
       " <music21.note.Note C>,\n",
       " <music21.note.Note E->,\n",
       " <music21.note.Note B>,\n",
       " <music21.note.Note F>,\n",
       " <music21.note.Note B>,\n",
       " <music21.note.Note E->,\n",
       " <music21.note.Note B>,\n",
       " <music21.note.Note D>,\n",
       " <music21.note.Note B->,\n",
       " <music21.note.Note D>,\n",
       " <music21.note.Note C>,\n",
       " <music21.note.Note D>,\n",
       " <music21.note.Note B->,\n",
       " <music21.note.Note E->,\n",
       " <music21.note.Note B->,\n",
       " <music21.note.Note G#>,\n",
       " <music21.note.Note F>,\n",
       " <music21.note.Note G#>,\n",
       " <music21.note.Note C>,\n",
       " <music21.note.Note F>,\n",
       " <music21.note.Note G>,\n",
       " <music21.note.Note A>,\n",
       " <music21.note.Note B->,\n",
       " <music21.note.Note E->,\n",
       " <music21.note.Note D>,\n",
       " <music21.note.Note E->,\n",
       " <music21.note.Note C>,\n",
       " <music21.note.Note D>,\n",
       " <music21.note.Note E>,\n",
       " <music21.note.Note F#>,\n",
       " <music21.note.Note G>,\n",
       " <music21.note.Note C>,\n",
       " <music21.note.Note B>,\n",
       " <music21.note.Note C>,\n",
       " <music21.note.Note G#>,\n",
       " <music21.note.Note B>,\n",
       " <music21.note.Note C>,\n",
       " <music21.note.Note D>,\n",
       " <music21.note.Note B>,\n",
       " <music21.note.Note F#>,\n",
       " <music21.note.Note G#>,\n",
       " <music21.note.Note B>,\n",
       " <music21.note.Note F#>,\n",
       " <music21.note.Note D>,\n",
       " <music21.note.Note E>,\n",
       " <music21.note.Note F#>,\n",
       " <music21.note.Note C>,\n",
       " <music21.note.Note B->,\n",
       " <music21.note.Note D>,\n",
       " <music21.note.Note G>,\n",
       " <music21.note.Note C>,\n",
       " <music21.note.Note D>,\n",
       " <music21.note.Note F#>,\n",
       " <music21.note.Note G>,\n",
       " <music21.note.Note D>,\n",
       " <music21.note.Note D>,\n",
       " <music21.note.Note C>,\n",
       " <music21.note.Note B->,\n",
       " <music21.note.Note C>,\n",
       " <music21.note.Note A>,\n",
       " <music21.note.Note B->,\n",
       " <music21.note.Note D>,\n",
       " <music21.note.Note G>,\n",
       " <music21.note.Note E>,\n",
       " <music21.note.Note F>,\n",
       " <music21.note.Note D>,\n",
       " <music21.note.Note E>,\n",
       " <music21.note.Note C>,\n",
       " <music21.note.Note B->,\n",
       " <music21.note.Note G#>,\n",
       " <music21.note.Note B->,\n",
       " <music21.note.Note G>,\n",
       " <music21.note.Note G#>,\n",
       " <music21.note.Note C>,\n",
       " <music21.note.Note F>,\n",
       " <music21.note.Note D>,\n",
       " <music21.note.Note E->,\n",
       " <music21.note.Note C>,\n",
       " <music21.note.Note G>,\n",
       " <music21.note.Note D>,\n",
       " <music21.note.Note E->,\n",
       " <music21.note.Note D>,\n",
       " <music21.note.Note E->,\n",
       " <music21.note.Note F>,\n",
       " <music21.note.Note G#>,\n",
       " <music21.note.Note F>,\n",
       " <music21.note.Note G#>,\n",
       " <music21.note.Note B->,\n",
       " <music21.note.Note F>,\n",
       " <music21.note.Note C#>,\n",
       " <music21.note.Note F>,\n",
       " <music21.note.Note E->,\n",
       " <music21.note.Note B->,\n",
       " <music21.note.Note G#>,\n",
       " <music21.note.Note F>,\n",
       " <music21.note.Note E->,\n",
       " <music21.note.Note G>,\n",
       " <music21.note.Note D>,\n",
       " <music21.note.Note E->,\n",
       " <music21.note.Note F>,\n",
       " <music21.note.Note D>,\n",
       " <music21.note.Note E->,\n",
       " <music21.note.Note C>,\n",
       " <music21.note.Note B>,\n",
       " <music21.note.Note C>,\n",
       " <music21.note.Note D>,\n",
       " <music21.note.Note B>,\n",
       " <music21.note.Note C>,\n",
       " <music21.note.Note E->,\n",
       " <music21.note.Note D>,\n",
       " <music21.note.Note E->,\n",
       " <music21.note.Note F>,\n",
       " <music21.note.Note D>,\n",
       " <music21.note.Note E>,\n",
       " <music21.note.Note B->,\n",
       " <music21.note.Note G#>,\n",
       " <music21.note.Note B->,\n",
       " <music21.note.Note C>,\n",
       " <music21.note.Note G#>,\n",
       " <music21.note.Note B->,\n",
       " <music21.note.Note F>,\n",
       " <music21.note.Note E>,\n",
       " <music21.note.Note F>,\n",
       " <music21.note.Note G>,\n",
       " <music21.note.Note E>,\n",
       " <music21.note.Note F>,\n",
       " <music21.note.Note G#>,\n",
       " <music21.note.Note G>,\n",
       " <music21.note.Note G#>,\n",
       " <music21.note.Note B->,\n",
       " <music21.note.Note G>,\n",
       " <music21.note.Note G#>,\n",
       " <music21.note.Note G>,\n",
       " <music21.note.Note F>,\n",
       " <music21.note.Note G>,\n",
       " <music21.note.Note G#>,\n",
       " <music21.note.Note F>,\n",
       " <music21.note.Note G>,\n",
       " <music21.note.Note E>,\n",
       " <music21.note.Note D>,\n",
       " <music21.note.Note E>,\n",
       " <music21.note.Note F>,\n",
       " <music21.note.Note D>,\n",
       " <music21.note.Note E>,\n",
       " <music21.note.Note F>,\n",
       " <music21.note.Note G>,\n",
       " <music21.note.Note G#>,\n",
       " <music21.note.Note B->,\n",
       " <music21.note.Note G>,\n",
       " <music21.note.Note G#>,\n",
       " <music21.note.Note G>,\n",
       " <music21.note.Note G#>,\n",
       " <music21.note.Note B->,\n",
       " <music21.note.Note C>,\n",
       " <music21.note.Note D>,\n",
       " <music21.note.Note E>,\n",
       " <music21.note.Note F>,\n",
       " <music21.note.Note G>,\n",
       " <music21.note.Note B->,\n",
       " <music21.note.Note C>,\n",
       " <music21.note.Note G#>,\n",
       " <music21.note.Note B->,\n",
       " <music21.note.Note G#>,\n",
       " <music21.note.Note F>,\n",
       " <music21.note.Note E>,\n",
       " <music21.note.Note F>,\n",
       " <music21.note.Note G#>,\n",
       " <music21.note.Note B->,\n",
       " <music21.note.Note C>,\n",
       " <music21.note.Note D>,\n",
       " <music21.note.Note E->,\n",
       " <music21.note.Note C>,\n",
       " <music21.note.Note D>,\n",
       " <music21.note.Note E->,\n",
       " <music21.note.Note C>,\n",
       " <music21.note.Note F>,\n",
       " <music21.note.Note B->,\n",
       " <music21.note.Note G#>,\n",
       " <music21.note.Note C>,\n",
       " <music21.note.Note B->,\n",
       " <music21.note.Note E->,\n",
       " <music21.note.Note D>,\n",
       " <music21.note.Note C>,\n",
       " <music21.note.Note D>,\n",
       " <music21.note.Note B->,\n",
       " <music21.note.Note C>,\n",
       " <music21.note.Note G#>,\n",
       " <music21.note.Note D>,\n",
       " <music21.note.Note F>,\n",
       " <music21.note.Note E>,\n",
       " <music21.note.Note G>,\n",
       " <music21.note.Note F>,\n",
       " <music21.note.Note C>,\n",
       " <music21.note.Note B->,\n",
       " <music21.note.Note G#>,\n",
       " <music21.note.Note B->,\n",
       " <music21.note.Note F>,\n",
       " <music21.note.Note G#>,\n",
       " <music21.note.Note B->,\n",
       " <music21.note.Note C>,\n",
       " <music21.note.Note G#>,\n",
       " <music21.note.Note E>,\n",
       " <music21.note.Note F>,\n",
       " <music21.note.Note G>,\n",
       " <music21.note.Note E>,\n",
       " <music21.note.Note C>,\n",
       " <music21.note.Note D>,\n",
       " <music21.note.Note E>,\n",
       " <music21.note.Note B->,\n",
       " <music21.note.Note G#>,\n",
       " <music21.note.Note C>,\n",
       " <music21.note.Note F>,\n",
       " <music21.note.Note B->,\n",
       " <music21.note.Note C>,\n",
       " <music21.note.Note E>,\n",
       " <music21.note.Note F>,\n",
       " <music21.note.Note F>,\n",
       " <music21.note.Note B->,\n",
       " <music21.note.Note B->,\n",
       " <music21.note.Note F>,\n",
       " <music21.note.Note D>,\n",
       " <music21.note.Note F>,\n",
       " <music21.note.Note D>,\n",
       " <music21.note.Note B->,\n",
       " <music21.note.Note G#>,\n",
       " <music21.note.Note F>,\n",
       " <music21.note.Note D>,\n",
       " <music21.note.Note F>,\n",
       " <music21.note.Note D>,\n",
       " <music21.note.Note B->,\n",
       " <music21.note.Note D>,\n",
       " <music21.note.Note C>,\n",
       " <music21.note.Note B->,\n",
       " <music21.note.Note G#>,\n",
       " <music21.note.Note F>,\n",
       " <music21.note.Note G>,\n",
       " <music21.note.Note F>,\n",
       " <music21.note.Note E->,\n",
       " <music21.note.Note G>,\n",
       " <music21.note.Note F>,\n",
       " <music21.note.Note B->,\n",
       " <music21.note.Note G#>,\n",
       " <music21.note.Note E->,\n",
       " <music21.note.Note C>,\n",
       " <music21.note.Note E->,\n",
       " <music21.note.Note C>,\n",
       " <music21.note.Note G#>,\n",
       " <music21.note.Note G>,\n",
       " <music21.note.Note E->,\n",
       " <music21.note.Note C>,\n",
       " <music21.note.Note E->,\n",
       " <music21.note.Note C>,\n",
       " <music21.note.Note G#>,\n",
       " <music21.note.Note C>,\n",
       " <music21.note.Note B->,\n",
       " <music21.note.Note G#>,\n",
       " <music21.note.Note F>,\n",
       " <music21.note.Note E->,\n",
       " <music21.note.Note F>,\n",
       " <music21.note.Note E->,\n",
       " <music21.note.Note D>,\n",
       " <music21.note.Note F>,\n",
       " <music21.note.Note E->,\n",
       " <music21.note.Note G>,\n",
       " <music21.note.Note F>,\n",
       " <music21.note.Note E->,\n",
       " <music21.note.Note C#>,\n",
       " <music21.note.Note E->,\n",
       " <music21.note.Note C#>,\n",
       " <music21.note.Note G#>,\n",
       " <music21.note.Note F>,\n",
       " <music21.note.Note D>,\n",
       " <music21.note.Note B>,\n",
       " <music21.note.Note D>,\n",
       " <music21.note.Note B>,\n",
       " <music21.note.Note G>,\n",
       " <music21.note.Note B->,\n",
       " <music21.note.Note G#>,\n",
       " <music21.note.Note F>,\n",
       " <music21.note.Note E->,\n",
       " <music21.note.Note D>,\n",
       " <music21.note.Note E->,\n",
       " <music21.note.Note D>,\n",
       " <music21.note.Note E->,\n",
       " <music21.note.Note F>,\n",
       " <music21.note.Note G>,\n",
       " <music21.note.Note G>,\n",
       " <music21.note.Note G#>,\n",
       " <music21.note.Note D>,\n",
       " <music21.note.Note E->,\n",
       " <music21.note.Note F>,\n",
       " <music21.note.Note G>,\n",
       " <music21.note.Note F>,\n",
       " <music21.note.Note G>,\n",
       " <music21.note.Note E->,\n",
       " <music21.note.Note F>,\n",
       " <music21.note.Note B>,\n",
       " <music21.note.Note C#>,\n",
       " <music21.note.Note D>,\n",
       " <music21.note.Note E->,\n",
       " <music21.note.Note D>,\n",
       " <music21.note.Note E->,\n",
       " <music21.note.Note C>,\n",
       " <music21.note.Note D>,\n",
       " <music21.note.Note C>,\n",
       " <music21.note.Note B>,\n",
       " <music21.note.Note A>,\n",
       " <music21.note.Note G>,\n",
       " <music21.note.Note F>,\n",
       " <music21.note.Note E->,\n",
       " <music21.note.Note D>,\n",
       " <music21.note.Note D>,\n",
       " <music21.note.Note C#>,\n",
       " <music21.note.Note B>,\n",
       " <music21.note.Note G#>,\n",
       " <music21.note.Note D>,\n",
       " <music21.note.Note G#>,\n",
       " <music21.note.Note B->,\n",
       " <music21.note.Note F>,\n",
       " <music21.note.Note G>,\n",
       " <music21.note.Note D>,\n",
       " <music21.note.Note E->,\n",
       " <music21.note.Note D>,\n",
       " <music21.note.Note C>,\n",
       " <music21.note.Note E->,\n",
       " <music21.note.Note D>,\n",
       " <music21.note.Note F>,\n",
       " <music21.note.Note E->,\n",
       " <music21.note.Note D>,\n",
       " <music21.note.Note G#>,\n",
       " <music21.note.Note E->,\n",
       " <music21.note.Note F>,\n",
       " <music21.note.Note D>,\n",
       " <music21.note.Note E->,\n",
       " <music21.note.Note D>,\n",
       " <music21.note.Note C>,\n",
       " <music21.note.Note E->,\n",
       " <music21.note.Note G>,\n",
       " <music21.note.Note B->,\n",
       " <music21.note.Note A>,\n",
       " <music21.note.Note C>,\n",
       " <music21.note.Note F>,\n",
       " <music21.note.Note D>,\n",
       " <music21.note.Note E->,\n",
       " <music21.note.Note C>,\n",
       " <music21.note.Note D>,\n",
       " <music21.note.Note C>,\n",
       " <music21.note.Note B->,\n",
       " <music21.note.Note D>,\n",
       " <music21.note.Note C>,\n",
       " <music21.note.Note E->,\n",
       " <music21.note.Note D>,\n",
       " <music21.note.Note F>,\n",
       " <music21.note.Note C>,\n",
       " <music21.note.Note G#>,\n",
       " <music21.note.Note B->,\n",
       " <music21.note.Note F>,\n",
       " <music21.note.Note G>,\n",
       " <music21.note.Note F>,\n",
       " <music21.note.Note E->,\n",
       " <music21.note.Note G>,\n",
       " <music21.note.Note F>,\n",
       " <music21.note.Note B->,\n",
       " ...]"
      ]
     },
     "execution_count": 47,
     "metadata": {},
     "output_type": "execute_result"
    }
   ],
   "source": [
    "[n for n in s.flat.notes]"
   ]
  },
  {
   "cell_type": "code",
   "execution_count": 54,
   "metadata": {
    "collapsed": false
   },
   "outputs": [
    {
     "data": {
      "image/png": "[encoded data removed]",
      "text/plain": [
       "<music21.ipython21.objects.IPythonPNGObject at 0x12620cac8>"
      ]
     },
     "execution_count": 54,
     "metadata": {},
     "output_type": "execute_result"
    }
   ],
   "source": [
    "s.show()"
   ]
  },
  {
   "cell_type": "code",
   "execution_count": 55,
   "metadata": {
    "collapsed": false
   },
   "outputs": [
    {
     "ename": "KeyboardInterrupt",
     "evalue": "",
     "output_type": "error",
     "traceback": [
      "\u001b[0;31m---------------------------------------------\u001b[0m",
      "\u001b[0;31mKeyboardInterrupt\u001b[0mTraceback (most recent call last)",
      "\u001b[0;32m<ipython-input-55-04ecaa69e241>\u001b[0m in \u001b[0;36m<module>\u001b[0;34m()\u001b[0m\n\u001b[1;32m      1\u001b[0m \u001b[0msp\u001b[0m \u001b[0;34m=\u001b[0m \u001b[0mmidi\u001b[0m\u001b[0;34m.\u001b[0m\u001b[0mrealtime\u001b[0m\u001b[0;34m.\u001b[0m\u001b[0mStreamPlayer\u001b[0m\u001b[0;34m(\u001b[0m\u001b[0ms\u001b[0m\u001b[0;34m)\u001b[0m\u001b[0;34m\u001b[0m\u001b[0m\n\u001b[0;32m----> 2\u001b[0;31m \u001b[0msp\u001b[0m\u001b[0;34m.\u001b[0m\u001b[0mplay\u001b[0m\u001b[0;34m(\u001b[0m\u001b[0;34m)\u001b[0m\u001b[0;34m\u001b[0m\u001b[0m\n\u001b[0m",
      "\u001b[0;32m/Users/naoya/anaconda/lib/python3.5/site-packages/music21/midi/realtime.py\u001b[0m in \u001b[0;36mplay\u001b[0;34m(self, busyFunction, busyArgs, endFunction, endArgs, busyWaitMilliseconds)\u001b[0m\n\u001b[1;32m    117\u001b[0m         \u001b[0mstreamStringIOFile\u001b[0m \u001b[0;34m=\u001b[0m \u001b[0mself\u001b[0m\u001b[0;34m.\u001b[0m\u001b[0mgetStringOrBytesIOFile\u001b[0m\u001b[0;34m(\u001b[0m\u001b[0;34m)\u001b[0m\u001b[0;34m\u001b[0m\u001b[0m\n\u001b[1;32m    118\u001b[0m         self.playStringIOFile(streamStringIOFile, busyFunction, busyArgs, \n\u001b[0;32m--> 119\u001b[0;31m                               endFunction, endArgs, busyWaitMilliseconds)\n\u001b[0m\u001b[1;32m    120\u001b[0m \u001b[0;34m\u001b[0m\u001b[0m\n\u001b[1;32m    121\u001b[0m     \u001b[0;32mdef\u001b[0m \u001b[0mgetStringOrBytesIOFile\u001b[0m\u001b[0;34m(\u001b[0m\u001b[0mself\u001b[0m\u001b[0;34m)\u001b[0m\u001b[0;34m:\u001b[0m\u001b[0;34m\u001b[0m\u001b[0m\n",
      "\u001b[0;32m/Users/naoya/anaconda/lib/python3.5/site-packages/music21/midi/realtime.py\u001b[0m in \u001b[0;36mplayStringIOFile\u001b[0;34m(self, stringIOFile, busyFunction, busyArgs, endFunction, endArgs, busyWaitMilliseconds)\u001b[0m\n\u001b[1;32m    139\u001b[0m             \u001b[0;32mif\u001b[0m \u001b[0mbusyFunction\u001b[0m \u001b[0;32mis\u001b[0m \u001b[0;32mnot\u001b[0m \u001b[0;32mNone\u001b[0m\u001b[0;34m:\u001b[0m\u001b[0;34m\u001b[0m\u001b[0m\n\u001b[1;32m    140\u001b[0m                 \u001b[0mbusyFunction\u001b[0m\u001b[0;34m.\u001b[0m\u001b[0m__call__\u001b[0m\u001b[0;34m(\u001b[0m\u001b[0mbusyArgs\u001b[0m\u001b[0;34m)\u001b[0m\u001b[0;34m\u001b[0m\u001b[0m\n\u001b[0;32m--> 141\u001b[0;31m             \u001b[0mpygameClock\u001b[0m\u001b[0;34m.\u001b[0m\u001b[0mtick\u001b[0m\u001b[0;34m(\u001b[0m\u001b[0mframerate\u001b[0m\u001b[0;34m)\u001b[0m\u001b[0;34m\u001b[0m\u001b[0m\n\u001b[0m\u001b[1;32m    142\u001b[0m \u001b[0;34m\u001b[0m\u001b[0m\n\u001b[1;32m    143\u001b[0m         \u001b[0;32mif\u001b[0m \u001b[0mendFunction\u001b[0m \u001b[0;32mis\u001b[0m \u001b[0;32mnot\u001b[0m \u001b[0;32mNone\u001b[0m\u001b[0;34m:\u001b[0m\u001b[0;34m\u001b[0m\u001b[0m\n",
      "\u001b[0;31mKeyboardInterrupt\u001b[0m: "
     ]
    }
   ],
   "source": [
    "sp = midi.realtime.StreamPlayer(s)\n",
    "sp.play()"
   ]
  },
  {
   "cell_type": "code",
   "execution_count": 56,
   "metadata": {
    "collapsed": false
   },
   "outputs": [
    {
     "ename": "KeyboardInterrupt",
     "evalue": "",
     "output_type": "error",
     "traceback": [
      "\u001b[0;31m---------------------------------------------------------------------\u001b[0m",
      "\u001b[0;31mKeyError\u001b[0m                            Traceback (most recent call last)",
      "\u001b[0;32m/Users/naoya/anaconda/lib/python3.5/site-packages/music21/stream/__init__.py\u001b[0m in \u001b[0;36m_findLayering\u001b[0;34m(self)\u001b[0m\n\u001b[1;32m   9221\u001b[0m                 \u001b[0;32mtry\u001b[0m\u001b[0;34m:\u001b[0m\u001b[0;34m\u001b[0m\u001b[0m\n\u001b[0;32m-> 9222\u001b[0;31m                     \u001b[0;32mif\u001b[0m \u001b[0mdurSpanOverlapCache\u001b[0m\u001b[0;34m[\u001b[0m\u001b[0mhashKey\u001b[0m\u001b[0;34m]\u001b[0m\u001b[0;34m:\u001b[0m\u001b[0;34m\u001b[0m\u001b[0m\n\u001b[0m\u001b[1;32m   9223\u001b[0m                         \u001b[0moverlapMap\u001b[0m\u001b[0;34m[\u001b[0m\u001b[0mi\u001b[0m\u001b[0;34m]\u001b[0m\u001b[0;34m.\u001b[0m\u001b[0mappend\u001b[0m\u001b[0;34m(\u001b[0m\u001b[0mj\u001b[0m\u001b[0;34m)\u001b[0m\u001b[0;34m\u001b[0m\u001b[0m\n",
      "\u001b[0;31mKeyError\u001b[0m: '4435/3,4436/3:460.0,460.0'",
      "\nDuring handling of the above exception, another exception occurred:\n",
      "\u001b[0;31mKeyboardInterrupt\u001b[0m                   Traceback (most recent call last)",
      "\u001b[0;32m<ipython-input-56-33aa94faa6e2>\u001b[0m in \u001b[0;36m<module>\u001b[0;34m()\u001b[0m\n\u001b[0;32m----> 1\u001b[0;31m \u001b[0ms\u001b[0m \u001b[0;34m=\u001b[0m \u001b[0mconverter\u001b[0m\u001b[0;34m.\u001b[0m\u001b[0mparse\u001b[0m\u001b[0;34m(\u001b[0m\u001b[0;34m'bach/bwv1011.mid'\u001b[0m\u001b[0;34m)\u001b[0m\u001b[0;34m\u001b[0m\u001b[0m\n\u001b[0m",
      "\u001b[0;32m/Users/naoya/anaconda/lib/python3.5/site-packages/music21/converter/__init__.py\u001b[0m in \u001b[0;36mparse\u001b[0;34m(value, *args, **keywords)\u001b[0m\n\u001b[1;32m   1085\u001b[0m     \u001b[0;32melif\u001b[0m \u001b[0mos\u001b[0m\u001b[0;34m.\u001b[0m\u001b[0mpath\u001b[0m\u001b[0;34m.\u001b[0m\u001b[0mexists\u001b[0m\u001b[0;34m(\u001b[0m\u001b[0mvalue\u001b[0m\u001b[0;34m)\u001b[0m\u001b[0;34m:\u001b[0m\u001b[0;34m\u001b[0m\u001b[0m\n\u001b[1;32m   1086\u001b[0m         return parseFile(value, number=number, format=m21Format, \n\u001b[0;32m-> 1087\u001b[0;31m                          forceSource=forceSource, **keywords)\n\u001b[0m\u001b[1;32m   1088\u001b[0m     \u001b[0;32melif\u001b[0m \u001b[0mos\u001b[0m\u001b[0;34m.\u001b[0m\u001b[0mpath\u001b[0m\u001b[0;34m.\u001b[0m\u001b[0mexists\u001b[0m\u001b[0;34m(\u001b[0m\u001b[0mcommon\u001b[0m\u001b[0;34m.\u001b[0m\u001b[0mcleanpath\u001b[0m\u001b[0;34m(\u001b[0m\u001b[0mvalue\u001b[0m\u001b[0;34m)\u001b[0m\u001b[0;34m)\u001b[0m\u001b[0;34m:\u001b[0m\u001b[0;34m\u001b[0m\u001b[0m\n\u001b[1;32m   1089\u001b[0m         return parseFile(common.cleanpath(value), number=number, format=m21Format, \n",
      "\u001b[0;32m/Users/naoya/anaconda/lib/python3.5/site-packages/music21/converter/__init__.py\u001b[0m in \u001b[0;36mparseFile\u001b[0;34m(fp, number, format, forceSource, **keywords)\u001b[0m\n\u001b[1;32m    973\u001b[0m     \u001b[0mv\u001b[0m \u001b[0;34m=\u001b[0m \u001b[0mConverter\u001b[0m\u001b[0;34m(\u001b[0m\u001b[0;34m)\u001b[0m\u001b[0;34m\u001b[0m\u001b[0m\n\u001b[1;32m    974\u001b[0m     \u001b[0mfp\u001b[0m \u001b[0;34m=\u001b[0m \u001b[0mcommon\u001b[0m\u001b[0;34m.\u001b[0m\u001b[0mcleanpath\u001b[0m\u001b[0;34m(\u001b[0m\u001b[0mfp\u001b[0m\u001b[0;34m)\u001b[0m\u001b[0;34m\u001b[0m\u001b[0m\n\u001b[0;32m--> 975\u001b[0;31m     \u001b[0mv\u001b[0m\u001b[0;34m.\u001b[0m\u001b[0mparseFile\u001b[0m\u001b[0;34m(\u001b[0m\u001b[0mfp\u001b[0m\u001b[0;34m,\u001b[0m \u001b[0mnumber\u001b[0m\u001b[0;34m=\u001b[0m\u001b[0mnumber\u001b[0m\u001b[0;34m,\u001b[0m \u001b[0mformat\u001b[0m\u001b[0;34m=\u001b[0m\u001b[0mformat\u001b[0m\u001b[0;34m,\u001b[0m \u001b[0mforceSource\u001b[0m\u001b[0;34m=\u001b[0m\u001b[0mforceSource\u001b[0m\u001b[0;34m,\u001b[0m \u001b[0;34m**\u001b[0m\u001b[0mkeywords\u001b[0m\u001b[0;34m)\u001b[0m\u001b[0;34m\u001b[0m\u001b[0m\n\u001b[0m\u001b[1;32m    976\u001b[0m     \u001b[0;32mreturn\u001b[0m \u001b[0mv\u001b[0m\u001b[0;34m.\u001b[0m\u001b[0mstream\u001b[0m\u001b[0;34m\u001b[0m\u001b[0m\n\u001b[1;32m    977\u001b[0m \u001b[0;34m\u001b[0m\u001b[0m\n",
      "\u001b[0;32m/Users/naoya/anaconda/lib/python3.5/site-packages/music21/converter/__init__.py\u001b[0m in \u001b[0;36mparseFile\u001b[0;34m(self, fp, number, format, forceSource, storePickle, **keywords)\u001b[0m\n\u001b[1;32m    507\u001b[0m         \u001b[0;32melse\u001b[0m\u001b[0;34m:\u001b[0m\u001b[0;34m\u001b[0m\u001b[0m\n\u001b[1;32m    508\u001b[0m             \u001b[0menvironLocal\u001b[0m\u001b[0;34m.\u001b[0m\u001b[0mprintDebug\u001b[0m\u001b[0;34m(\u001b[0m\u001b[0;34m\"Loading original version\"\u001b[0m\u001b[0;34m)\u001b[0m\u001b[0;34m\u001b[0m\u001b[0m\n\u001b[0;32m--> 509\u001b[0;31m             \u001b[0mself\u001b[0m\u001b[0;34m.\u001b[0m\u001b[0mparseFileNoPickle\u001b[0m\u001b[0;34m(\u001b[0m\u001b[0mfp\u001b[0m\u001b[0;34m,\u001b[0m \u001b[0mnumber\u001b[0m\u001b[0;34m,\u001b[0m \u001b[0mformat\u001b[0m\u001b[0;34m,\u001b[0m \u001b[0mforceSource\u001b[0m\u001b[0;34m,\u001b[0m \u001b[0;34m**\u001b[0m\u001b[0mkeywords\u001b[0m\u001b[0;34m)\u001b[0m\u001b[0;34m\u001b[0m\u001b[0m\n\u001b[0m\u001b[1;32m    510\u001b[0m             \u001b[0;32mif\u001b[0m \u001b[0mwritePickle\u001b[0m \u001b[0;32mis\u001b[0m \u001b[0;32mTrue\u001b[0m \u001b[0;32mand\u001b[0m \u001b[0mfpPickle\u001b[0m \u001b[0;32mis\u001b[0m \u001b[0;32mnot\u001b[0m \u001b[0;32mNone\u001b[0m \u001b[0;32mand\u001b[0m \u001b[0mstorePickle\u001b[0m \u001b[0;32mis\u001b[0m \u001b[0;32mTrue\u001b[0m\u001b[0;34m:\u001b[0m\u001b[0;34m\u001b[0m\u001b[0m\n\u001b[1;32m    511\u001b[0m                 \u001b[0;31m# save the stream to disk...\u001b[0m\u001b[0;34m\u001b[0m\u001b[0;34m\u001b[0m\u001b[0m\n",
      "\u001b[0;32m/Users/naoya/anaconda/lib/python3.5/site-packages/music21/converter/__init__.py\u001b[0m in \u001b[0;36mparseFileNoPickle\u001b[0;34m(self, fp, number, format, forceSource, **keywords)\u001b[0m\n\u001b[1;32m    444\u001b[0m         \u001b[0mself\u001b[0m\u001b[0;34m.\u001b[0m\u001b[0msetSubconverterFromFormat\u001b[0m\u001b[0;34m(\u001b[0m\u001b[0museFormat\u001b[0m\u001b[0;34m)\u001b[0m\u001b[0;34m\u001b[0m\u001b[0m\n\u001b[1;32m    445\u001b[0m         \u001b[0mself\u001b[0m\u001b[0;34m.\u001b[0m\u001b[0msubConverter\u001b[0m\u001b[0;34m.\u001b[0m\u001b[0mkeywords\u001b[0m \u001b[0;34m=\u001b[0m \u001b[0mkeywords\u001b[0m\u001b[0;34m\u001b[0m\u001b[0m\n\u001b[0;32m--> 446\u001b[0;31m         \u001b[0mself\u001b[0m\u001b[0;34m.\u001b[0m\u001b[0msubConverter\u001b[0m\u001b[0;34m.\u001b[0m\u001b[0mparseFile\u001b[0m\u001b[0;34m(\u001b[0m\u001b[0mfp\u001b[0m\u001b[0;34m,\u001b[0m \u001b[0mnumber\u001b[0m\u001b[0;34m=\u001b[0m\u001b[0mnumber\u001b[0m\u001b[0;34m,\u001b[0m \u001b[0;34m**\u001b[0m\u001b[0mkeywords\u001b[0m\u001b[0;34m)\u001b[0m\u001b[0;34m\u001b[0m\u001b[0m\n\u001b[0m\u001b[1;32m    447\u001b[0m         \u001b[0mself\u001b[0m\u001b[0;34m.\u001b[0m\u001b[0mstream\u001b[0m\u001b[0;34m.\u001b[0m\u001b[0mfilePath\u001b[0m \u001b[0;34m=\u001b[0m \u001b[0mfp\u001b[0m\u001b[0;34m\u001b[0m\u001b[0m\n\u001b[1;32m    448\u001b[0m         \u001b[0mself\u001b[0m\u001b[0;34m.\u001b[0m\u001b[0mstream\u001b[0m\u001b[0;34m.\u001b[0m\u001b[0mfileNumber\u001b[0m \u001b[0;34m=\u001b[0m \u001b[0mnumber\u001b[0m\u001b[0;34m\u001b[0m\u001b[0m\n",
      "\u001b[0;32m/Users/naoya/anaconda/lib/python3.5/site-packages/music21/converter/subConverters.py\u001b[0m in \u001b[0;36mparseFile\u001b[0;34m(self, fp, number, **keywords)\u001b[0m\n\u001b[1;32m    848\u001b[0m         '''\n\u001b[1;32m    849\u001b[0m         \u001b[0;32mfrom\u001b[0m \u001b[0mmusic21\u001b[0m\u001b[0;34m.\u001b[0m\u001b[0mmidi\u001b[0m \u001b[0;32mimport\u001b[0m \u001b[0mtranslate\u001b[0m \u001b[0;32mas\u001b[0m \u001b[0mmidiTranslate\u001b[0m\u001b[0;34m\u001b[0m\u001b[0m\n\u001b[0;32m--> 850\u001b[0;31m         \u001b[0mmidiTranslate\u001b[0m\u001b[0;34m.\u001b[0m\u001b[0mmidiFilePathToStream\u001b[0m\u001b[0;34m(\u001b[0m\u001b[0mfp\u001b[0m\u001b[0;34m,\u001b[0m \u001b[0mself\u001b[0m\u001b[0;34m.\u001b[0m\u001b[0mstream\u001b[0m\u001b[0;34m,\u001b[0m \u001b[0;34m**\u001b[0m\u001b[0mkeywords\u001b[0m\u001b[0;34m)\u001b[0m\u001b[0;34m\u001b[0m\u001b[0m\n\u001b[0m\u001b[1;32m    851\u001b[0m \u001b[0;34m\u001b[0m\u001b[0m\n\u001b[1;32m    852\u001b[0m     \u001b[0;32mdef\u001b[0m \u001b[0mwrite\u001b[0m\u001b[0;34m(\u001b[0m\u001b[0mself\u001b[0m\u001b[0;34m,\u001b[0m \u001b[0mobj\u001b[0m\u001b[0;34m,\u001b[0m \u001b[0mfmt\u001b[0m\u001b[0;34m,\u001b[0m \u001b[0mfp\u001b[0m\u001b[0;34m=\u001b[0m\u001b[0;32mNone\u001b[0m\u001b[0;34m,\u001b[0m \u001b[0msubformats\u001b[0m\u001b[0;34m=\u001b[0m\u001b[0;32mNone\u001b[0m\u001b[0;34m,\u001b[0m \u001b[0;34m**\u001b[0m\u001b[0mkeywords\u001b[0m\u001b[0;34m)\u001b[0m\u001b[0;34m:\u001b[0m\u001b[0;34m\u001b[0m\u001b[0m\n",
      "\u001b[0;32m/Users/naoya/anaconda/lib/python3.5/site-packages/music21/midi/translate.py\u001b[0m in \u001b[0;36mmidiFilePathToStream\u001b[0;34m(filePath, inputM21, **keywords)\u001b[0m\n\u001b[1;32m   1945\u001b[0m     \u001b[0mmf\u001b[0m\u001b[0;34m.\u001b[0m\u001b[0mread\u001b[0m\u001b[0;34m(\u001b[0m\u001b[0;34m)\u001b[0m\u001b[0;34m\u001b[0m\u001b[0m\n\u001b[1;32m   1946\u001b[0m     \u001b[0mmf\u001b[0m\u001b[0;34m.\u001b[0m\u001b[0mclose\u001b[0m\u001b[0;34m(\u001b[0m\u001b[0;34m)\u001b[0m\u001b[0;34m\u001b[0m\u001b[0m\n\u001b[0;32m-> 1947\u001b[0;31m     \u001b[0;32mreturn\u001b[0m \u001b[0mmidiFileToStream\u001b[0m\u001b[0;34m(\u001b[0m\u001b[0mmf\u001b[0m\u001b[0;34m,\u001b[0m \u001b[0minputM21\u001b[0m\u001b[0;34m,\u001b[0m \u001b[0;34m**\u001b[0m\u001b[0mkeywords\u001b[0m\u001b[0;34m)\u001b[0m\u001b[0;34m\u001b[0m\u001b[0m\n\u001b[0m\u001b[1;32m   1948\u001b[0m \u001b[0;34m\u001b[0m\u001b[0m\n\u001b[1;32m   1949\u001b[0m \u001b[0;34m\u001b[0m\u001b[0m\n",
      "\u001b[0;32m/Users/naoya/anaconda/lib/python3.5/site-packages/music21/midi/translate.py\u001b[0m in \u001b[0;36mmidiFileToStream\u001b[0;34m(mf, inputM21, quantizePost, **keywords)\u001b[0m\n\u001b[1;32m   2086\u001b[0m                             \u001b[0mquantizePost\u001b[0m\u001b[0;34m=\u001b[0m\u001b[0mquantizePost\u001b[0m\u001b[0;34m,\u001b[0m\u001b[0;34m\u001b[0m\u001b[0m\n\u001b[1;32m   2087\u001b[0m                             \u001b[0minputM21\u001b[0m\u001b[0;34m=\u001b[0m\u001b[0ms\u001b[0m\u001b[0;34m,\u001b[0m\u001b[0;34m\u001b[0m\u001b[0m\n\u001b[0;32m-> 2088\u001b[0;31m                             **keywords)\n\u001b[0m\u001b[1;32m   2089\u001b[0m         \u001b[0;31m#s._setMidiTracks(mf.tracks, mf.ticksPerQuarterNote)\u001b[0m\u001b[0;34m\u001b[0m\u001b[0;34m\u001b[0m\u001b[0m\n\u001b[1;32m   2090\u001b[0m \u001b[0;34m\u001b[0m\u001b[0m\n",
      "\u001b[0;32m/Users/naoya/anaconda/lib/python3.5/site-packages/music21/midi/translate.py\u001b[0m in \u001b[0;36mmidiTracksToStreams\u001b[0;34m(midiTracks, ticksPerQuarter, quantizePost, inputM21, **keywords)\u001b[0m\n\u001b[1;32m   1847\u001b[0m             \u001b[0mstreamPart\u001b[0m \u001b[0;34m=\u001b[0m \u001b[0mstream\u001b[0m\u001b[0;34m.\u001b[0m\u001b[0mPart\u001b[0m\u001b[0;34m(\u001b[0m\u001b[0;34m)\u001b[0m \u001b[0;31m# create a part instance for each part\u001b[0m\u001b[0;34m\u001b[0m\u001b[0m\n\u001b[1;32m   1848\u001b[0m             midiTrackToStream(mt, ticksPerQuarter, quantizePost, \n\u001b[0;32m-> 1849\u001b[0;31m                               inputM21=streamPart, **keywords)\n\u001b[0m\u001b[1;32m   1850\u001b[0m \u001b[0;31m#             streamPart._setMidiTracksPart(mt,\u001b[0m\u001b[0;34m\u001b[0m\u001b[0;34m\u001b[0m\u001b[0m\n\u001b[1;32m   1851\u001b[0m \u001b[0;31m#                 ticksPerQuarter=ticksPerQuarter, quantizePost=quantizePost)\u001b[0m\u001b[0;34m\u001b[0m\u001b[0;34m\u001b[0m\u001b[0m\n",
      "\u001b[0;32m/Users/naoya/anaconda/lib/python3.5/site-packages/music21/midi/translate.py\u001b[0m in \u001b[0;36mmidiTrackToStream\u001b[0;34m(mt, ticksPerQuarter, quantizePost, inputM21, **keywords)\u001b[0m\n\u001b[1;32m   1632\u001b[0m         \u001b[0;32mpass\u001b[0m\u001b[0;34m\u001b[0m\u001b[0m\n\u001b[1;32m   1633\u001b[0m         \u001b[0;31m# this procedure will make the appropriate rests\u001b[0m\u001b[0;34m\u001b[0m\u001b[0;34m\u001b[0m\u001b[0m\n\u001b[0;32m-> 1634\u001b[0;31m         \u001b[0ms\u001b[0m\u001b[0;34m.\u001b[0m\u001b[0mmakeVoices\u001b[0m\u001b[0;34m(\u001b[0m\u001b[0minPlace\u001b[0m\u001b[0;34m=\u001b[0m\u001b[0;32mTrue\u001b[0m\u001b[0;34m,\u001b[0m \u001b[0mfillGaps\u001b[0m\u001b[0;34m=\u001b[0m\u001b[0;32mTrue\u001b[0m\u001b[0;34m)\u001b[0m\u001b[0;34m\u001b[0m\u001b[0m\n\u001b[0m\u001b[1;32m   1635\u001b[0m     \u001b[0;32melse\u001b[0m\u001b[0;34m:\u001b[0m\u001b[0;34m\u001b[0m\u001b[0m\n\u001b[1;32m   1636\u001b[0m         \u001b[0;31m# always need to fill gaps, as rests are not found in any other way\u001b[0m\u001b[0;34m\u001b[0m\u001b[0;34m\u001b[0m\u001b[0m\n",
      "\u001b[0;32m/Users/naoya/anaconda/lib/python3.5/site-packages/music21/stream/__init__.py\u001b[0m in \u001b[0;36mmakeVoices\u001b[0;34m(self, inPlace, fillGaps)\u001b[0m\n\u001b[1;32m   9749\u001b[0m         \u001b[0;32mif\u001b[0m \u001b[0;32mnot\u001b[0m \u001b[0mreturnObj\u001b[0m\u001b[0;34m.\u001b[0m\u001b[0misSorted\u001b[0m\u001b[0;34m:\u001b[0m\u001b[0;34m\u001b[0m\u001b[0m\n\u001b[1;32m   9750\u001b[0m             \u001b[0mreturnObj\u001b[0m\u001b[0;34m.\u001b[0m\u001b[0msort\u001b[0m\u001b[0;34m(\u001b[0m\u001b[0;34m)\u001b[0m\u001b[0;34m\u001b[0m\u001b[0m\n\u001b[0;32m-> 9751\u001b[0;31m         \u001b[0molDict\u001b[0m \u001b[0;34m=\u001b[0m \u001b[0mreturnObj\u001b[0m\u001b[0;34m.\u001b[0m\u001b[0mnotes\u001b[0m\u001b[0;34m.\u001b[0m\u001b[0mstream\u001b[0m\u001b[0;34m(\u001b[0m\u001b[0;34m)\u001b[0m\u001b[0;34m.\u001b[0m\u001b[0mgetOverlaps\u001b[0m\u001b[0;34m(\u001b[0m\u001b[0;34m)\u001b[0m\u001b[0;34m\u001b[0m\u001b[0m\n\u001b[0m\u001b[1;32m   9752\u001b[0m         \u001b[0;31m#environLocal.printDebug(['makeVoices(): olDict', olDict])\u001b[0m\u001b[0;34m\u001b[0m\u001b[0;34m\u001b[0m\u001b[0m\n\u001b[1;32m   9753\u001b[0m         \u001b[0;31m# find the max necessary voices by finding the max number\u001b[0m\u001b[0;34m\u001b[0m\u001b[0;34m\u001b[0m\u001b[0m\n",
      "\u001b[0;32m/Users/naoya/anaconda/lib/python3.5/site-packages/music21/stream/__init__.py\u001b[0m in \u001b[0;36mgetOverlaps\u001b[0;34m(self)\u001b[0m\n\u001b[1;32m   9406\u001b[0m \u001b[0;34m\u001b[0m\u001b[0m\n\u001b[1;32m   9407\u001b[0m         '''\n\u001b[0;32m-> 9408\u001b[0;31m         \u001b[0moverlapMap\u001b[0m \u001b[0;34m=\u001b[0m \u001b[0mself\u001b[0m\u001b[0;34m.\u001b[0m\u001b[0m_findLayering\u001b[0m\u001b[0;34m(\u001b[0m\u001b[0;34m)\u001b[0m\u001b[0;34m\u001b[0m\u001b[0m\n\u001b[0m\u001b[1;32m   9409\u001b[0m         \u001b[0;31m#environLocal.printDebug(['overlapMap', overlapMap])\u001b[0m\u001b[0;34m\u001b[0m\u001b[0;34m\u001b[0m\u001b[0m\n\u001b[1;32m   9410\u001b[0m \u001b[0;34m\u001b[0m\u001b[0m\n",
      "\u001b[0;32m/Users/naoya/anaconda/lib/python3.5/site-packages/music21/stream/__init__.py\u001b[0m in \u001b[0;36m_findLayering\u001b[0;34m(self)\u001b[0m\n\u001b[1;32m   9223\u001b[0m                         \u001b[0moverlapMap\u001b[0m\u001b[0;34m[\u001b[0m\u001b[0mi\u001b[0m\u001b[0;34m]\u001b[0m\u001b[0;34m.\u001b[0m\u001b[0mappend\u001b[0m\u001b[0;34m(\u001b[0m\u001b[0mj\u001b[0m\u001b[0;34m)\u001b[0m\u001b[0;34m\u001b[0m\u001b[0m\n\u001b[1;32m   9224\u001b[0m                 \u001b[0;32mexcept\u001b[0m \u001b[0mKeyError\u001b[0m\u001b[0;34m:\u001b[0m\u001b[0;34m\u001b[0m\u001b[0m\n\u001b[0;32m-> 9225\u001b[0;31m                     \u001b[0mdurSpanResult\u001b[0m \u001b[0;34m=\u001b[0m \u001b[0mself\u001b[0m\u001b[0;34m.\u001b[0m\u001b[0m_durSpanOverlap\u001b[0m\u001b[0;34m(\u001b[0m\u001b[0msrc\u001b[0m\u001b[0;34m,\u001b[0m \u001b[0mdst\u001b[0m\u001b[0;34m)\u001b[0m\u001b[0;34m\u001b[0m\u001b[0m\n\u001b[0m\u001b[1;32m   9226\u001b[0m                     \u001b[0mdurSpanOverlapCache\u001b[0m\u001b[0;34m[\u001b[0m\u001b[0mhashKey\u001b[0m\u001b[0;34m]\u001b[0m \u001b[0;34m=\u001b[0m \u001b[0mdurSpanResult\u001b[0m\u001b[0;34m\u001b[0m\u001b[0m\n\u001b[1;32m   9227\u001b[0m                     \u001b[0;32mif\u001b[0m \u001b[0mdurSpanResult\u001b[0m\u001b[0;34m:\u001b[0m\u001b[0;34m\u001b[0m\u001b[0m\n",
      "\u001b[0;32m/Users/naoya/anaconda/lib/python3.5/site-packages/music21/stream/__init__.py\u001b[0m in \u001b[0;36m_durSpanOverlap\u001b[0;34m(self, a, b, includeEndBoundary)\u001b[0m\n\u001b[1;32m   9165\u001b[0m         \u001b[0mdurSpans\u001b[0m \u001b[0;34m=\u001b[0m \u001b[0;34m[\u001b[0m\u001b[0ma\u001b[0m\u001b[0;34m,\u001b[0m \u001b[0mb\u001b[0m\u001b[0;34m]\u001b[0m\u001b[0;34m\u001b[0m\u001b[0m\n\u001b[1;32m   9166\u001b[0m         \u001b[0;31m# sorting will ensure that leading numbers are ordered from low to high\u001b[0m\u001b[0;34m\u001b[0m\u001b[0;34m\u001b[0m\u001b[0m\n\u001b[0;32m-> 9167\u001b[0;31m         \u001b[0mdurSpans\u001b[0m\u001b[0;34m.\u001b[0m\u001b[0msort\u001b[0m\u001b[0;34m(\u001b[0m\u001b[0;34m)\u001b[0m\u001b[0;34m\u001b[0m\u001b[0m\n\u001b[0m\u001b[1;32m   9168\u001b[0m         \u001b[0mfound\u001b[0m \u001b[0;34m=\u001b[0m \u001b[0;32mFalse\u001b[0m\u001b[0;34m\u001b[0m\u001b[0m\n\u001b[1;32m   9169\u001b[0m \u001b[0;34m\u001b[0m\u001b[0m\n",
      "\u001b[0;32m/Users/naoya/anaconda/lib/python3.5/fractions.py\u001b[0m in \u001b[0;36m__gt__\u001b[0;34m(a, b)\u001b[0m\n\u001b[1;32m    634\u001b[0m     \u001b[0;32mdef\u001b[0m \u001b[0m__gt__\u001b[0m\u001b[0;34m(\u001b[0m\u001b[0ma\u001b[0m\u001b[0;34m,\u001b[0m \u001b[0mb\u001b[0m\u001b[0;34m)\u001b[0m\u001b[0;34m:\u001b[0m\u001b[0;34m\u001b[0m\u001b[0m\n\u001b[1;32m    635\u001b[0m         \u001b[0;34m\"\"\"a > b\"\"\"\u001b[0m\u001b[0;34m\u001b[0m\u001b[0m\n\u001b[0;32m--> 636\u001b[0;31m         \u001b[0;32mreturn\u001b[0m \u001b[0ma\u001b[0m\u001b[0;34m.\u001b[0m\u001b[0m_richcmp\u001b[0m\u001b[0;34m(\u001b[0m\u001b[0mb\u001b[0m\u001b[0;34m,\u001b[0m \u001b[0moperator\u001b[0m\u001b[0;34m.\u001b[0m\u001b[0mgt\u001b[0m\u001b[0;34m)\u001b[0m\u001b[0;34m\u001b[0m\u001b[0m\n\u001b[0m\u001b[1;32m    637\u001b[0m \u001b[0;34m\u001b[0m\u001b[0m\n\u001b[1;32m    638\u001b[0m     \u001b[0;32mdef\u001b[0m \u001b[0m__le__\u001b[0m\u001b[0;34m(\u001b[0m\u001b[0ma\u001b[0m\u001b[0;34m,\u001b[0m \u001b[0mb\u001b[0m\u001b[0;34m)\u001b[0m\u001b[0;34m:\u001b[0m\u001b[0;34m\u001b[0m\u001b[0m\n",
      "\u001b[0;32m/Users/naoya/anaconda/lib/python3.5/fractions.py\u001b[0m in \u001b[0;36m_richcmp\u001b[0;34m(self, other, op)\u001b[0m\n\u001b[1;32m    617\u001b[0m         \"\"\"\n\u001b[1;32m    618\u001b[0m         \u001b[0;31m# convert other to a Rational instance where reasonable.\u001b[0m\u001b[0;34m\u001b[0m\u001b[0;34m\u001b[0m\u001b[0m\n\u001b[0;32m--> 619\u001b[0;31m         \u001b[0;32mif\u001b[0m \u001b[0misinstance\u001b[0m\u001b[0;34m(\u001b[0m\u001b[0mother\u001b[0m\u001b[0;34m,\u001b[0m \u001b[0mnumbers\u001b[0m\u001b[0;34m.\u001b[0m\u001b[0mRational\u001b[0m\u001b[0;34m)\u001b[0m\u001b[0;34m:\u001b[0m\u001b[0;34m\u001b[0m\u001b[0m\n\u001b[0m\u001b[1;32m    620\u001b[0m             return op(self._numerator * other.denominator,\n\u001b[1;32m    621\u001b[0m                       self._denominator * other.numerator)\n",
      "\u001b[0;32m/Users/naoya/anaconda/lib/python3.5/abc.py\u001b[0m in \u001b[0;36m__instancecheck__\u001b[0;34m(cls, instance)\u001b[0m\n\u001b[1;32m    186\u001b[0m             if (cls._abc_negative_cache_version ==\n\u001b[1;32m    187\u001b[0m                 \u001b[0mABCMeta\u001b[0m\u001b[0;34m.\u001b[0m\u001b[0m_abc_invalidation_counter\u001b[0m \u001b[0;32mand\u001b[0m\u001b[0;34m\u001b[0m\u001b[0m\n\u001b[0;32m--> 188\u001b[0;31m                 subclass in cls._abc_negative_cache):\n\u001b[0m\u001b[1;32m    189\u001b[0m                 \u001b[0;32mreturn\u001b[0m \u001b[0;32mFalse\u001b[0m\u001b[0;34m\u001b[0m\u001b[0m\n\u001b[1;32m    190\u001b[0m             \u001b[0;31m# Fall back to the subclass check.\u001b[0m\u001b[0;34m\u001b[0m\u001b[0;34m\u001b[0m\u001b[0m\n",
      "\u001b[0;32m/Users/naoya/anaconda/lib/python3.5/_weakrefset.py\u001b[0m in \u001b[0;36m__contains__\u001b[0;34m(self, item)\u001b[0m\n\u001b[1;32m     68\u001b[0m         \u001b[0;32mreturn\u001b[0m \u001b[0mlen\u001b[0m\u001b[0;34m(\u001b[0m\u001b[0mself\u001b[0m\u001b[0;34m.\u001b[0m\u001b[0mdata\u001b[0m\u001b[0;34m)\u001b[0m \u001b[0;34m-\u001b[0m \u001b[0mlen\u001b[0m\u001b[0;34m(\u001b[0m\u001b[0mself\u001b[0m\u001b[0;34m.\u001b[0m\u001b[0m_pending_removals\u001b[0m\u001b[0;34m)\u001b[0m\u001b[0;34m\u001b[0m\u001b[0m\n\u001b[1;32m     69\u001b[0m \u001b[0;34m\u001b[0m\u001b[0m\n\u001b[0;32m---> 70\u001b[0;31m     \u001b[0;32mdef\u001b[0m \u001b[0m__contains__\u001b[0m\u001b[0;34m(\u001b[0m\u001b[0mself\u001b[0m\u001b[0;34m,\u001b[0m \u001b[0mitem\u001b[0m\u001b[0;34m)\u001b[0m\u001b[0;34m:\u001b[0m\u001b[0;34m\u001b[0m\u001b[0m\n\u001b[0m\u001b[1;32m     71\u001b[0m         \u001b[0;32mtry\u001b[0m\u001b[0;34m:\u001b[0m\u001b[0;34m\u001b[0m\u001b[0m\n\u001b[1;32m     72\u001b[0m             \u001b[0mwr\u001b[0m \u001b[0;34m=\u001b[0m \u001b[0mref\u001b[0m\u001b[0;34m(\u001b[0m\u001b[0mitem\u001b[0m\u001b[0;34m)\u001b[0m\u001b[0;34m\u001b[0m\u001b[0m\n",
      "\u001b[0;31mKeyboardInterrupt\u001b[0m: "
     ]
    }
   ],
   "source": [
    "s = converter.parse('bach/bwv1011.mid')"
   ]
  },
  {
   "cell_type": "code",
   "execution_count": 57,
   "metadata": {
    "collapsed": true
   },
   "outputs": [],
   "source": [
    "files = []\n",
    "for suite in ['1007', '1008', '1009', '1010', '1011', '1012']:\n",
    "    for mvt in ['1', '2', '3', '4', '5', '6']:\n",
    "        filename = 'bwv{}_0{}.mid'.format(suite, mvt)\n",
    "        files.append(filename)"
   ]
  },
  {
   "cell_type": "code",
   "execution_count": 65,
   "metadata": {
    "collapsed": false
   },
   "outputs": [
    {
     "name": "stdout",
     "output_type": "stream",
     "text": [
      "G major\n",
      "G major\n",
      "G major\n",
      "G major\n",
      "G major\n",
      "G major\n",
      "d minor\n",
      "d minor\n",
      "d minor\n",
      "d minor\n",
      "d minor\n",
      "d minor\n",
      "C major\n",
      "C major\n",
      "C major\n",
      "C major\n",
      "C major\n",
      "C major\n",
      "E- major\n",
      "E- major\n",
      "E- major\n",
      "E- major\n",
      "E- major\n",
      "E- major\n",
      "c minor\n",
      "c minor\n",
      "c minor\n",
      "c minor\n",
      "c minor\n",
      "c minor\n",
      "D major\n",
      "D major\n",
      "D major\n",
      "D major\n",
      "D major\n",
      "D major\n"
     ]
    }
   ],
   "source": [
    "for file in files:\n",
    "    midi_stream = converter.parse('bach_suites/{}'.format(file))\n",
    "    midi_stream = midi_stream[0]\n",
    "    \n",
    "    if '1008' in file or '1011' in file:\n",
    "        midi_stream.keySignature = midi_stream.keySignature.relative\n",
    "    print(midi_stream.keySignature)"
   ]
  },
  {
   "cell_type": "code",
   "execution_count": 61,
   "metadata": {
    "collapsed": true
   },
   "outputs": [],
   "source": [
    "from corpus import *"
   ]
  },
  {
   "cell_type": "code",
   "execution_count": 64,
   "metadata": {
    "collapsed": false
   },
   "outputs": [],
   "source": [
    "melody_corpus, melody_set, notes_indices, indices_notes = build_corpus(['bach_suites/{}'.format(f) for f in files])"
   ]
  },
  {
   "cell_type": "code",
   "execution_count": null,
   "metadata": {
    "collapsed": true
   },
   "outputs": [],
   "source": []
  }
 ],
 "metadata": {
  "anaconda-cloud": {},
  "kernelspec": {
   "display_name": "Python [conda root]",
   "language": "python",
   "name": "conda-root-py"
  },
  "language_info": {
   "codemirror_mode": {
    "name": "ipython",
    "version": 3
   },
   "file_extension": ".py",
   "mimetype": "text/x-python",
   "name": "python",
   "nbconvert_exporter": "python",
   "pygments_lexer": "ipython3",
   "version": "3.5.2"
  }
 },
 "nbformat": 4,
 "nbformat_minor": 0
}
